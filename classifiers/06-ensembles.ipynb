{
 "cells": [
  {
   "cell_type": "code",
   "execution_count": 1,
   "metadata": {},
   "outputs": [],
   "source": [
    "import numpy as np\n",
    "import pandas as pd\n",
    "from pathlib import Path\n",
    "import os\n",
    "\n",
    "from sklearn.model_selection import RandomizedSearchCV, GridSearchCV, StratifiedKFold, train_test_split\n",
    "from sklearn.ensemble import HistGradientBoostingClassifier, RandomForestClassifier\n",
    "\n",
    "\n",
    "import xgboost as xgb\n",
    "from xgboost import XGBClassifier\n",
    "\n",
    "import re\n",
    "\n",
    "import sys\n",
    "sys.path.append(os.path.abspath('..'))\n",
    "\n",
    "from util import evaluate_model_performance, evaluate_model_fairness"
   ]
  },
  {
   "cell_type": "code",
   "execution_count": 2,
   "metadata": {},
   "outputs": [],
   "source": [
    "data_path = Path(os.getcwd()).parent.parent / \"data\" / \"dataset_diabetes\"\n",
    "df = pd.read_csv(data_path / \"diabetic_preprocessed.csv\")"
   ]
  },
  {
   "cell_type": "code",
   "execution_count": 3,
   "metadata": {},
   "outputs": [],
   "source": [
    "df[\"age\"] = df[\"age_all\"]\n",
    "\n",
    "columns_to_remove = ['encounter_id', 'patient_nbr', 'readmitted', 'readmit_binary', 'diabetes_type', \\\n",
    "    'had_emergency', 'had_inpatient_days', 'had_outpatient_days', 'race_all', 'age_all']\n",
    "\n",
    "df_for_experimenting = df.drop(columns=columns_to_remove)"
   ]
  },
  {
   "cell_type": "code",
   "execution_count": 4,
   "metadata": {},
   "outputs": [],
   "source": [
    "target_variable = \"readmit_30_days\"\n",
    "Y= df_for_experimenting.loc[:, target_variable]\n",
    "X = pd.get_dummies(df_for_experimenting.drop(columns=[\"readmit_30_days\"]))"
   ]
  },
  {
   "cell_type": "code",
   "execution_count": 5,
   "metadata": {},
   "outputs": [],
   "source": [
    "regex = re.compile(r\"\\[|\\]|<\", re.IGNORECASE)\n",
    "\n",
    "X.columns = [regex.sub(\"_\", col) if any(x in str(col) for x in set(('[', ']', '<'))) else col for col in X.columns.values]"
   ]
  },
  {
   "cell_type": "code",
   "execution_count": 6,
   "metadata": {},
   "outputs": [],
   "source": [
    "random_seed = 445\n",
    "np.random.seed(random_seed)\n",
    "\n",
    "df_train, df_test, X_train, X_test, Y_train, Y_test = train_test_split(\n",
    "    df_for_experimenting,\n",
    "    X,\n",
    "    Y,\n",
    "    test_size=0.20,\n",
    "    stratify=Y,\n",
    "    random_state=random_seed\n",
    ")"
   ]
  },
  {
   "attachments": {},
   "cell_type": "markdown",
   "metadata": {},
   "source": [
    "### XGBoosted tree for classification"
   ]
  },
  {
   "cell_type": "code",
   "execution_count": 7,
   "metadata": {},
   "outputs": [
    {
     "name": "stdout",
     "output_type": "stream",
     "text": [
      "Fitting 3 folds for each of 500 candidates, totalling 1500 fits\n",
      "[04:57:11] WARNING: C:\\buildkite-agent\\builds\\buildkite-windows-cpu-autoscaling-group-i-07593ffd91cd9da33-1\\xgboost\\xgboost-ci-windows\\src\\learner.cc:767: \n",
      "Parameters: { \"silent\" } are not used.\n",
      "\n"
     ]
    },
    {
     "data": {
      "text/html": [
       "<style>#sk-container-id-1 {color: black;background-color: white;}#sk-container-id-1 pre{padding: 0;}#sk-container-id-1 div.sk-toggleable {background-color: white;}#sk-container-id-1 label.sk-toggleable__label {cursor: pointer;display: block;width: 100%;margin-bottom: 0;padding: 0.3em;box-sizing: border-box;text-align: center;}#sk-container-id-1 label.sk-toggleable__label-arrow:before {content: \"▸\";float: left;margin-right: 0.25em;color: #696969;}#sk-container-id-1 label.sk-toggleable__label-arrow:hover:before {color: black;}#sk-container-id-1 div.sk-estimator:hover label.sk-toggleable__label-arrow:before {color: black;}#sk-container-id-1 div.sk-toggleable__content {max-height: 0;max-width: 0;overflow: hidden;text-align: left;background-color: #f0f8ff;}#sk-container-id-1 div.sk-toggleable__content pre {margin: 0.2em;color: black;border-radius: 0.25em;background-color: #f0f8ff;}#sk-container-id-1 input.sk-toggleable__control:checked~div.sk-toggleable__content {max-height: 200px;max-width: 100%;overflow: auto;}#sk-container-id-1 input.sk-toggleable__control:checked~label.sk-toggleable__label-arrow:before {content: \"▾\";}#sk-container-id-1 div.sk-estimator input.sk-toggleable__control:checked~label.sk-toggleable__label {background-color: #d4ebff;}#sk-container-id-1 div.sk-label input.sk-toggleable__control:checked~label.sk-toggleable__label {background-color: #d4ebff;}#sk-container-id-1 input.sk-hidden--visually {border: 0;clip: rect(1px 1px 1px 1px);clip: rect(1px, 1px, 1px, 1px);height: 1px;margin: -1px;overflow: hidden;padding: 0;position: absolute;width: 1px;}#sk-container-id-1 div.sk-estimator {font-family: monospace;background-color: #f0f8ff;border: 1px dotted black;border-radius: 0.25em;box-sizing: border-box;margin-bottom: 0.5em;}#sk-container-id-1 div.sk-estimator:hover {background-color: #d4ebff;}#sk-container-id-1 div.sk-parallel-item::after {content: \"\";width: 100%;border-bottom: 1px solid gray;flex-grow: 1;}#sk-container-id-1 div.sk-label:hover label.sk-toggleable__label {background-color: #d4ebff;}#sk-container-id-1 div.sk-serial::before {content: \"\";position: absolute;border-left: 1px solid gray;box-sizing: border-box;top: 0;bottom: 0;left: 50%;z-index: 0;}#sk-container-id-1 div.sk-serial {display: flex;flex-direction: column;align-items: center;background-color: white;padding-right: 0.2em;padding-left: 0.2em;position: relative;}#sk-container-id-1 div.sk-item {position: relative;z-index: 1;}#sk-container-id-1 div.sk-parallel {display: flex;align-items: stretch;justify-content: center;background-color: white;position: relative;}#sk-container-id-1 div.sk-item::before, #sk-container-id-1 div.sk-parallel-item::before {content: \"\";position: absolute;border-left: 1px solid gray;box-sizing: border-box;top: 0;bottom: 0;left: 50%;z-index: -1;}#sk-container-id-1 div.sk-parallel-item {display: flex;flex-direction: column;z-index: 1;position: relative;background-color: white;}#sk-container-id-1 div.sk-parallel-item:first-child::after {align-self: flex-end;width: 50%;}#sk-container-id-1 div.sk-parallel-item:last-child::after {align-self: flex-start;width: 50%;}#sk-container-id-1 div.sk-parallel-item:only-child::after {width: 0;}#sk-container-id-1 div.sk-dashed-wrapped {border: 1px dashed gray;margin: 0 0.4em 0.5em 0.4em;box-sizing: border-box;padding-bottom: 0.4em;background-color: white;}#sk-container-id-1 div.sk-label label {font-family: monospace;font-weight: bold;display: inline-block;line-height: 1.2em;}#sk-container-id-1 div.sk-label-container {text-align: center;}#sk-container-id-1 div.sk-container {/* jupyter's `normalize.less` sets `[hidden] { display: none; }` but bootstrap.min.css set `[hidden] { display: none !important; }` so we also need the `!important` here to be able to override the default hidden behavior on the sphinx rendered scikit-learn.org. See: https://github.com/scikit-learn/scikit-learn/issues/21755 */display: inline-block !important;position: relative;}#sk-container-id-1 div.sk-text-repr-fallback {display: none;}</style><div id=\"sk-container-id-1\" class=\"sk-top-container\"><div class=\"sk-text-repr-fallback\"><pre>RandomizedSearchCV(cv=StratifiedKFold(n_splits=3, random_state=None, shuffle=False),\n",
       "                   estimator=XGBClassifier(base_score=None, booster=None,\n",
       "                                           callbacks=None,\n",
       "                                           colsample_bylevel=None,\n",
       "                                           colsample_bynode=None,\n",
       "                                           colsample_bytree=None,\n",
       "                                           early_stopping_rounds=None,\n",
       "                                           enable_categorical=False,\n",
       "                                           eval_metric=None, feature_types=None,\n",
       "                                           gamma=None, gpu_id=None,\n",
       "                                           grow_policy=None,\n",
       "                                           impor...\n",
       "                                           nthread=-1, num_parallel_tree=None,\n",
       "                                           objective=&#x27;binary:hinge&#x27;, ...),\n",
       "                   n_iter=500, n_jobs=-1,\n",
       "                   param_distributions={&#x27;booster&#x27;: [&#x27;gbtree&#x27;, &#x27;dart&#x27;],\n",
       "                                        &#x27;colsample_bytree&#x27;: [0.5, 0.75, 1.0],\n",
       "                                        &#x27;gamma&#x27;: [0, 0.5, 1, 1.5, 2, 5],\n",
       "                                        &#x27;learning_rate&#x27;: [0.5, 0.3, 0.1, 0.05,\n",
       "                                                          0.01, 0.001],\n",
       "                                        &#x27;max_depth&#x27;: [4, 5, 6],\n",
       "                                        &#x27;min_child_weight&#x27;: [1, 5, 10],\n",
       "                                        &#x27;subsample&#x27;: [0.5, 0.75, 1.0]},\n",
       "                   scoring=&#x27;balanced_accuracy&#x27;, verbose=3)</pre><b>In a Jupyter environment, please rerun this cell to show the HTML representation or trust the notebook. <br />On GitHub, the HTML representation is unable to render, please try loading this page with nbviewer.org.</b></div><div class=\"sk-container\" hidden><div class=\"sk-item sk-dashed-wrapped\"><div class=\"sk-label-container\"><div class=\"sk-label sk-toggleable\"><input class=\"sk-toggleable__control sk-hidden--visually\" id=\"sk-estimator-id-1\" type=\"checkbox\" ><label for=\"sk-estimator-id-1\" class=\"sk-toggleable__label sk-toggleable__label-arrow\">RandomizedSearchCV</label><div class=\"sk-toggleable__content\"><pre>RandomizedSearchCV(cv=StratifiedKFold(n_splits=3, random_state=None, shuffle=False),\n",
       "                   estimator=XGBClassifier(base_score=None, booster=None,\n",
       "                                           callbacks=None,\n",
       "                                           colsample_bylevel=None,\n",
       "                                           colsample_bynode=None,\n",
       "                                           colsample_bytree=None,\n",
       "                                           early_stopping_rounds=None,\n",
       "                                           enable_categorical=False,\n",
       "                                           eval_metric=None, feature_types=None,\n",
       "                                           gamma=None, gpu_id=None,\n",
       "                                           grow_policy=None,\n",
       "                                           impor...\n",
       "                                           nthread=-1, num_parallel_tree=None,\n",
       "                                           objective=&#x27;binary:hinge&#x27;, ...),\n",
       "                   n_iter=500, n_jobs=-1,\n",
       "                   param_distributions={&#x27;booster&#x27;: [&#x27;gbtree&#x27;, &#x27;dart&#x27;],\n",
       "                                        &#x27;colsample_bytree&#x27;: [0.5, 0.75, 1.0],\n",
       "                                        &#x27;gamma&#x27;: [0, 0.5, 1, 1.5, 2, 5],\n",
       "                                        &#x27;learning_rate&#x27;: [0.5, 0.3, 0.1, 0.05,\n",
       "                                                          0.01, 0.001],\n",
       "                                        &#x27;max_depth&#x27;: [4, 5, 6],\n",
       "                                        &#x27;min_child_weight&#x27;: [1, 5, 10],\n",
       "                                        &#x27;subsample&#x27;: [0.5, 0.75, 1.0]},\n",
       "                   scoring=&#x27;balanced_accuracy&#x27;, verbose=3)</pre></div></div></div><div class=\"sk-parallel\"><div class=\"sk-parallel-item\"><div class=\"sk-item\"><div class=\"sk-label-container\"><div class=\"sk-label sk-toggleable\"><input class=\"sk-toggleable__control sk-hidden--visually\" id=\"sk-estimator-id-2\" type=\"checkbox\" ><label for=\"sk-estimator-id-2\" class=\"sk-toggleable__label sk-toggleable__label-arrow\">estimator: XGBClassifier</label><div class=\"sk-toggleable__content\"><pre>XGBClassifier(base_score=None, booster=None, callbacks=None,\n",
       "              colsample_bylevel=None, colsample_bynode=None,\n",
       "              colsample_bytree=None, early_stopping_rounds=None,\n",
       "              enable_categorical=False, eval_metric=None, feature_types=None,\n",
       "              gamma=None, gpu_id=None, grow_policy=None, importance_type=None,\n",
       "              interaction_constraints=None, learning_rate=None, max_bin=None,\n",
       "              max_cat_threshold=None, max_cat_to_onehot=None,\n",
       "              max_delta_step=None, max_depth=None, max_leaves=None,\n",
       "              min_child_weight=None, missing=nan, monotone_constraints=None,\n",
       "              n_estimators=100, n_jobs=None, nthread=-1, num_parallel_tree=None,\n",
       "              objective=&#x27;binary:hinge&#x27;, ...)</pre></div></div></div><div class=\"sk-serial\"><div class=\"sk-item\"><div class=\"sk-estimator sk-toggleable\"><input class=\"sk-toggleable__control sk-hidden--visually\" id=\"sk-estimator-id-3\" type=\"checkbox\" ><label for=\"sk-estimator-id-3\" class=\"sk-toggleable__label sk-toggleable__label-arrow\">XGBClassifier</label><div class=\"sk-toggleable__content\"><pre>XGBClassifier(base_score=None, booster=None, callbacks=None,\n",
       "              colsample_bylevel=None, colsample_bynode=None,\n",
       "              colsample_bytree=None, early_stopping_rounds=None,\n",
       "              enable_categorical=False, eval_metric=None, feature_types=None,\n",
       "              gamma=None, gpu_id=None, grow_policy=None, importance_type=None,\n",
       "              interaction_constraints=None, learning_rate=None, max_bin=None,\n",
       "              max_cat_threshold=None, max_cat_to_onehot=None,\n",
       "              max_delta_step=None, max_depth=None, max_leaves=None,\n",
       "              min_child_weight=None, missing=nan, monotone_constraints=None,\n",
       "              n_estimators=100, n_jobs=None, nthread=-1, num_parallel_tree=None,\n",
       "              objective=&#x27;binary:hinge&#x27;, ...)</pre></div></div></div></div></div></div></div></div></div></div>"
      ],
      "text/plain": [
       "RandomizedSearchCV(cv=StratifiedKFold(n_splits=3, random_state=None, shuffle=False),\n",
       "                   estimator=XGBClassifier(base_score=None, booster=None,\n",
       "                                           callbacks=None,\n",
       "                                           colsample_bylevel=None,\n",
       "                                           colsample_bynode=None,\n",
       "                                           colsample_bytree=None,\n",
       "                                           early_stopping_rounds=None,\n",
       "                                           enable_categorical=False,\n",
       "                                           eval_metric=None, feature_types=None,\n",
       "                                           gamma=None, gpu_id=None,\n",
       "                                           grow_policy=None,\n",
       "                                           impor...\n",
       "                                           nthread=-1, num_parallel_tree=None,\n",
       "                                           objective='binary:hinge', ...),\n",
       "                   n_iter=500, n_jobs=-1,\n",
       "                   param_distributions={'booster': ['gbtree', 'dart'],\n",
       "                                        'colsample_bytree': [0.5, 0.75, 1.0],\n",
       "                                        'gamma': [0, 0.5, 1, 1.5, 2, 5],\n",
       "                                        'learning_rate': [0.5, 0.3, 0.1, 0.05,\n",
       "                                                          0.01, 0.001],\n",
       "                                        'max_depth': [4, 5, 6],\n",
       "                                        'min_child_weight': [1, 5, 10],\n",
       "                                        'subsample': [0.5, 0.75, 1.0]},\n",
       "                   scoring='balanced_accuracy', verbose=3)"
      ]
     },
     "execution_count": 7,
     "metadata": {},
     "output_type": "execute_result"
    }
   ],
   "source": [
    "xgb = XGBClassifier(objective='binary:hinge', silent=True, nthread=-1)\n",
    "\n",
    "# A parameter grid for XGBoost\n",
    "params = {\n",
    "    'booster': ['gbtree', 'dart'],\n",
    "    'learning_rate': [0.5, 0.3, 0.1, 0.05, 0.01, 0.001],\n",
    "    'gamma': [0, 0.5, 1, 1.5, 2, 5],\n",
    "    'max_depth': [4, 5, 6],\n",
    "    'min_child_weight': [1, 5, 10],    \n",
    "    'subsample': [0.5, 0.75, 1.0],\n",
    "    'colsample_bytree': [0.5, 0.75, 1.0]    \n",
    "}\n",
    "\n",
    "random_search = RandomizedSearchCV(\n",
    "    estimator=xgb,\n",
    "    param_distributions=params,\n",
    "    cv=StratifiedKFold(n_splits=3),\n",
    "    n_jobs=-1,\n",
    "    scoring='balanced_accuracy',\n",
    "    verbose=3,\n",
    "    n_iter=500\n",
    ")\n",
    "\n",
    "random_search.fit(X_train, Y_train)"
   ]
  },
  {
   "cell_type": "code",
   "execution_count": 8,
   "metadata": {},
   "outputs": [
    {
     "name": "stdout",
     "output_type": "stream",
     "text": [
      "Best score:\n",
      "0.5299260038095884\n",
      "\n",
      " Best hyperparameters:\n",
      "{'subsample': 0.75, 'min_child_weight': 10, 'max_depth': 6, 'learning_rate': 0.01, 'gamma': 1, 'colsample_bytree': 1.0, 'booster': 'gbtree'}\n"
     ]
    }
   ],
   "source": [
    "print('Best score:')\n",
    "print(random_search.best_score_)\n",
    "print('\\n Best hyperparameters:')\n",
    "print(random_search.best_params_)\n",
    "results = pd.DataFrame(random_search.cv_results_)\n",
    "results.to_csv('xgb-random-grid-search-results-01.csv', index=False)"
   ]
  },
  {
   "cell_type": "code",
   "execution_count": 9,
   "metadata": {},
   "outputs": [
    {
     "name": "stdout",
     "output_type": "stream",
     "text": [
      "[04:57:27] WARNING: C:\\buildkite-agent\\builds\\buildkite-windows-cpu-autoscaling-group-i-07593ffd91cd9da33-1\\xgboost\\xgboost-ci-windows\\src\\learner.cc:767: \n",
      "Parameters: { \"silent\" } are not used.\n",
      "\n"
     ]
    },
    {
     "data": {
      "text/html": [
       "<style>#sk-container-id-2 {color: black;background-color: white;}#sk-container-id-2 pre{padding: 0;}#sk-container-id-2 div.sk-toggleable {background-color: white;}#sk-container-id-2 label.sk-toggleable__label {cursor: pointer;display: block;width: 100%;margin-bottom: 0;padding: 0.3em;box-sizing: border-box;text-align: center;}#sk-container-id-2 label.sk-toggleable__label-arrow:before {content: \"▸\";float: left;margin-right: 0.25em;color: #696969;}#sk-container-id-2 label.sk-toggleable__label-arrow:hover:before {color: black;}#sk-container-id-2 div.sk-estimator:hover label.sk-toggleable__label-arrow:before {color: black;}#sk-container-id-2 div.sk-toggleable__content {max-height: 0;max-width: 0;overflow: hidden;text-align: left;background-color: #f0f8ff;}#sk-container-id-2 div.sk-toggleable__content pre {margin: 0.2em;color: black;border-radius: 0.25em;background-color: #f0f8ff;}#sk-container-id-2 input.sk-toggleable__control:checked~div.sk-toggleable__content {max-height: 200px;max-width: 100%;overflow: auto;}#sk-container-id-2 input.sk-toggleable__control:checked~label.sk-toggleable__label-arrow:before {content: \"▾\";}#sk-container-id-2 div.sk-estimator input.sk-toggleable__control:checked~label.sk-toggleable__label {background-color: #d4ebff;}#sk-container-id-2 div.sk-label input.sk-toggleable__control:checked~label.sk-toggleable__label {background-color: #d4ebff;}#sk-container-id-2 input.sk-hidden--visually {border: 0;clip: rect(1px 1px 1px 1px);clip: rect(1px, 1px, 1px, 1px);height: 1px;margin: -1px;overflow: hidden;padding: 0;position: absolute;width: 1px;}#sk-container-id-2 div.sk-estimator {font-family: monospace;background-color: #f0f8ff;border: 1px dotted black;border-radius: 0.25em;box-sizing: border-box;margin-bottom: 0.5em;}#sk-container-id-2 div.sk-estimator:hover {background-color: #d4ebff;}#sk-container-id-2 div.sk-parallel-item::after {content: \"\";width: 100%;border-bottom: 1px solid gray;flex-grow: 1;}#sk-container-id-2 div.sk-label:hover label.sk-toggleable__label {background-color: #d4ebff;}#sk-container-id-2 div.sk-serial::before {content: \"\";position: absolute;border-left: 1px solid gray;box-sizing: border-box;top: 0;bottom: 0;left: 50%;z-index: 0;}#sk-container-id-2 div.sk-serial {display: flex;flex-direction: column;align-items: center;background-color: white;padding-right: 0.2em;padding-left: 0.2em;position: relative;}#sk-container-id-2 div.sk-item {position: relative;z-index: 1;}#sk-container-id-2 div.sk-parallel {display: flex;align-items: stretch;justify-content: center;background-color: white;position: relative;}#sk-container-id-2 div.sk-item::before, #sk-container-id-2 div.sk-parallel-item::before {content: \"\";position: absolute;border-left: 1px solid gray;box-sizing: border-box;top: 0;bottom: 0;left: 50%;z-index: -1;}#sk-container-id-2 div.sk-parallel-item {display: flex;flex-direction: column;z-index: 1;position: relative;background-color: white;}#sk-container-id-2 div.sk-parallel-item:first-child::after {align-self: flex-end;width: 50%;}#sk-container-id-2 div.sk-parallel-item:last-child::after {align-self: flex-start;width: 50%;}#sk-container-id-2 div.sk-parallel-item:only-child::after {width: 0;}#sk-container-id-2 div.sk-dashed-wrapped {border: 1px dashed gray;margin: 0 0.4em 0.5em 0.4em;box-sizing: border-box;padding-bottom: 0.4em;background-color: white;}#sk-container-id-2 div.sk-label label {font-family: monospace;font-weight: bold;display: inline-block;line-height: 1.2em;}#sk-container-id-2 div.sk-label-container {text-align: center;}#sk-container-id-2 div.sk-container {/* jupyter's `normalize.less` sets `[hidden] { display: none; }` but bootstrap.min.css set `[hidden] { display: none !important; }` so we also need the `!important` here to be able to override the default hidden behavior on the sphinx rendered scikit-learn.org. See: https://github.com/scikit-learn/scikit-learn/issues/21755 */display: inline-block !important;position: relative;}#sk-container-id-2 div.sk-text-repr-fallback {display: none;}</style><div id=\"sk-container-id-2\" class=\"sk-top-container\"><div class=\"sk-text-repr-fallback\"><pre>XGBClassifier(base_score=None, booster=&#x27;gbtree&#x27;, callbacks=None,\n",
       "              colsample_bylevel=None, colsample_bynode=None,\n",
       "              colsample_bytree=1.0, early_stopping_rounds=None,\n",
       "              enable_categorical=False, eval_metric=None, feature_types=None,\n",
       "              gamma=1, gpu_id=None, grow_policy=None, importance_type=None,\n",
       "              interaction_constraints=None, learning_rate=0.01, max_bin=None,\n",
       "              max_cat_threshold=None, max_cat_to_onehot=None,\n",
       "              max_delta_step=None, max_depth=6, max_leaves=None,\n",
       "              min_child_weight=10, missing=nan, monotone_constraints=None,\n",
       "              n_estimators=100, n_jobs=None, nthread=-1, num_parallel_tree=None,\n",
       "              objective=&#x27;binary:hinge&#x27;, ...)</pre><b>In a Jupyter environment, please rerun this cell to show the HTML representation or trust the notebook. <br />On GitHub, the HTML representation is unable to render, please try loading this page with nbviewer.org.</b></div><div class=\"sk-container\" hidden><div class=\"sk-item\"><div class=\"sk-estimator sk-toggleable\"><input class=\"sk-toggleable__control sk-hidden--visually\" id=\"sk-estimator-id-4\" type=\"checkbox\" checked><label for=\"sk-estimator-id-4\" class=\"sk-toggleable__label sk-toggleable__label-arrow\">XGBClassifier</label><div class=\"sk-toggleable__content\"><pre>XGBClassifier(base_score=None, booster=&#x27;gbtree&#x27;, callbacks=None,\n",
       "              colsample_bylevel=None, colsample_bynode=None,\n",
       "              colsample_bytree=1.0, early_stopping_rounds=None,\n",
       "              enable_categorical=False, eval_metric=None, feature_types=None,\n",
       "              gamma=1, gpu_id=None, grow_policy=None, importance_type=None,\n",
       "              interaction_constraints=None, learning_rate=0.01, max_bin=None,\n",
       "              max_cat_threshold=None, max_cat_to_onehot=None,\n",
       "              max_delta_step=None, max_depth=6, max_leaves=None,\n",
       "              min_child_weight=10, missing=nan, monotone_constraints=None,\n",
       "              n_estimators=100, n_jobs=None, nthread=-1, num_parallel_tree=None,\n",
       "              objective=&#x27;binary:hinge&#x27;, ...)</pre></div></div></div></div></div>"
      ],
      "text/plain": [
       "XGBClassifier(base_score=None, booster='gbtree', callbacks=None,\n",
       "              colsample_bylevel=None, colsample_bynode=None,\n",
       "              colsample_bytree=1.0, early_stopping_rounds=None,\n",
       "              enable_categorical=False, eval_metric=None, feature_types=None,\n",
       "              gamma=1, gpu_id=None, grow_policy=None, importance_type=None,\n",
       "              interaction_constraints=None, learning_rate=0.01, max_bin=None,\n",
       "              max_cat_threshold=None, max_cat_to_onehot=None,\n",
       "              max_delta_step=None, max_depth=6, max_leaves=None,\n",
       "              min_child_weight=10, missing=nan, monotone_constraints=None,\n",
       "              n_estimators=100, n_jobs=None, nthread=-1, num_parallel_tree=None,\n",
       "              objective='binary:hinge', ...)"
      ]
     },
     "execution_count": 9,
     "metadata": {},
     "output_type": "execute_result"
    }
   ],
   "source": [
    "xgb_best = XGBClassifier(\n",
    "    subsample=0.75,\n",
    "    min_child_weight=10,\n",
    "    max_depth=6,\n",
    "    learning_rate=0.01,\n",
    "    gamma=1,\n",
    "    colsample_bytree=1.0,\n",
    "    booster='gbtree',\n",
    "    objective='binary:hinge',\n",
    "    silent=True,\n",
    "    nthread=-1\n",
    ")\n",
    "\n",
    "xgb_best.fit(X_train, Y_train)"
   ]
  },
  {
   "cell_type": "code",
   "execution_count": 10,
   "metadata": {},
   "outputs": [],
   "source": [
    "Y_pred = xgb_best.predict(X_test)"
   ]
  },
  {
   "cell_type": "code",
   "execution_count": 11,
   "metadata": {},
   "outputs": [
    {
     "name": "stdout",
     "output_type": "stream",
     "text": [
      "The accuracy score for the testing data: 0.8806564142878199\n",
      "The precision score for the testing data: 0.3145539906103286\n",
      "The recall score for the testing data: 0.05900484368119771\n",
      "The F1 score for the testing data: 0.09936967000370782\n",
      "The F2 score for the testing data: 0.0704521556256572\n",
      "Specificity score for the testing data: 0.9838513438778896\n",
      "The balanced accuracy score for the testing data: 0.5214280937795437\n",
      "The G mean score for the testing data: 0.24093981562010705\n",
      "[[17790   292]\n",
      " [ 2137   134]]\n",
      "The Demographic parity difference score for the testing data: 0.024678663239074552\n",
      "The Equalized odds difference score for the testing data: 0.08974358974358974\n",
      "The Equal opportunity difference score for the testing data: 0.05900484368119771\n"
     ]
    },
    {
     "name": "stderr",
     "output_type": "stream",
     "text": [
      "c:\\Users\\Tanya\\Desktop\\TANYA\\FMI\\Masters\\thesis\\src\\env\\lib\\site-packages\\sklearn\\metrics\\_classification.py:1344: UndefinedMetricWarning: Recall is ill-defined and being set to 0.0 due to no true samples. Use `zero_division` parameter to control this behavior.\n",
      "  _warn_prf(average, modifier, msg_start, len(result))\n"
     ]
    }
   ],
   "source": [
    "evaluate_model_performance(Y_test, Y_pred)\n",
    "evaluate_model_fairness(Y_test, Y_pred, df_test['race'])"
   ]
  },
  {
   "attachments": {},
   "cell_type": "markdown",
   "metadata": {},
   "source": [
    "### Histogram-based Gradient Boosting Classification Tree"
   ]
  },
  {
   "cell_type": "code",
   "execution_count": 12,
   "metadata": {},
   "outputs": [
    {
     "name": "stdout",
     "output_type": "stream",
     "text": [
      "The accuracy score for the testing data: 0.8880754679899769\n",
      "The precision score for the testing data: 0.4222222222222222\n",
      "The recall score for the testing data: 0.00836635843240863\n",
      "The F1 score for the testing data: 0.016407599309153715\n",
      "The F2 score for the testing data: 0.010406397195749807\n",
      "Specificity score for the testing data: 0.9985621059617299\n",
      "The balanced accuracy score for the testing data: 0.5034642321970693\n",
      "The G mean score for the testing data: 0.0914020158174678\n",
      "[[18056    26]\n",
      " [ 2252    19]]\n",
      "The Demographic parity difference score for the testing data: 0.0038560411311053984\n",
      "The Equalized odds difference score for the testing data: 0.011086474501108648\n",
      "The Equal opportunity difference score for the testing data: 0.00836635843240863\n"
     ]
    },
    {
     "name": "stderr",
     "output_type": "stream",
     "text": [
      "c:\\Users\\Tanya\\Desktop\\TANYA\\FMI\\Masters\\thesis\\src\\env\\lib\\site-packages\\sklearn\\metrics\\_classification.py:1344: UndefinedMetricWarning: Recall is ill-defined and being set to 0.0 due to no true samples. Use `zero_division` parameter to control this behavior.\n",
      "  _warn_prf(average, modifier, msg_start, len(result))\n"
     ]
    }
   ],
   "source": [
    "hist_gb = HistGradientBoostingClassifier()\n",
    "\n",
    "hist_gb.fit(X_train, Y_train)\n",
    "Y_pred = hist_gb.predict(X_test)\n",
    "\n",
    "evaluate_model_performance(Y_test, Y_pred)\n",
    "evaluate_model_fairness(Y_test, Y_pred, df_test['race'])"
   ]
  },
  {
   "attachments": {},
   "cell_type": "markdown",
   "metadata": {},
   "source": [
    "### Random forest"
   ]
  },
  {
   "cell_type": "code",
   "execution_count": 13,
   "metadata": {},
   "outputs": [
    {
     "name": "stdout",
     "output_type": "stream",
     "text": [
      "The accuracy score for the testing data: 0.8882228664079006\n",
      "The precision score for the testing data: 0.4\n",
      "The recall score for the testing data: 0.0035226772346983706\n",
      "The F1 score for the testing data: 0.006983849847228284\n",
      "The F2 score for the testing data: 0.004393673110720562\n",
      "Specificity score for the testing data: 0.9993363565977215\n",
      "The balanced accuracy score for the testing data: 0.50142951691621\n",
      "The G mean score for the testing data: 0.05933244840045966\n",
      "[[18070    12]\n",
      " [ 2263     8]]\n",
      "The Demographic parity difference score for the testing data: 0.0024125452352231603\n",
      "The Equalized odds difference score for the testing data: 0.02564102564102564\n",
      "The Equal opportunity difference score for the testing data: 0.0035226772346983706\n"
     ]
    },
    {
     "name": "stderr",
     "output_type": "stream",
     "text": [
      "c:\\Users\\Tanya\\Desktop\\TANYA\\FMI\\Masters\\thesis\\src\\env\\lib\\site-packages\\sklearn\\metrics\\_classification.py:1344: UndefinedMetricWarning: Recall is ill-defined and being set to 0.0 due to no true samples. Use `zero_division` parameter to control this behavior.\n",
      "  _warn_prf(average, modifier, msg_start, len(result))\n"
     ]
    }
   ],
   "source": [
    "random_forest = RandomForestClassifier()\n",
    "\n",
    "random_forest.fit(X_train, Y_train)\n",
    "Y_pred = random_forest.predict(X_test)\n",
    "\n",
    "evaluate_model_performance(Y_test, Y_pred)\n",
    "evaluate_model_fairness(Y_test, Y_pred, df_test['race'])"
   ]
  },
  {
   "attachments": {},
   "cell_type": "markdown",
   "metadata": {},
   "source": [
    "Experimentation with feature selection"
   ]
  },
  {
   "cell_type": "code",
   "execution_count": 14,
   "metadata": {},
   "outputs": [
    {
     "data": {
      "text/plain": [
       "{'mean_test_score': array([0.88831839, 0.88557917, 0.86886132, 0.86076649, 0.86356713,\n",
       "        0.87027392, 0.87454858, 0.87779143, 0.88152561, 0.88342955,\n",
       "        0.88507554, 0.88614421, 0.88664783, 0.88731114, 0.88776563,\n",
       "        0.88790075, 0.88780248, 0.88831839, 0.88829382, 0.88834296,\n",
       "        0.88837981, 0.88839209, 0.88850264, 0.88851492, 0.88853949,\n",
       "        0.88850264, 0.88867461, 0.88853949, 0.88851492, 0.88837981,\n",
       "        0.88862548, 0.88853949, 0.88856406, 0.88849036, 0.88847807,\n",
       "        0.88853949, 0.88857634, 0.88857634, 0.88839209, 0.88844122,\n",
       "        0.88849036, 0.88845351, 0.88845351, 0.88842894, 0.88852721,\n",
       "        0.88842894, 0.88844122, 0.88844122, 0.88860091, 0.88862548,\n",
       "        0.88856406, 0.88846579, 0.88850264, 0.88851492, 0.88858863,\n",
       "        0.88850264, 0.88856406, 0.88855177, 0.88868689, 0.88844122,\n",
       "        0.88850264, 0.88849036, 0.88851492, 0.88857634, 0.88850264,\n",
       "        0.88865004, 0.88852721, 0.88861319, 0.88852721, 0.88861319,\n",
       "        0.88861319, 0.88862548, 0.88850264, 0.88852721, 0.88853949,\n",
       "        0.88846579, 0.88833067, 0.88856406, 0.88846579, 0.88849036,\n",
       "        0.88844122, 0.88850264, 0.88850264, 0.88842894, 0.88855177,\n",
       "        0.88839209, 0.88856406, 0.88846579, 0.88856406, 0.88853949,\n",
       "        0.88852721, 0.88850264, 0.88840437, 0.88852721, 0.88862548,\n",
       "        0.88844122, 0.88839209, 0.88835524, 0.88836752, 0.88868689,\n",
       "        0.88865004, 0.88856406, 0.88862548, 0.88869918, 0.88841666,\n",
       "        0.88855177, 0.88867461, 0.88860091, 0.88857634, 0.88841666,\n",
       "        0.88849036, 0.88860091, 0.88857634, 0.88837981, 0.88849036,\n",
       "        0.88860091, 0.88846579, 0.88835524, 0.88850264, 0.88844122,\n",
       "        0.88850264, 0.88863776, 0.88845351, 0.88837981, 0.88846579,\n",
       "        0.88853949, 0.88867461, 0.88857634, 0.88853949, 0.88851492,\n",
       "        0.88849036, 0.88836752, 0.88852721, 0.88856406, 0.88857634,\n",
       "        0.88842894, 0.88850264, 0.88841666, 0.88844122, 0.88852721,\n",
       "        0.88847807, 0.88853949, 0.88846579, 0.88842894, 0.88849036,\n",
       "        0.88858863, 0.88842894, 0.88837981, 0.88840437, 0.88842894,\n",
       "        0.88845351, 0.88853949, 0.88858863, 0.88849036, 0.88852721,\n",
       "        0.88842894, 0.88847807, 0.88842894, 0.88850264, 0.88841666,\n",
       "        0.88841666, 0.88847807, 0.88846579, 0.88841666, 0.88834296,\n",
       "        0.88849036, 0.88836752, 0.88856406, 0.88839209, 0.88849036,\n",
       "        0.88839209, 0.88856406, 0.88856406]),\n",
       " 'std_test_score': array([6.26338228e-05, 2.66300005e-04, 1.61536241e-03, 2.34257711e-03,\n",
       "        1.06703987e-03, 9.73733997e-04, 3.17000071e-04, 6.51604825e-04,\n",
       "        5.69562615e-04, 7.62171333e-04, 3.89214581e-04, 4.24447919e-04,\n",
       "        3.02383826e-04, 2.14170197e-04, 2.79027557e-04, 1.19092983e-04,\n",
       "        2.86498066e-04, 3.91533656e-04, 4.17277675e-04, 2.29803303e-04,\n",
       "        3.59384322e-04, 3.11720367e-04, 2.70794837e-04, 1.83842643e-04,\n",
       "        3.93072104e-04, 3.46560275e-04, 3.71766268e-04, 2.24489214e-04,\n",
       "        2.52932813e-04, 1.07085099e-04, 1.80529891e-04, 2.67430795e-04,\n",
       "        3.04868533e-04, 2.18356330e-04, 2.61727991e-04, 3.43938091e-04,\n",
       "        2.40706522e-04, 3.43938091e-04, 2.37551647e-04, 1.48422135e-04,\n",
       "        2.59411769e-04, 3.37293458e-04, 2.37551647e-04, 3.33243090e-04,\n",
       "        3.13169114e-04, 2.97352130e-04, 2.62303851e-04, 1.76301438e-04,\n",
       "        3.58964235e-04, 3.93455776e-04, 1.58261869e-04, 2.23140918e-04,\n",
       "        1.76301438e-04, 1.99583304e-04, 3.13169114e-04, 2.67994402e-04,\n",
       "        2.47505732e-04, 2.50535291e-04, 1.20353261e-04, 1.07085099e-04,\n",
       "        2.62303851e-04, 2.44438628e-04, 1.47402039e-04, 2.55898129e-04,\n",
       "        2.87024234e-04, 2.71906936e-04, 2.88073686e-04, 2.97352130e-04,\n",
       "        1.73714969e-04, 1.07085099e-04, 3.37740501e-04, 2.41332548e-04,\n",
       "        2.07732889e-04, 3.20314576e-04, 3.04373214e-04, 1.60157288e-04,\n",
       "        2.37551647e-04, 1.62959086e-04, 2.05542323e-04, 4.33592006e-04,\n",
       "        3.26380795e-04, 1.58261869e-04, 3.59384322e-04, 1.76301438e-04,\n",
       "        2.92233810e-04, 2.40706522e-04, 2.47505732e-04, 2.33063088e-04,\n",
       "        2.73566607e-04, 2.52932813e-04, 1.50441576e-04, 2.65164392e-04,\n",
       "        2.29803303e-04, 1.94219240e-04, 2.18356330e-04, 1.84661545e-04,\n",
       "        3.18898292e-04, 2.67430795e-04, 2.65164392e-04, 1.96536052e-04,\n",
       "        3.17950598e-04, 1.20353261e-04, 3.14611190e-04, 2.70237072e-04,\n",
       "        2.14170197e-04, 2.59411769e-04, 1.84661545e-04, 2.17664232e-04,\n",
       "        2.67430795e-04, 2.94291820e-04, 2.11333381e-04, 2.07005276e-04,\n",
       "        3.32790006e-04, 3.17000071e-04, 2.81718338e-04, 2.70237072e-04,\n",
       "        2.51736906e-04, 2.86498066e-04, 1.26466406e-04, 2.81718338e-04,\n",
       "        2.89640735e-04, 1.79692161e-04, 2.78486281e-04, 2.31764676e-04,\n",
       "        2.80106971e-04, 2.70237072e-04, 1.20353261e-04, 2.10618207e-04,\n",
       "        2.75763964e-04, 2.49932317e-04, 2.62303851e-04, 2.89640735e-04,\n",
       "        1.28830469e-04, 1.84661545e-04, 1.95766828e-04, 2.79027557e-04,\n",
       "        3.91533656e-04, 2.27825046e-04, 2.31764676e-04, 3.92303634e-04,\n",
       "        2.70237072e-04, 2.10618207e-04, 1.60157288e-04, 2.21784426e-04,\n",
       "        4.01052149e-04, 2.93264621e-04, 2.73566607e-04, 1.84661545e-04,\n",
       "        1.86288550e-04, 3.21724625e-04, 1.36783303e-04, 2.55898129e-04,\n",
       "        2.90680741e-04, 2.21784426e-04, 8.68574845e-05, 1.67524649e-04,\n",
       "        1.71089403e-04, 2.44438628e-04, 4.01052149e-04, 2.49932317e-04,\n",
       "        2.03328158e-04, 2.78486281e-04, 2.80106971e-04, 2.10618207e-04,\n",
       "        3.29600979e-04, 2.38185965e-04, 9.19213214e-05, 2.76310573e-04,\n",
       "        2.94291820e-04, 2.14873550e-04, 2.14170197e-04, 2.41332548e-04,\n",
       "        1.67524649e-04]),\n",
       " 'split0_test_score': array([0.88822012, 0.88527208, 0.86690824, 0.86138067, 0.86377595,\n",
       "        0.87022479, 0.87489252, 0.87771773, 0.8822012 , 0.88306105,\n",
       "        0.88545633, 0.88582484, 0.88668468, 0.88742169, 0.88736028,\n",
       "        0.8877902 , 0.88748311, 0.88785162, 0.88809729, 0.88809729,\n",
       "        0.88840437, 0.88865004, 0.88822012, 0.88852721, 0.88822012,\n",
       "        0.88846579, 0.88822012, 0.88871146, 0.88865004, 0.88834296,\n",
       "        0.88858863, 0.88834296, 0.88852721, 0.88852721, 0.88822012,\n",
       "        0.88846579, 0.88822012, 0.88889571, 0.88840437, 0.88834296,\n",
       "        0.88840437, 0.88822012, 0.88852721, 0.88858863, 0.88865004,\n",
       "        0.88865004, 0.88846579, 0.88828154, 0.88846579, 0.88858863,\n",
       "        0.88840437, 0.8881587 , 0.88852721, 0.88828154, 0.88828154,\n",
       "        0.88871146, 0.88871146, 0.88871146, 0.88858863, 0.88852721,\n",
       "        0.88865004, 0.88865004, 0.88858863, 0.88834296, 0.8888343 ,\n",
       "        0.88846579, 0.88871146, 0.88865004, 0.88858863, 0.88865004,\n",
       "        0.88828154, 0.88852721, 0.88846579, 0.88865004, 0.88840437,\n",
       "        0.88852721, 0.8881587 , 0.88840437, 0.88828154, 0.88858863,\n",
       "        0.88846579, 0.88840437, 0.88846579, 0.88840437, 0.88865004,\n",
       "        0.88865004, 0.88858863, 0.88846579, 0.88834296, 0.88865004,\n",
       "        0.88858863, 0.88865004, 0.88840437, 0.88834296, 0.88858863,\n",
       "        0.88846579, 0.88822012, 0.88822012, 0.88840437, 0.88871146,\n",
       "        0.88858863, 0.88852721, 0.88865004, 0.8888343 , 0.88858863,\n",
       "        0.88852721, 0.88858863, 0.88858863, 0.88871146, 0.88846579,\n",
       "        0.88852721, 0.8888343 , 0.88858863, 0.88840437, 0.88840437,\n",
       "        0.8888343 , 0.88852721, 0.88852721, 0.88865004, 0.88822012,\n",
       "        0.88846579, 0.88865004, 0.88865004, 0.88822012, 0.88840437,\n",
       "        0.88840437, 0.88889571, 0.88865004, 0.88871146, 0.88858863,\n",
       "        0.88840437, 0.88840437, 0.88840437, 0.88877288, 0.88852721,\n",
       "        0.88846579, 0.88877288, 0.8881587 , 0.88834296, 0.88846579,\n",
       "        0.88858863, 0.88871146, 0.88846579, 0.88871146, 0.8888343 ,\n",
       "        0.88877288, 0.88834296, 0.88834296, 0.88828154, 0.88858863,\n",
       "        0.88858863, 0.88846579, 0.88852721, 0.88865004, 0.88858863,\n",
       "        0.88822012, 0.88871146, 0.88834296, 0.8888343 , 0.88846579,\n",
       "        0.88846579, 0.88828154, 0.88865004, 0.88858863, 0.88822012,\n",
       "        0.88828154, 0.88834296, 0.88865004, 0.88803587, 0.88865004,\n",
       "        0.88840437, 0.88871146, 0.88877288]),\n",
       " 'split1_test_score': array([0.88840437, 0.885702  , 0.8695492 , 0.85775703, 0.86432871,\n",
       "        0.87053188, 0.87397126, 0.87906891, 0.88164845, 0.8832453 ,\n",
       "        0.88453507, 0.88643901, 0.88711461, 0.88723744, 0.88785162,\n",
       "        0.8877902 , 0.88772878, 0.88852721, 0.88828154, 0.88828154,\n",
       "        0.88828154, 0.88840437, 0.88865004, 0.88840437, 0.88895713,\n",
       "        0.88895713, 0.88877288, 0.88828154, 0.88865004, 0.88846579,\n",
       "        0.88889571, 0.8888343 , 0.88889571, 0.88852721, 0.88877288,\n",
       "        0.88865004, 0.8888343 , 0.88889571, 0.88858863, 0.88840437,\n",
       "        0.8888343 , 0.8888343 , 0.8888343 , 0.88865004, 0.88865004,\n",
       "        0.8888343 , 0.88858863, 0.88858863, 0.88877288, 0.88895713,\n",
       "        0.88858863, 0.8888343 , 0.88877288, 0.88865004, 0.88914138,\n",
       "        0.8888343 , 0.8888343 , 0.88871146, 0.8888343 , 0.88858863,\n",
       "        0.88889571, 0.8888343 , 0.88871146, 0.88889571, 0.88877288,\n",
       "        0.88901855, 0.88895713, 0.88901855, 0.88871146, 0.88877288,\n",
       "        0.88901855, 0.88901855, 0.88877288, 0.88895713, 0.88907997,\n",
       "        0.88871146, 0.88858863, 0.88877288, 0.88877288, 0.88926422,\n",
       "        0.88901855, 0.88877288, 0.88895713, 0.88858863, 0.88895713,\n",
       "        0.88871146, 0.88895713, 0.88871146, 0.88907997, 0.88895713,\n",
       "        0.88877288, 0.88889571, 0.8888343 , 0.88889571, 0.88901855,\n",
       "        0.88877288, 0.88901855, 0.8888343 , 0.88877288, 0.88889571,\n",
       "        0.88907997, 0.88877288, 0.88889571, 0.88895713, 0.88865004,\n",
       "        0.88877288, 0.88889571, 0.88901855, 0.88901855, 0.8888343 ,\n",
       "        0.88877288, 0.88871146, 0.88907997, 0.88895713, 0.88895713,\n",
       "        0.88889571, 0.88889571, 0.88877288, 0.88858863, 0.88895713,\n",
       "        0.88895713, 0.88889571, 0.8888343 , 0.88877288, 0.88889571,\n",
       "        0.88901855, 0.88865004, 0.88871146, 0.88889571, 0.88877288,\n",
       "        0.88877288, 0.88877288, 0.88877288, 0.88871146, 0.88895713,\n",
       "        0.8888343 , 0.88877288, 0.8888343 , 0.88877288, 0.88907997,\n",
       "        0.88877288, 0.88871146, 0.88871146, 0.88865004, 0.88901855,\n",
       "        0.8888343 , 0.88871146, 0.88871146, 0.88877288, 0.88889571,\n",
       "        0.88865004, 0.88889571, 0.88914138, 0.8888343 , 0.88865004,\n",
       "        0.88865004, 0.88865004, 0.88871146, 0.88901855, 0.88871146,\n",
       "        0.88877288, 0.88889571, 0.8888343 , 0.88858863, 0.88895713,\n",
       "        0.88877288, 0.88852721, 0.88901855, 0.8888343 , 0.8888343 ,\n",
       "        0.88877288, 0.88895713, 0.88871146]),\n",
       " 'split2_test_score': array([0.88834296, 0.88594767, 0.86936494, 0.86082791, 0.86340744,\n",
       "        0.87102322, 0.87452401, 0.87741064, 0.88177128, 0.88379806,\n",
       "        0.88484216, 0.88600909, 0.88650043, 0.88705319, 0.88772878,\n",
       "        0.88785162, 0.88772878, 0.88840437, 0.88785162, 0.88834296,\n",
       "        0.88791303, 0.88852721, 0.88828154, 0.88852721, 0.88858863,\n",
       "        0.8881587 , 0.88858863, 0.88858863, 0.88828154, 0.88822012,\n",
       "        0.88834296, 0.88828154, 0.88852721, 0.8881587 , 0.8881587 ,\n",
       "        0.8881587 , 0.88858863, 0.8881587 , 0.88797445, 0.88846579,\n",
       "        0.88809729, 0.8881587 , 0.88840437, 0.88797445, 0.88834296,\n",
       "        0.8881587 , 0.88822012, 0.88834296, 0.88840437, 0.88840437,\n",
       "        0.88840437, 0.88846579, 0.88846579, 0.88828154, 0.88871146,\n",
       "        0.8881587 , 0.88840437, 0.88846579, 0.88858863, 0.88828154,\n",
       "        0.8881587 , 0.88828154, 0.88834296, 0.88822012, 0.88803587,\n",
       "        0.88858863, 0.88852721, 0.88858863, 0.88846579, 0.88846579,\n",
       "        0.88871146, 0.88828154, 0.88828154, 0.88822012, 0.8881587 ,\n",
       "        0.88840437, 0.8881587 , 0.88865004, 0.88834296, 0.88834296,\n",
       "        0.88809729, 0.88840437, 0.88828154, 0.8881587 , 0.88828154,\n",
       "        0.8881587 , 0.88840437, 0.88809729, 0.88846579, 0.88828154,\n",
       "        0.88840437, 0.88840437, 0.88828154, 0.88846579, 0.88858863,\n",
       "        0.88834296, 0.88834296, 0.88828154, 0.88846579, 0.88840437,\n",
       "        0.88852721, 0.88852721, 0.8881587 , 0.88858863, 0.8881587 ,\n",
       "        0.88852721, 0.88846579, 0.88846579, 0.88834296, 0.88846579,\n",
       "        0.88822012, 0.88865004, 0.8881587 , 0.8881587 , 0.88840437,\n",
       "        0.88822012, 0.8881587 , 0.88791303, 0.88846579, 0.88822012,\n",
       "        0.88809729, 0.88858863, 0.88803587, 0.88809729, 0.88828154,\n",
       "        0.88828154, 0.88865004, 0.88871146, 0.8881587 , 0.88822012,\n",
       "        0.88871146, 0.88822012, 0.88846579, 0.88834296, 0.88852721,\n",
       "        0.88822012, 0.8881587 , 0.88840437, 0.8881587 , 0.88797445,\n",
       "        0.88822012, 0.88846579, 0.88840437, 0.88822012, 0.88822012,\n",
       "        0.88809729, 0.88840437, 0.88840437, 0.88834296, 0.88834296,\n",
       "        0.88834296, 0.88834296, 0.88852721, 0.88834296, 0.88846579,\n",
       "        0.88840437, 0.88828154, 0.88828154, 0.88791303, 0.8881587 ,\n",
       "        0.88822012, 0.8881587 , 0.88828154, 0.88803587, 0.88822012,\n",
       "        0.88877288, 0.88828154, 0.88858863, 0.88846579, 0.88828154,\n",
       "        0.88840437, 0.88840437, 0.88834296]),\n",
       " 'split3_test_score': array([0.88828154, 0.88527208, 0.86721533, 0.85916964, 0.86162634,\n",
       "        0.86844368, 0.87458543, 0.87734922, 0.88152561, 0.8846579 ,\n",
       "        0.88557917, 0.88680752, 0.8867461 , 0.88766736, 0.88822012,\n",
       "        0.88809729, 0.88834296, 0.88889571, 0.88907997, 0.88877288,\n",
       "        0.88901855, 0.88858863, 0.88895713, 0.8888343 , 0.88895713,\n",
       "        0.8888343 , 0.88932564, 0.8888343 , 0.8888343 , 0.88852721,\n",
       "        0.88871146, 0.88889571, 0.8888343 , 0.8888343 , 0.88877288,\n",
       "        0.88914138, 0.8888343 , 0.88877288, 0.88865004, 0.88828154,\n",
       "        0.88871146, 0.88889571, 0.88840437, 0.8888343 , 0.88895713,\n",
       "        0.88846579, 0.8888343 , 0.88871146, 0.8892028 , 0.88914138,\n",
       "        0.8888343 , 0.88852721, 0.88852721, 0.88877288, 0.88846579,\n",
       "        0.88822012, 0.88871146, 0.88877288, 0.8888343 , 0.88840437,\n",
       "        0.88852721, 0.88852721, 0.88858863, 0.88877288, 0.88840437,\n",
       "        0.88889571, 0.88828154, 0.88871146, 0.88865004, 0.88865004,\n",
       "        0.88889571, 0.88871146, 0.88871146, 0.88871146, 0.88858863,\n",
       "        0.88846579, 0.88865004, 0.88865004, 0.88865004, 0.88828154,\n",
       "        0.88846579, 0.88858863, 0.8888343 , 0.88865004, 0.88871146,\n",
       "        0.8881587 , 0.88865004, 0.88871146, 0.88858863, 0.88852721,\n",
       "        0.88852721, 0.88846579, 0.88834296, 0.88852721, 0.88858863,\n",
       "        0.88840437, 0.8881587 , 0.88840437, 0.88822012, 0.88889571,\n",
       "        0.88889571, 0.88858863, 0.88901855, 0.88889571, 0.88852721,\n",
       "        0.8888343 , 0.88889571, 0.88852721, 0.88852721, 0.88840437,\n",
       "        0.88865004, 0.88858863, 0.88877288, 0.88834296, 0.88858863,\n",
       "        0.88871146, 0.88828154, 0.88828154, 0.88852721, 0.88852721,\n",
       "        0.88865004, 0.88871146, 0.88846579, 0.88846579, 0.88865004,\n",
       "        0.88865004, 0.88852721, 0.88865004, 0.88865004, 0.88877288,\n",
       "        0.88852721, 0.88852721, 0.88852721, 0.88865004, 0.88846579,\n",
       "        0.88858863, 0.88889571, 0.88840437, 0.88865004, 0.8888343 ,\n",
       "        0.88871146, 0.88865004, 0.88852721, 0.88840437, 0.88846579,\n",
       "        0.8888343 , 0.88871146, 0.8881587 , 0.88828154, 0.88840437,\n",
       "        0.88834296, 0.88877288, 0.88846579, 0.88840437, 0.88852721,\n",
       "        0.88858863, 0.88840437, 0.88871146, 0.88852721, 0.88865004,\n",
       "        0.88822012, 0.88871146, 0.88852721, 0.88852721, 0.88834296,\n",
       "        0.88840437, 0.88840437, 0.88834296, 0.88852721, 0.88834296,\n",
       "        0.8881587 , 0.88846579, 0.88858863]),\n",
       " 'split4_test_score': array([0.88834296, 0.885702  , 0.87126889, 0.86469721, 0.86469721,\n",
       "        0.87114605, 0.87476968, 0.87741064, 0.88048151, 0.88238546,\n",
       "        0.88496499, 0.88564058, 0.88619334, 0.88717602, 0.88766736,\n",
       "        0.88797445, 0.88772878, 0.88791303, 0.8881587 , 0.88822012,\n",
       "        0.88828154, 0.8877902 , 0.88840437, 0.88828154, 0.88797445,\n",
       "        0.88809729, 0.88846579, 0.88828154, 0.8881587 , 0.88834296,\n",
       "        0.88858863, 0.88834296, 0.88803587, 0.88840437, 0.88846579,\n",
       "        0.88828154, 0.88840437, 0.8881587 , 0.88834296, 0.88871146,\n",
       "        0.88840437, 0.8881587 , 0.88809729, 0.88809729, 0.88803587,\n",
       "        0.88803587, 0.88809729, 0.88828154, 0.8881587 , 0.88803587,\n",
       "        0.88858863, 0.88834296, 0.88822012, 0.88858863, 0.88834296,\n",
       "        0.88858863, 0.8881587 , 0.88809729, 0.88858863, 0.88840437,\n",
       "        0.88828154, 0.8881587 , 0.88834296, 0.88865004, 0.88846579,\n",
       "        0.88828154, 0.8881587 , 0.88809729, 0.88822012, 0.88852721,\n",
       "        0.8881587 , 0.88858863, 0.88828154, 0.88809729, 0.88846579,\n",
       "        0.88822012, 0.88809729, 0.88834296, 0.88828154, 0.88797445,\n",
       "        0.8881587 , 0.88834296, 0.88797445, 0.88834296, 0.8881587 ,\n",
       "        0.88828154, 0.88822012, 0.88834296, 0.88834296, 0.88828154,\n",
       "        0.88834296, 0.88809729, 0.8881587 , 0.88840437, 0.88834296,\n",
       "        0.88822012, 0.88822012, 0.88803587, 0.88797445, 0.88852721,\n",
       "        0.8881587 , 0.88840437, 0.88840437, 0.88822012, 0.8881587 ,\n",
       "        0.88809729, 0.88852721, 0.88840437, 0.88828154, 0.88791303,\n",
       "        0.88828154, 0.88822012, 0.88828154, 0.88803587, 0.88809729,\n",
       "        0.88834296, 0.88846579, 0.88828154, 0.88828154, 0.88828154,\n",
       "        0.88834296, 0.88834296, 0.88828154, 0.88834296, 0.88809729,\n",
       "        0.88834296, 0.88865004, 0.8881587 , 0.88828154, 0.88822012,\n",
       "        0.88803587, 0.88791303, 0.88846579, 0.88834296, 0.88840437,\n",
       "        0.88803587, 0.88791303, 0.88828154, 0.88828154, 0.88828154,\n",
       "        0.88809729, 0.8881587 , 0.88822012, 0.8881587 , 0.88791303,\n",
       "        0.88840437, 0.88797445, 0.88828154, 0.88834296, 0.88791303,\n",
       "        0.88834296, 0.88822012, 0.88828154, 0.88822012, 0.88840437,\n",
       "        0.88828154, 0.88834296, 0.88809729, 0.88822012, 0.88809729,\n",
       "        0.88840437, 0.88834296, 0.88803587, 0.88834296, 0.88797445,\n",
       "        0.88822012, 0.88828154, 0.88822012, 0.88809729, 0.88834296,\n",
       "        0.88822012, 0.88828154, 0.88840437])}"
      ]
     },
     "execution_count": 14,
     "metadata": {},
     "output_type": "execute_result"
    }
   ],
   "source": [
    "from sklearn.feature_selection import RFECV\n",
    "\n",
    "selector = RFECV(random_forest, step=1, cv=5)\n",
    "selector = selector.fit(X_train, Y_train)\n",
    "selector.cv_results_"
   ]
  },
  {
   "cell_type": "code",
   "execution_count": 15,
   "metadata": {},
   "outputs": [],
   "source": [
    "X_train_selected_features = selector.transform(X_train)\n",
    "X_test_selected_features = selector.transform(X_test)"
   ]
  },
  {
   "cell_type": "code",
   "execution_count": 16,
   "metadata": {},
   "outputs": [
    {
     "name": "stdout",
     "output_type": "stream",
     "text": [
      "The accuracy score for the testing data: 0.888615928855697\n",
      "The precision score for the testing data: 0.5714285714285714\n",
      "The recall score for the testing data: 0.007045354469396741\n",
      "The F1 score for the testing data: 0.013919095258808177\n",
      "The F2 score for the testing data: 0.008779631255487268\n",
      "Specificity score for the testing data: 0.9993363565977215\n",
      "The balanced accuracy score for the testing data: 0.5031908555335591\n",
      "The G mean score for the testing data: 0.08390875321673191\n",
      "[[18070    12]\n",
      " [ 2255    16]]\n",
      "The Demographic parity difference score for the testing data: 0.0024125452352231603\n",
      "The Equalized odds difference score for the testing data: 0.02564102564102564\n",
      "The Equal opportunity difference score for the testing data: 0.007045354469396741\n"
     ]
    },
    {
     "name": "stderr",
     "output_type": "stream",
     "text": [
      "c:\\Users\\Tanya\\Desktop\\TANYA\\FMI\\Masters\\thesis\\src\\env\\lib\\site-packages\\sklearn\\metrics\\_classification.py:1344: UndefinedMetricWarning: Recall is ill-defined and being set to 0.0 due to no true samples. Use `zero_division` parameter to control this behavior.\n",
      "  _warn_prf(average, modifier, msg_start, len(result))\n"
     ]
    }
   ],
   "source": [
    "random_forest.fit(X_train_selected_features, Y_train)\n",
    "Y_pred = random_forest.predict(X_test_selected_features)\n",
    "\n",
    "evaluate_model_performance(Y_test, Y_pred)\n",
    "evaluate_model_fairness(Y_test, Y_pred, df_test['race'])"
   ]
  }
 ],
 "metadata": {
  "kernelspec": {
   "display_name": "env",
   "language": "python",
   "name": "python3"
  },
  "language_info": {
   "codemirror_mode": {
    "name": "ipython",
    "version": 3
   },
   "file_extension": ".py",
   "mimetype": "text/x-python",
   "name": "python",
   "nbconvert_exporter": "python",
   "pygments_lexer": "ipython3",
   "version": "3.10.0"
  },
  "orig_nbformat": 4
 },
 "nbformat": 4,
 "nbformat_minor": 2
}
