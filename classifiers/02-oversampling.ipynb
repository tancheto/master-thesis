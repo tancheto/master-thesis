{
 "cells": [
  {
   "cell_type": "code",
   "execution_count": 22,
   "metadata": {},
   "outputs": [],
   "source": [
    "import numpy as np\n",
    "import pandas as pd\n",
    "from pathlib import Path\n",
    "import os\n",
    "\n",
    "from imblearn.over_sampling import SMOTENC\n",
    "from collections import Counter\n",
    "\n",
    "from sklearn.linear_model import LogisticRegression, Perceptron\n",
    "from sklearn.tree import DecisionTreeClassifier\n",
    "from sklearn.svm import LinearSVC\n",
    "from sklearn.naive_bayes import GaussianNB\n",
    "\n",
    "from sklearn import metrics\n",
    "\n",
    "import umap\n",
    "\n",
    "from sklearn.manifold import TSNE\n",
    "from sklearn.decomposition import PCA\n",
    "from sklearn.model_selection import train_test_split\n",
    "\n",
    "import matplotlib.pyplot as plt\n",
    "import seaborn as sns\n",
    "import hypertools as hyp\n",
    "\n",
    "import sys\n",
    "sys.path.append(os.path.abspath('..'))\n",
    "\n",
    "from util import evaluate_model_performance, evaluate_model_fairness"
   ]
  },
  {
   "cell_type": "code",
   "execution_count": 2,
   "metadata": {},
   "outputs": [],
   "source": [
    "data_path = Path(os.getcwd()).parent.parent / \"data\" / \"dataset_diabetes\"\n",
    "df = pd.read_csv(data_path / \"data_analyzed.csv\")"
   ]
  },
  {
   "cell_type": "code",
   "execution_count": 3,
   "metadata": {},
   "outputs": [],
   "source": [
    "df[\"age\"] = df[\"age_all\"]\n",
    "\n",
    "columns_to_remove = ['encounter_id', 'patient_nbr', 'readmitted', 'readmit_binary', 'diabetes_type', \\\n",
    "    'had_emergency', 'had_inpatient_days', 'had_outpatient_days', 'race_all', 'age_all']\n",
    "\n",
    "df_for_experimenting = df.drop(columns=columns_to_remove)"
   ]
  },
  {
   "cell_type": "code",
   "execution_count": 4,
   "metadata": {},
   "outputs": [],
   "source": [
    "data_path_write = Path(os.getcwd()).parent / \"fawos\" / \"FAWOS\" / \"datasets\" / \"diabetes\"\n",
    "df_for_experimenting.to_csv(data_path_write / \"raw_dataset.csv\")"
   ]
  },
  {
   "cell_type": "code",
   "execution_count": 5,
   "metadata": {},
   "outputs": [],
   "source": [
    "target_variable = \"readmit_30_days\"\n",
    "Y = df_for_experimenting.loc[:, target_variable]\n",
    "X = df_for_experimenting.drop(columns=[target_variable])"
   ]
  },
  {
   "cell_type": "code",
   "execution_count": 6,
   "metadata": {},
   "outputs": [
    {
     "data": {
      "text/html": [
       "<div>\n",
       "<style scoped>\n",
       "    .dataframe tbody tr th:only-of-type {\n",
       "        vertical-align: middle;\n",
       "    }\n",
       "\n",
       "    .dataframe tbody tr th {\n",
       "        vertical-align: top;\n",
       "    }\n",
       "\n",
       "    .dataframe thead th {\n",
       "        text-align: right;\n",
       "    }\n",
       "</style>\n",
       "<table border=\"1\" class=\"dataframe\">\n",
       "  <thead>\n",
       "    <tr style=\"text-align: right;\">\n",
       "      <th></th>\n",
       "      <th>race</th>\n",
       "      <th>gender</th>\n",
       "      <th>age</th>\n",
       "      <th>weight</th>\n",
       "      <th>admission_type_id</th>\n",
       "      <th>discharge_disposition_id</th>\n",
       "      <th>admission_source_id</th>\n",
       "      <th>time_in_hospital</th>\n",
       "      <th>payer_code</th>\n",
       "      <th>medical_specialty</th>\n",
       "      <th>...</th>\n",
       "      <th>citoglipton</th>\n",
       "      <th>insulin</th>\n",
       "      <th>glyburide-metformin</th>\n",
       "      <th>glipizide-metformin</th>\n",
       "      <th>glimepiride-pioglitazone</th>\n",
       "      <th>metformin-rosiglitazone</th>\n",
       "      <th>metformin-pioglitazone</th>\n",
       "      <th>change</th>\n",
       "      <th>diabetesMed</th>\n",
       "      <th>age_numeric</th>\n",
       "    </tr>\n",
       "  </thead>\n",
       "  <tbody>\n",
       "    <tr>\n",
       "      <th>0</th>\n",
       "      <td>Caucasian</td>\n",
       "      <td>Female</td>\n",
       "      <td>[0-10)</td>\n",
       "      <td>Unknown</td>\n",
       "      <td>Other</td>\n",
       "      <td>Other</td>\n",
       "      <td>Referral</td>\n",
       "      <td>1</td>\n",
       "      <td>Unknown</td>\n",
       "      <td>Other</td>\n",
       "      <td>...</td>\n",
       "      <td>No</td>\n",
       "      <td>No</td>\n",
       "      <td>No</td>\n",
       "      <td>No</td>\n",
       "      <td>No</td>\n",
       "      <td>No</td>\n",
       "      <td>No</td>\n",
       "      <td>No</td>\n",
       "      <td>No</td>\n",
       "      <td>0</td>\n",
       "    </tr>\n",
       "    <tr>\n",
       "      <th>1</th>\n",
       "      <td>Caucasian</td>\n",
       "      <td>Female</td>\n",
       "      <td>[10-20)</td>\n",
       "      <td>Unknown</td>\n",
       "      <td>Emergency</td>\n",
       "      <td>Discharged to Home</td>\n",
       "      <td>Emergency</td>\n",
       "      <td>3</td>\n",
       "      <td>Unknown</td>\n",
       "      <td>Missing</td>\n",
       "      <td>...</td>\n",
       "      <td>No</td>\n",
       "      <td>Up</td>\n",
       "      <td>No</td>\n",
       "      <td>No</td>\n",
       "      <td>No</td>\n",
       "      <td>No</td>\n",
       "      <td>No</td>\n",
       "      <td>Ch</td>\n",
       "      <td>Yes</td>\n",
       "      <td>10</td>\n",
       "    </tr>\n",
       "    <tr>\n",
       "      <th>2</th>\n",
       "      <td>AfricanAmerican</td>\n",
       "      <td>Female</td>\n",
       "      <td>[20-30)</td>\n",
       "      <td>Unknown</td>\n",
       "      <td>Emergency</td>\n",
       "      <td>Discharged to Home</td>\n",
       "      <td>Emergency</td>\n",
       "      <td>2</td>\n",
       "      <td>Unknown</td>\n",
       "      <td>Missing</td>\n",
       "      <td>...</td>\n",
       "      <td>No</td>\n",
       "      <td>No</td>\n",
       "      <td>No</td>\n",
       "      <td>No</td>\n",
       "      <td>No</td>\n",
       "      <td>No</td>\n",
       "      <td>No</td>\n",
       "      <td>No</td>\n",
       "      <td>Yes</td>\n",
       "      <td>20</td>\n",
       "    </tr>\n",
       "    <tr>\n",
       "      <th>3</th>\n",
       "      <td>Caucasian</td>\n",
       "      <td>Male</td>\n",
       "      <td>[30-40)</td>\n",
       "      <td>Unknown</td>\n",
       "      <td>Emergency</td>\n",
       "      <td>Discharged to Home</td>\n",
       "      <td>Emergency</td>\n",
       "      <td>2</td>\n",
       "      <td>Unknown</td>\n",
       "      <td>Missing</td>\n",
       "      <td>...</td>\n",
       "      <td>No</td>\n",
       "      <td>Up</td>\n",
       "      <td>No</td>\n",
       "      <td>No</td>\n",
       "      <td>No</td>\n",
       "      <td>No</td>\n",
       "      <td>No</td>\n",
       "      <td>Ch</td>\n",
       "      <td>Yes</td>\n",
       "      <td>30</td>\n",
       "    </tr>\n",
       "    <tr>\n",
       "      <th>4</th>\n",
       "      <td>Caucasian</td>\n",
       "      <td>Male</td>\n",
       "      <td>[40-50)</td>\n",
       "      <td>Unknown</td>\n",
       "      <td>Emergency</td>\n",
       "      <td>Discharged to Home</td>\n",
       "      <td>Emergency</td>\n",
       "      <td>1</td>\n",
       "      <td>Unknown</td>\n",
       "      <td>Missing</td>\n",
       "      <td>...</td>\n",
       "      <td>No</td>\n",
       "      <td>Steady</td>\n",
       "      <td>No</td>\n",
       "      <td>No</td>\n",
       "      <td>No</td>\n",
       "      <td>No</td>\n",
       "      <td>No</td>\n",
       "      <td>Ch</td>\n",
       "      <td>Yes</td>\n",
       "      <td>40</td>\n",
       "    </tr>\n",
       "  </tbody>\n",
       "</table>\n",
       "<p>5 rows × 48 columns</p>\n",
       "</div>"
      ],
      "text/plain": [
       "              race  gender      age   weight admission_type_id  \\\n",
       "0        Caucasian  Female   [0-10)  Unknown             Other   \n",
       "1        Caucasian  Female  [10-20)  Unknown         Emergency   \n",
       "2  AfricanAmerican  Female  [20-30)  Unknown         Emergency   \n",
       "3        Caucasian    Male  [30-40)  Unknown         Emergency   \n",
       "4        Caucasian    Male  [40-50)  Unknown         Emergency   \n",
       "\n",
       "  discharge_disposition_id admission_source_id  time_in_hospital payer_code  \\\n",
       "0                    Other            Referral                 1    Unknown   \n",
       "1       Discharged to Home           Emergency                 3    Unknown   \n",
       "2       Discharged to Home           Emergency                 2    Unknown   \n",
       "3       Discharged to Home           Emergency                 2    Unknown   \n",
       "4       Discharged to Home           Emergency                 1    Unknown   \n",
       "\n",
       "  medical_specialty  ...  citoglipton  insulin  glyburide-metformin  \\\n",
       "0             Other  ...           No       No                   No   \n",
       "1           Missing  ...           No       Up                   No   \n",
       "2           Missing  ...           No       No                   No   \n",
       "3           Missing  ...           No       Up                   No   \n",
       "4           Missing  ...           No   Steady                   No   \n",
       "\n",
       "   glipizide-metformin  glimepiride-pioglitazone  metformin-rosiglitazone  \\\n",
       "0                   No                        No                       No   \n",
       "1                   No                        No                       No   \n",
       "2                   No                        No                       No   \n",
       "3                   No                        No                       No   \n",
       "4                   No                        No                       No   \n",
       "\n",
       "  metformin-pioglitazone change diabetesMed  age_numeric  \n",
       "0                     No     No          No            0  \n",
       "1                     No     Ch         Yes           10  \n",
       "2                     No     No         Yes           20  \n",
       "3                     No     Ch         Yes           30  \n",
       "4                     No     Ch         Yes           40  \n",
       "\n",
       "[5 rows x 48 columns]"
      ]
     },
     "execution_count": 6,
     "metadata": {},
     "output_type": "execute_result"
    }
   ],
   "source": [
    "X.head() # sanity check"
   ]
  },
  {
   "attachments": {},
   "cell_type": "markdown",
   "metadata": {},
   "source": [
    "## Oversampling - SMOTENC"
   ]
  },
  {
   "cell_type": "code",
   "execution_count": 7,
   "metadata": {},
   "outputs": [],
   "source": [
    "categorical_features = ['race', 'gender', 'weight', 'age', 'admission_type_id', 'discharge_disposition_id', 'admission_source_id', \\\n",
    "'payer_code', 'medical_specialty', 'diag_1', 'diag_2', 'diag_3', 'max_glu_serum', 'A1Cresult', 'metformin', 'repaglinide', \\\n",
    "'nateglinide', 'chlorpropamide', 'glimepiride', 'acetohexamide', 'glipizide', 'glyburide', 'tolbutamide', 'pioglitazone', \\\n",
    "'rosiglitazone', 'acarbose', 'miglitol', 'troglitazone','tolazamide', 'examide', 'citoglipton', 'insulin','glyburide-metformin', \\\n",
    "'glipizide-metformin', 'glimepiride-pioglitazone', 'metformin-rosiglitazone', 'metformin-pioglitazone', 'change', 'diabetesMed']\n",
    "\n",
    "col_idx_mapping = zip(df_for_experimenting.columns, range(len(df_for_experimenting.columns)))\n",
    "col_idx_filtered = list(filter(lambda x: x[0] in categorical_features, col_idx_mapping))\n",
    "idx_filtered = list(map(lambda x: x[1], col_idx_filtered))"
   ]
  },
  {
   "cell_type": "code",
   "execution_count": 8,
   "metadata": {},
   "outputs": [],
   "source": [
    "X_one_hot = pd.get_dummies(X)"
   ]
  },
  {
   "cell_type": "code",
   "execution_count": 9,
   "metadata": {},
   "outputs": [],
   "source": [
    "random_seed = 445\n",
    "np.random.seed(random_seed)\n",
    "\n",
    "X_train, X_test, X_train_one_hot, X_test_one_hot, Y_train, Y_test = train_test_split(\n",
    "    X,\n",
    "    X_one_hot,\n",
    "    Y,\n",
    "    test_size=0.20,\n",
    "    stratify=Y,\n",
    "    random_state=random_seed\n",
    ")"
   ]
  },
  {
   "cell_type": "code",
   "execution_count": 10,
   "metadata": {},
   "outputs": [
    {
     "name": "stdout",
     "output_type": "stream",
     "text": [
      "Resampled dataset samples per class Counter({False: 72324, True: 72324})\n"
     ]
    }
   ],
   "source": [
    "sm = SMOTENC(random_state=42, categorical_features=list(idx_filtered))\n",
    "X_train_res_one_hot, Y_train_res = sm.fit_resample(X_train_one_hot, Y_train)\n",
    "print(f'Resampled dataset samples per class {Counter(Y_train_res)}')"
   ]
  },
  {
   "attachments": {},
   "cell_type": "markdown",
   "metadata": {},
   "source": [
    "### Logistic regression"
   ]
  },
  {
   "cell_type": "code",
   "execution_count": 11,
   "metadata": {},
   "outputs": [
    {
     "name": "stdout",
     "output_type": "stream",
     "text": [
      "The accuracy score for the testing data: 0.8868962806465878\n",
      "The precision score for the testing data: 0.26865671641791045\n",
      "The recall score for the testing data: 0.007926023778071334\n",
      "The F1 score for the testing data: 0.015397775876817793\n",
      "The F2 score for the testing data: 0.00983499071139766\n",
      "The specificity score for the testing data: 0.9972901227740294\n",
      "The balanced accuracy score for the testing data: 0.5026080732760504\n",
      "The G mean score for the testing data: 0.08890750939455361\n",
      "[[18033    49]\n",
      " [ 2253    18]]\n",
      "The Demographic parity difference score for the testing data: 0.0038792820040765338\n",
      "The Equalized odds difference score for the testing data: 0.008782201405152224\n",
      "The Equal opportunity difference score for the testing data: 0.007926023778071334\n"
     ]
    },
    {
     "name": "stderr",
     "output_type": "stream",
     "text": [
      "c:\\Users\\Tanya\\Desktop\\TANYA\\FMI\\Masters\\thesis\\src\\env\\lib\\site-packages\\scipy\\optimize\\_linesearch.py:306: LineSearchWarning: The line search algorithm did not converge\n",
      "  warn('The line search algorithm did not converge', LineSearchWarning)\n",
      "c:\\Users\\Tanya\\Desktop\\TANYA\\FMI\\Masters\\thesis\\src\\env\\lib\\site-packages\\sklearn\\utils\\optimize.py:203: UserWarning: Line Search failed\n",
      "  warnings.warn(\"Line Search failed\")\n",
      "c:\\Users\\Tanya\\Desktop\\TANYA\\FMI\\Masters\\thesis\\src\\env\\lib\\site-packages\\sklearn\\metrics\\_classification.py:1344: UndefinedMetricWarning: Recall is ill-defined and being set to 0.0 due to no true samples. Use `zero_division` parameter to control this behavior.\n",
      "  _warn_prf(average, modifier, msg_start, len(result))\n"
     ]
    }
   ],
   "source": [
    "lr_res = LogisticRegression(solver='newton-cg')\n",
    "lr_res.fit(X_train_res_one_hot, Y_train_res)\n",
    "\n",
    "# Predicting on the test data\n",
    "lr_pred_test_res = lr_res.predict(X_test_one_hot)\n",
    "evaluate_model_performance(Y_test, lr_pred_test_res)\n",
    "evaluate_model_fairness(Y_test, lr_pred_test_res, X_test['race'])"
   ]
  },
  {
   "cell_type": "code",
   "execution_count": 30,
   "metadata": {},
   "outputs": [
    {
     "data": {
      "text/plain": [
       "<sklearn.metrics._plot.roc_curve.RocCurveDisplay at 0x1e080d375b0>"
      ]
     },
     "execution_count": 30,
     "metadata": {},
     "output_type": "execute_result"
    }
   ],
   "source": [
    "metrics.RocCurveDisplay.from_predictions(Y_test, lr_pred_test_res)"
   ]
  },
  {
   "attachments": {},
   "cell_type": "markdown",
   "metadata": {},
   "source": [
    "### Decision tree"
   ]
  },
  {
   "cell_type": "code",
   "execution_count": 12,
   "metadata": {},
   "outputs": [
    {
     "name": "stdout",
     "output_type": "stream",
     "text": [
      "The accuracy score for the testing data: 0.7511914705448828\n",
      "The precision score for the testing data: 0.13680104031209364\n",
      "The recall score for the testing data: 0.23161602818141788\n",
      "The F1 score for the testing data: 0.1720078482668411\n",
      "The F2 score for the testing data: 0.20341867120426949\n",
      "The specificity score for the testing data: 0.8164472956531357\n",
      "The balanced accuracy score for the testing data: 0.5240316619172768\n",
      "The G mean score for the testing data: 0.43485891946542743\n",
      "[[14763  3319]\n",
      " [ 1745   526]]\n",
      "The Demographic parity difference score for the testing data: 0.035539148042830454\n",
      "The Equalized odds difference score for the testing data: 0.09878333049064758\n",
      "The Equal opportunity difference score for the testing data: 0.23161602818141788\n"
     ]
    },
    {
     "name": "stderr",
     "output_type": "stream",
     "text": [
      "c:\\Users\\Tanya\\Desktop\\TANYA\\FMI\\Masters\\thesis\\src\\env\\lib\\site-packages\\sklearn\\metrics\\_classification.py:1344: UndefinedMetricWarning: Recall is ill-defined and being set to 0.0 due to no true samples. Use `zero_division` parameter to control this behavior.\n",
      "  _warn_prf(average, modifier, msg_start, len(result))\n"
     ]
    }
   ],
   "source": [
    "tree_auto_balanced_res = DecisionTreeClassifier()\n",
    "tree_auto_balanced_res.fit(X_train_res_one_hot, Y_train_res)\n",
    "\n",
    "# Predicting on the test data\n",
    "tree_pred_test_res = tree_auto_balanced_res.predict(X_test_one_hot)\n",
    "evaluate_model_performance(Y_test, tree_pred_test_res)\n",
    "evaluate_model_fairness(Y_test, tree_pred_test_res, X_test['race'])"
   ]
  },
  {
   "cell_type": "code",
   "execution_count": 21,
   "metadata": {},
   "outputs": [
    {
     "data": {
      "text/html": [
       "<div>\n",
       "<style scoped>\n",
       "    .dataframe tbody tr th:only-of-type {\n",
       "        vertical-align: middle;\n",
       "    }\n",
       "\n",
       "    .dataframe tbody tr th {\n",
       "        vertical-align: top;\n",
       "    }\n",
       "\n",
       "    .dataframe thead th {\n",
       "        text-align: right;\n",
       "    }\n",
       "</style>\n",
       "<table border=\"1\" class=\"dataframe\">\n",
       "  <thead>\n",
       "    <tr style=\"text-align: right;\">\n",
       "      <th></th>\n",
       "      <th>Importance</th>\n",
       "    </tr>\n",
       "  </thead>\n",
       "  <tbody>\n",
       "    <tr>\n",
       "      <th>age_numeric</th>\n",
       "      <td>6.906785</td>\n",
       "    </tr>\n",
       "    <tr>\n",
       "      <th>num_medications</th>\n",
       "      <td>4.821714</td>\n",
       "    </tr>\n",
       "    <tr>\n",
       "      <th>num_procedures</th>\n",
       "      <td>4.719751</td>\n",
       "    </tr>\n",
       "    <tr>\n",
       "      <th>num_lab_procedures</th>\n",
       "      <td>4.678536</td>\n",
       "    </tr>\n",
       "    <tr>\n",
       "      <th>time_in_hospital</th>\n",
       "      <td>3.552492</td>\n",
       "    </tr>\n",
       "  </tbody>\n",
       "</table>\n",
       "</div>"
      ],
      "text/plain": [
       "                    Importance\n",
       "age_numeric           6.906785\n",
       "num_medications       4.821714\n",
       "num_procedures        4.719751\n",
       "num_lab_procedures    4.678536\n",
       "time_in_hospital      3.552492"
      ]
     },
     "execution_count": 21,
     "metadata": {},
     "output_type": "execute_result"
    }
   ],
   "source": [
    "feat_importances = pd.DataFrame(tree_auto_balanced_res.feature_importances_[:10], index=X_train_res_one_hot.columns[:10], columns=[\"Importance\"])\n",
    "feat_importances.sort_values(by='Importance', ascending=False, inplace=True)\n",
    "(feat_importances * 100).head()\n",
    "\n",
    "# feat_importances.sort_values(by='Importance', ascending=False, inplace=True)\n",
    "# feat_importances.plot(kind='bar', figsize=(20,5))"
   ]
  },
  {
   "attachments": {},
   "cell_type": "markdown",
   "metadata": {},
   "source": [
    "### Perceptron"
   ]
  },
  {
   "cell_type": "code",
   "execution_count": null,
   "metadata": {},
   "outputs": [],
   "source": [
    "perceptron_res = Perceptron()\n",
    "perceptron_res.fit(X_train_res_one_hot, Y_train_res)\n",
    "\n",
    "# Predicting on the test data\n",
    "perceptron_pred_test_res = perceptron_res.predict(X_test_one_hot)\n",
    "evaluate_model_performance(Y_test, perceptron_pred_test_res)\n",
    "evaluate_model_fairness(Y_test, perceptron_pred_test_res, X_test['race'])"
   ]
  },
  {
   "attachments": {},
   "cell_type": "markdown",
   "metadata": {},
   "source": [
    "### SVM (linear kernel)"
   ]
  },
  {
   "cell_type": "code",
   "execution_count": null,
   "metadata": {},
   "outputs": [],
   "source": [
    "svm_res = LinearSVC()\n",
    "svm_res.fit(X_train_res_one_hot, Y_train_res)\n",
    "\n",
    "# Predicting on the test data\n",
    "svm_pred_test_res = svm_res.predict(X_test_one_hot)\n",
    "evaluate_model_performance(Y_test, svm_pred_test_res)\n",
    "evaluate_model_fairness(Y_test, svm_pred_test_res, X_test['race'])"
   ]
  },
  {
   "attachments": {},
   "cell_type": "markdown",
   "metadata": {},
   "source": [
    "### Gaussian Naive Bayes"
   ]
  },
  {
   "cell_type": "code",
   "execution_count": null,
   "metadata": {},
   "outputs": [],
   "source": [
    "nbc = GaussianNB()\n",
    "nbc.fit(X_train_res_one_hot, Y_train_res)\n",
    "\n",
    "# Predicting on the test data\n",
    "nbc_pred_test_res = nbc.predict(X_test_one_hot)\n",
    "evaluate_model_performance(Y_test, nbc_pred_test_res)\n",
    "evaluate_model_fairness(Y_test, nbc_pred_test_res, X_test['race'])"
   ]
  },
  {
   "attachments": {},
   "cell_type": "markdown",
   "metadata": {},
   "source": [
    "### t-SNE visualization"
   ]
  },
  {
   "cell_type": "code",
   "execution_count": null,
   "metadata": {},
   "outputs": [],
   "source": [
    "tsne_embedding = TSNE(n_components=2, learning_rate=50, init='random', perplexity=50).fit_transform(pd.get_dummies(X))"
   ]
  },
  {
   "cell_type": "code",
   "execution_count": null,
   "metadata": {},
   "outputs": [],
   "source": [
    "tsne_embedding_oversampled_smotenc = TSNE(n_components=2, learning_rate=50, init='random', perplexity=50).fit_transform(X_res)"
   ]
  },
  {
   "cell_type": "code",
   "execution_count": null,
   "metadata": {},
   "outputs": [],
   "source": [
    "colors = ['#F3DC1B', '#F37A3F', '#EC1DF3', '#27C4F1', '#00F37A', \"red\", \"blue\", \"purple\", 'green', 'yellow', 'pink', 'cyan', 'magenta', 'orange', 'grey', 'black']\n",
    "\n",
    "sns.set()\n",
    "_, axes = plt.subplots(1, 2, figsize=(15, 8))\n",
    "\n",
    "sns.scatterplot(\n",
    "    ax=axes[0],\n",
    "    x=tsne_embedding[:, 0], y=tsne_embedding[:, 1],\n",
    "    hue=list(Y),\n",
    "    data=tsne_embedding,\n",
    "    legend=\"full\",\n",
    "    alpha=0.2,\n",
    "    palette=colors\n",
    ")\n",
    "\n",
    "sns.scatterplot(\n",
    "    ax=axes[1],\n",
    "    x=tsne_embedding_oversampled_smotenc[:, 0], y=tsne_embedding_oversampled_smotenc[:, 1],\n",
    "    hue=list(Y_res),\n",
    "    data=tsne_embedding_oversampled_smotenc,\n",
    "    legend=\"full\",\n",
    "    alpha=0.2,\n",
    "    palette=colors\n",
    ")"
   ]
  },
  {
   "attachments": {},
   "cell_type": "markdown",
   "metadata": {},
   "source": [
    "### UMAP"
   ]
  },
  {
   "cell_type": "code",
   "execution_count": null,
   "metadata": {},
   "outputs": [],
   "source": [
    "reducer = umap.UMAP()"
   ]
  },
  {
   "cell_type": "code",
   "execution_count": null,
   "metadata": {},
   "outputs": [],
   "source": [
    "embedding_umap = reducer.fit_transform(pd.get_dummies(X))"
   ]
  },
  {
   "cell_type": "code",
   "execution_count": null,
   "metadata": {},
   "outputs": [],
   "source": [
    "embedding_umap_resampled = reducer.fit_transform(X_res)"
   ]
  },
  {
   "cell_type": "code",
   "execution_count": null,
   "metadata": {},
   "outputs": [],
   "source": [
    "sns.set()\n",
    "_, axes = plt.subplots(1, 2, figsize=(15, 8))\n",
    "\n",
    "sns.scatterplot(\n",
    "    ax=axes[0],\n",
    "    x=embedding_umap[:, 0], y=embedding_umap[:, 1],\n",
    "    hue=list(Y),\n",
    "    data=embedding_umap,\n",
    "    legend=\"full\",\n",
    "    alpha=0.2\n",
    ")\n",
    "\n",
    "sns.scatterplot(\n",
    "    ax=axes[1],\n",
    "    x=embedding_umap_resampled[:, 0], y=embedding_umap_resampled[:, 1],\n",
    "    hue=list(Y_res),\n",
    "    data=embedding_umap_resampled,\n",
    "    legend=\"full\",\n",
    "    alpha=0.2\n",
    ")"
   ]
  },
  {
   "attachments": {},
   "cell_type": "markdown",
   "metadata": {},
   "source": [
    "### PCA - 2d"
   ]
  },
  {
   "cell_type": "code",
   "execution_count": null,
   "metadata": {},
   "outputs": [],
   "source": [
    "pca = PCA(n_components=2, whiten=True) \n",
    "X_pca = pca.fit_transform(pd.get_dummies(X))\n",
    "X_resampled_pca = pca.fit_transform(X_res)"
   ]
  },
  {
   "cell_type": "code",
   "execution_count": null,
   "metadata": {},
   "outputs": [],
   "source": [
    "sns.set()\n",
    "_, axes = plt.subplots(1, 2, figsize=(15, 8))\n",
    "\n",
    "sns.scatterplot(\n",
    "    ax=axes[0],\n",
    "    x=X_pca[:, 0], y=X_pca[:, 1],\n",
    "    hue=list(Y),\n",
    "    data=X_pca,\n",
    "    legend=\"full\",\n",
    "    alpha=0.2\n",
    ")\n",
    "\n",
    "sns.scatterplot(\n",
    "    ax=axes[1],\n",
    "    x=X_resampled_pca[:, 0], y=X_resampled_pca[:, 1],\n",
    "    hue=list(Y_res),\n",
    "    data=X_resampled_pca,\n",
    "    legend=\"full\",\n",
    "    alpha=0.2\n",
    ")"
   ]
  },
  {
   "attachments": {},
   "cell_type": "markdown",
   "metadata": {},
   "source": [
    "### PCA - 3d"
   ]
  },
  {
   "cell_type": "code",
   "execution_count": null,
   "metadata": {},
   "outputs": [],
   "source": [
    "pca = PCA(n_components=3, whiten=True) \n",
    "X_pca_3d = pca.fit_transform(pd.get_dummies(X))\n",
    "X_resampled_pca_3d = pca.fit_transform(X_res)"
   ]
  },
  {
   "cell_type": "code",
   "execution_count": null,
   "metadata": {},
   "outputs": [],
   "source": [
    "fig = plt.figure(figsize = (10, 7))\n",
    "ax = plt.axes(projection =\"3d\")\n",
    " \n",
    "# Creating plot\n",
    "ax.scatter3D(X_pca_3d[:, 0], X_pca_3d[:, 1], X_pca_3d[:, 2])\n",
    "plt.title(\"simple 3D scatter plot\")\n",
    " \n",
    "# show plot\n",
    "plt.show()"
   ]
  },
  {
   "attachments": {},
   "cell_type": "markdown",
   "metadata": {},
   "source": [
    "### Hypertools (should be cited)"
   ]
  },
  {
   "cell_type": "code",
   "execution_count": null,
   "metadata": {},
   "outputs": [],
   "source": [
    "X_reduced = hyp.reduce(x=X, reduce='IncrementalPCA', ndims=10)"
   ]
  },
  {
   "cell_type": "code",
   "execution_count": null,
   "metadata": {},
   "outputs": [],
   "source": [
    "X_tsne_double_reduced = hyp.reduce(x=X_reduced, reduce='TSNE', ndims=3)"
   ]
  },
  {
   "cell_type": "code",
   "execution_count": null,
   "metadata": {},
   "outputs": [],
   "source": [
    "hyp.plot(X_tsne_double_reduced, '.', hue=Y, save_path='.')"
   ]
  },
  {
   "cell_type": "code",
   "execution_count": null,
   "metadata": {},
   "outputs": [],
   "source": [
    "hyp.plot(X_res, '.', hue=Y_res, reduce='FastICA')"
   ]
  }
 ],
 "metadata": {
  "kernelspec": {
   "display_name": "env",
   "language": "python",
   "name": "python3"
  },
  "language_info": {
   "codemirror_mode": {
    "name": "ipython",
    "version": 3
   },
   "file_extension": ".py",
   "mimetype": "text/x-python",
   "name": "python",
   "nbconvert_exporter": "python",
   "pygments_lexer": "ipython3",
   "version": "3.10.0"
  },
  "orig_nbformat": 4
 },
 "nbformat": 4,
 "nbformat_minor": 2
}
