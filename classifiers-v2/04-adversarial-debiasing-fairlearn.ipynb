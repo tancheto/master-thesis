{
 "cells": [
  {
   "cell_type": "code",
   "execution_count": 1,
   "metadata": {},
   "outputs": [],
   "source": [
    "import os\n",
    "import sys\n",
    "from pathlib import Path\n",
    "\n",
    "import plotly.graph_objects as go\n",
    "\n",
    "from fairlearn.adversarial import AdversarialFairnessClassifier\n",
    "\n",
    "sys.path.append(os.path.abspath('..'))\n",
    "from util import train_model_on_datasets"
   ]
  },
  {
   "cell_type": "code",
   "execution_count": 2,
   "metadata": {},
   "outputs": [],
   "source": [
    "# load datasets\n",
    "data_path = Path(os.getcwd()).parent.parent / \"data\" / \"dataset_diabetes\" / \"clsf_data\""
   ]
  },
  {
   "cell_type": "code",
   "execution_count": 3,
   "metadata": {},
   "outputs": [],
   "source": [
    "mitigator = AdversarialFairnessClassifier(\n",
    "    backend=\"torch\",\n",
    "    predictor_model=[50, \"leaky_relu\"],\n",
    "    adversary_model=[3, \"leaky_relu\"],\n",
    "    batch_size=2 ** 8,\n",
    "    progress_updates=0.5,\n",
    "    random_state=123,\n",
    "    constraints='demographic_parity',\n",
    "    # epochs=15\n",
    ")"
   ]
  },
  {
   "cell_type": "code",
   "execution_count": 4,
   "metadata": {},
   "outputs": [
    {
     "name": "stdout",
     "output_type": "stream",
     "text": [
      "\n",
      "no resampling, w/o sensitive attribute\n"
     ]
    },
    {
     "name": "stderr",
     "output_type": "stream",
     "text": [
      "c:\\Users\\Tanya\\Desktop\\TANYA\\FMI\\Masters\\thesis\\src\\env\\lib\\site-packages\\torch\\autograd\\__init__.py:251: UserWarning: CUDA initialization: The NVIDIA driver on your system is too old (found version 11070). Please update your GPU driver by downloading and installing a new version from the URL: http://www.nvidia.com/Download/index.aspx Alternatively, go to: https://pytorch.org to install a PyTorch version that has been compiled with your version of the CUDA driver. (Triggered internally at ..\\c10\\cuda\\CUDAFunctions.cpp:108.)\n",
      "  Variable._execution_engine.run_backward(  # Calls into the C++ engine to run the backward pass\n",
      "c:\\Users\\Tanya\\Desktop\\TANYA\\FMI\\Masters\\thesis\\src\\env\\lib\\site-packages\\torch\\nn\\modules\\module.py:1518: UserWarning: Implicit dimension choice for softmax has been deprecated. Change the call to include dim=X as an argument.\n",
      "  return self._call_impl(*args, **kwargs)\n"
     ]
    },
    {
     "name": "stdout",
     "output_type": "stream",
     "text": [
      "\n",
      "===Before training the model===\n",
      "                 balanced_accuracy  true_positive_rate  selection_rate\n",
      "race                                                                  \n",
      "AfricanAmerican                1.0                 1.0        0.111227\n",
      "Caucasian                      1.0                 1.0        0.113056\n",
      "Other                          1.0                 1.0        0.102564\n",
      "Unknown                        1.0                 1.0        0.083424\n",
      "The Demographic parity difference score on the training data: 0.029632712453962498\n",
      "The Disparate impact ratio on the training data: 0.9491723328270318\n",
      "\n",
      "===After training the model===\n",
      "The accuracy score for the testing data: 0.8862084213629441\n",
      "The precision score for the testing data: 0.2222222222222222\n",
      "The recall score for the testing data: 0.007926023778071334\n",
      "The F1 score for the testing data: 0.01530612244897959\n",
      "The F2 score for the testing data: 0.009819967266775777\n",
      "The specificity score for the testing data: 0.9965158721380378\n",
      "The balanced accuracy score for the testing data: 0.5022209479580546\n",
      "The G mean score for the testing data: 0.08887299082281175\n",
      "[[18019    63]\n",
      " [ 2253    18]]\n",
      "                 balanced_accuracy  true_positive_rate  selection_rate\n",
      "race                                                                  \n",
      "AfricanAmerican           0.502163            0.006652        0.002828\n",
      "Caucasian                 0.502465            0.008782        0.004405\n",
      "Other                     0.498668            0.000000        0.002413\n",
      "Unknown                   0.498721            0.000000        0.002353\n"
     ]
    },
    {
     "name": "stderr",
     "output_type": "stream",
     "text": [
      "c:\\Users\\Tanya\\Desktop\\TANYA\\FMI\\Masters\\thesis\\src\\env\\lib\\site-packages\\sklearn\\metrics\\_classification.py:1344: UndefinedMetricWarning: Recall is ill-defined and being set to 0.0 due to no true samples. Use `zero_division` parameter to control this behavior.\n",
      "  _warn_prf(average, modifier, msg_start, len(result))\n"
     ]
    },
    {
     "name": "stdout",
     "output_type": "stream",
     "text": [
      "The Demographic parity difference score on the trained model: 0.002052345167141747\n",
      "The Equalized odds difference score on the trained model: 0.008782201405152224\n",
      "The Equal opportunity difference score on the trained model: 0.007926023778071334\n",
      "The Disparate impact ratio on the trained model: 0.6178071539657853\n",
      "\n",
      "no resampling, with sensitive attribute\n"
     ]
    },
    {
     "name": "stderr",
     "output_type": "stream",
     "text": [
      "c:\\Users\\Tanya\\Desktop\\TANYA\\FMI\\Masters\\thesis\\src\\env\\lib\\site-packages\\torch\\nn\\modules\\module.py:1518: UserWarning: Implicit dimension choice for softmax has been deprecated. Change the call to include dim=X as an argument.\n",
      "  return self._call_impl(*args, **kwargs)\n"
     ]
    },
    {
     "name": "stdout",
     "output_type": "stream",
     "text": [
      "\n",
      "===Before training the model===\n",
      "                 balanced_accuracy  true_positive_rate  selection_rate\n",
      "race                                                                  \n",
      "AfricanAmerican                1.0                 1.0        0.111227\n",
      "Caucasian                      1.0                 1.0        0.113056\n",
      "Other                          1.0                 1.0        0.102564\n",
      "Unknown                        1.0                 1.0        0.083424\n",
      "The Demographic parity difference score on the training data: 0.029632712453962498\n",
      "The Disparate impact ratio on the training data: 0.9491723328270318\n",
      "\n",
      "===After training the model===\n",
      "The accuracy score for the testing data: 0.8860610229450204\n",
      "The precision score for the testing data: 0.2692307692307692\n",
      "The recall score for the testing data: 0.012329370321444297\n",
      "The F1 score for the testing data: 0.02357894736842105\n",
      "The F2 score for the testing data: 0.0152372659991293\n",
      "The specificity score for the testing data: 0.9957969251189028\n",
      "The balanced accuracy score for the testing data: 0.5040631477201736\n",
      "The G mean score for the testing data: 0.11080410215667331\n",
      "[[18006    76]\n",
      " [ 2243    28]]\n",
      "                 balanced_accuracy  true_positive_rate  selection_rate\n",
      "race                                                                  \n",
      "AfricanAmerican           0.503508            0.011086        0.004884\n",
      "Caucasian                 0.504511            0.013466        0.005457\n",
      "Other                     0.499334            0.000000        0.001206\n",
      "Unknown                   0.498721            0.000000        0.002353\n"
     ]
    },
    {
     "name": "stderr",
     "output_type": "stream",
     "text": [
      "c:\\Users\\Tanya\\Desktop\\TANYA\\FMI\\Masters\\thesis\\src\\env\\lib\\site-packages\\sklearn\\metrics\\_classification.py:1344: UndefinedMetricWarning: Recall is ill-defined and being set to 0.0 due to no true samples. Use `zero_division` parameter to control this behavior.\n",
      "  _warn_prf(average, modifier, msg_start, len(result))\n",
      "c:\\Users\\Tanya\\Desktop\\TANYA\\FMI\\Masters\\thesis\\src\\env\\lib\\site-packages\\torch\\nn\\modules\\module.py:1518: UserWarning: Implicit dimension choice for softmax has been deprecated. Change the call to include dim=X as an argument.\n",
      "  return self._call_impl(*args, **kwargs)\n"
     ]
    },
    {
     "name": "stdout",
     "output_type": "stream",
     "text": [
      "The Demographic parity difference score on the trained model: 0.004251022405072357\n",
      "The Equalized odds difference score on the trained model: 0.013466042154566744\n",
      "The Equal opportunity difference score on the trained model: 0.012329370321444297\n",
      "The Disparate impact ratio on the trained model: 0.7480676984766438\n",
      "\n",
      "target-resample, w/o sensitive attribute\n",
      "\n",
      "===Before training the model===\n",
      "                 balanced_accuracy  true_positive_rate  selection_rate\n",
      "0                                                                     \n",
      "AfricanAmerican                1.0                 1.0        0.490783\n",
      "Caucasian                      1.0                 1.0        0.506065\n",
      "Other                          1.0                 1.0        0.481119\n",
      "Unknown                        1.0                 1.0        0.403141\n",
      "The Demographic parity difference score on the training data: 0.10292347738199109\n",
      "The Disparate impact ratio on the training data: 0.9523355422167098\n",
      "\n",
      "===After training the model===\n",
      "The accuracy score for the testing data: 0.5469955289146563\n",
      "The precision score for the testing data: 0.13727946549744233\n",
      "The recall score for the testing data: 0.5790400704535447\n",
      "The F1 score for the testing data: 0.22194092827004222\n",
      "The F2 score for the testing data: 0.3523013449070353\n",
      "The specificity score for the testing data: 0.5429709102975334\n",
      "The balanced accuracy score for the testing data: 0.561005490375539\n",
      "The G mean score for the testing data: 0.5607155376417788\n",
      "[[9818 8264]\n",
      " [ 956 1315]]\n",
      "                 balanced_accuracy  true_positive_rate  selection_rate\n",
      "race                                                                  \n",
      "AfricanAmerican           0.571980            0.603104        0.475835\n",
      "Caucasian                 0.556502            0.572600        0.472286\n",
      "Other                     0.592646            0.615385        0.447527\n",
      "Unknown                   0.549233            0.500000        0.409412\n"
     ]
    },
    {
     "name": "stderr",
     "output_type": "stream",
     "text": [
      "c:\\Users\\Tanya\\Desktop\\TANYA\\FMI\\Masters\\thesis\\src\\env\\lib\\site-packages\\sklearn\\metrics\\_classification.py:1344: UndefinedMetricWarning: Recall is ill-defined and being set to 0.0 due to no true samples. Use `zero_division` parameter to control this behavior.\n",
      "  _warn_prf(average, modifier, msg_start, len(result))\n"
     ]
    },
    {
     "name": "stdout",
     "output_type": "stream",
     "text": [
      "The Demographic parity difference score on the trained model: 0.0664237108725238\n",
      "The Equalized odds difference score on the trained model: 0.11538461538461542\n",
      "The Equal opportunity difference score on the trained model: 0.5790400704535447\n",
      "The Disparate impact ratio on the trained model: 0.9862355366881671\n",
      "\n",
      "target-resample, with sensitive attribute\n"
     ]
    },
    {
     "name": "stderr",
     "output_type": "stream",
     "text": [
      "c:\\Users\\Tanya\\Desktop\\TANYA\\FMI\\Masters\\thesis\\src\\env\\lib\\site-packages\\torch\\nn\\modules\\module.py:1518: UserWarning: Implicit dimension choice for softmax has been deprecated. Change the call to include dim=X as an argument.\n",
      "  return self._call_impl(*args, **kwargs)\n"
     ]
    },
    {
     "name": "stdout",
     "output_type": "stream",
     "text": [
      "\n",
      "===Before training the model===\n",
      "                 balanced_accuracy  true_positive_rate  selection_rate\n",
      "0                                                                     \n",
      "AfricanAmerican                1.0                 1.0        0.490783\n",
      "Caucasian                      1.0                 1.0        0.506065\n",
      "Other                          1.0                 1.0        0.481119\n",
      "Unknown                        1.0                 1.0        0.403141\n",
      "The Demographic parity difference score on the training data: 0.10292347738199109\n",
      "The Disparate impact ratio on the training data: 0.9523355422167098\n",
      "\n",
      "===After training the model===\n",
      "The accuracy score for the testing data: 0.4913771925514666\n",
      "The precision score for the testing data: 0.13397952713108072\n",
      "The recall score for the testing data: 0.6512549537648613\n",
      "The F1 score for the testing data: 0.2222389181066867\n",
      "The F2 score for the testing data: 0.367489936888138\n",
      "The specificity score for the testing data: 0.4712974228514545\n",
      "The balanced accuracy score for the testing data: 0.5612761883081578\n",
      "The G mean score for the testing data: 0.5540169503982908\n",
      "[[8522 9560]\n",
      " [ 792 1479]]\n",
      "                 balanced_accuracy  true_positive_rate  selection_rate\n",
      "race                                                                  \n",
      "AfricanAmerican           0.547862            0.578714        0.494087\n",
      "Caucasian                 0.563260            0.673888        0.561575\n",
      "Other                     0.564342            0.564103        0.447527\n",
      "Unknown                   0.605499            0.676471        0.482353\n"
     ]
    },
    {
     "name": "stderr",
     "output_type": "stream",
     "text": [
      "c:\\Users\\Tanya\\Desktop\\TANYA\\FMI\\Masters\\thesis\\src\\env\\lib\\site-packages\\sklearn\\metrics\\_classification.py:1344: UndefinedMetricWarning: Recall is ill-defined and being set to 0.0 due to no true samples. Use `zero_division` parameter to control this behavior.\n",
      "  _warn_prf(average, modifier, msg_start, len(result))\n",
      "c:\\Users\\Tanya\\Desktop\\TANYA\\FMI\\Masters\\thesis\\src\\env\\lib\\site-packages\\torch\\nn\\modules\\module.py:1518: UserWarning: Implicit dimension choice for softmax has been deprecated. Change the call to include dim=X as an argument.\n",
      "  return self._call_impl(*args, **kwargs)\n"
     ]
    },
    {
     "name": "stdout",
     "output_type": "stream",
     "text": [
      "The Demographic parity difference score on the trained model: 0.11404824186301343\n",
      "The Equalized odds difference score on the trained model: 0.11236802413273006\n",
      "The Equal opportunity difference score on the trained model: 0.6512549537648613\n",
      "The Disparate impact ratio on the trained model: 0.8647357463214215\n",
      "\n",
      "sensitive-resample, w/o sensitive attribute\n",
      "\n",
      "===Before training the model===\n",
      "                 balanced_accuracy  true_positive_rate  selection_rate\n",
      "race                                                                  \n",
      "AfricanAmerican                1.0                 1.0        0.114843\n",
      "Caucasian                      1.0                 1.0        0.106717\n",
      "Other                          1.0                 1.0        0.096425\n",
      "Unknown                        1.0                 1.0        0.083424\n",
      "The Demographic parity difference score on the training data: 0.0314192849404117\n",
      "The Disparate impact ratio on the training data: 0.9204737732656514\n",
      "\n",
      "===After training the model===\n",
      "The accuracy score for the testing data: 0.45786861887682406\n",
      "The precision score for the testing data: 0.12009017601664788\n",
      "The recall score for the testing data: 0.6098634962571554\n",
      "The F1 score for the testing data: 0.20066647348594613\n",
      "The F2 score for the testing data: 0.3358878595333948\n",
      "The specificity score for the testing data: 0.43877889613980753\n",
      "The balanced accuracy score for the testing data: 0.5243211961984815\n",
      "The G mean score for the testing data: 0.5172960773905775\n",
      "[[ 7934 10148]\n",
      " [  886  1385]]\n",
      "                 balanced_accuracy  true_positive_rate  selection_rate\n",
      "race                                                                  \n",
      "AfricanAmerican           0.537722            0.600887        0.534190\n",
      "Caucasian                 0.522472            0.614754        0.574857\n",
      "Other                     0.541551            0.641026        0.565742\n",
      "Unknown                   0.413043            0.411765        0.571765\n"
     ]
    },
    {
     "name": "stderr",
     "output_type": "stream",
     "text": [
      "c:\\Users\\Tanya\\Desktop\\TANYA\\FMI\\Masters\\thesis\\src\\env\\lib\\site-packages\\sklearn\\metrics\\_classification.py:1344: UndefinedMetricWarning: Recall is ill-defined and being set to 0.0 due to no true samples. Use `zero_division` parameter to control this behavior.\n",
      "  _warn_prf(average, modifier, msg_start, len(result))\n",
      "c:\\Users\\Tanya\\Desktop\\TANYA\\FMI\\Masters\\thesis\\src\\env\\lib\\site-packages\\torch\\nn\\modules\\module.py:1518: UserWarning: Implicit dimension choice for softmax has been deprecated. Change the call to include dim=X as an argument.\n",
      "  return self._call_impl(*args, **kwargs)\n"
     ]
    },
    {
     "name": "stdout",
     "output_type": "stream",
     "text": [
      "The Demographic parity difference score on the trained model: 0.040666761207720836\n",
      "The Equalized odds difference score on the trained model: 0.22926093514328816\n",
      "The Equal opportunity difference score on the trained model: 0.6098634962571554\n",
      "The Disparate impact ratio on the trained model: 0.9435033029756397\n",
      "\n",
      "sensitive-resample, with sensitive attribute\n",
      "\n",
      "===Before training the model===\n",
      "                 balanced_accuracy  true_positive_rate  selection_rate\n",
      "race                                                                  \n",
      "AfricanAmerican                1.0                 1.0        0.114843\n",
      "Caucasian                      1.0                 1.0        0.106717\n",
      "Other                          1.0                 1.0        0.096425\n",
      "Unknown                        1.0                 1.0        0.083424\n",
      "The Demographic parity difference score on the training data: 0.0314192849404117\n",
      "The Disparate impact ratio on the training data: 0.9204737732656514\n",
      "\n",
      "===After training the model===\n",
      "The accuracy score for the testing data: 0.7916769026679114\n",
      "The precision score for the testing data: 0.13631326191355744\n",
      "The recall score for the testing data: 0.16248348745046234\n",
      "The F1 score for the testing data: 0.1482523101647248\n",
      "The F2 score for the testing data: 0.1564752777542193\n",
      "The specificity score for the testing data: 0.8707001437894039\n",
      "The balanced accuracy score for the testing data: 0.5165918156199331\n",
      "The G mean score for the testing data: 0.376130822834983\n",
      "[[15744  2338]\n",
      " [ 1902   369]]\n",
      "                 balanced_accuracy  true_positive_rate  selection_rate\n",
      "race                                                                  \n",
      "AfricanAmerican           0.507998            0.070953        0.056812\n",
      "Caucasian                 0.518236            0.181499        0.149122\n",
      "Other                     0.528321            0.153846        0.102533\n",
      "Unknown                   0.569693            0.441176        0.312941\n"
     ]
    },
    {
     "name": "stderr",
     "output_type": "stream",
     "text": [
      "c:\\Users\\Tanya\\Desktop\\TANYA\\FMI\\Masters\\thesis\\src\\env\\lib\\site-packages\\sklearn\\metrics\\_classification.py:1344: UndefinedMetricWarning: Recall is ill-defined and being set to 0.0 due to no true samples. Use `zero_division` parameter to control this behavior.\n",
      "  _warn_prf(average, modifier, msg_start, len(result))\n",
      "c:\\Users\\Tanya\\Desktop\\TANYA\\FMI\\Masters\\thesis\\src\\env\\lib\\site-packages\\torch\\nn\\modules\\module.py:1518: UserWarning: Implicit dimension choice for softmax has been deprecated. Change the call to include dim=X as an argument.\n",
      "  return self._call_impl(*args, **kwargs)\n"
     ]
    },
    {
     "name": "stdout",
     "output_type": "stream",
     "text": [
      "The Demographic parity difference score on the trained model: 0.25612883713896867\n",
      "The Equalized odds difference score on the trained model: 0.37022303378113997\n",
      "The Equal opportunity difference score on the trained model: 0.16248348745046234\n",
      "The Disparate impact ratio on the trained model: 0.5722966055554184\n",
      "\n",
      "multivariate-resample, w/o sensitive attribute\n",
      "\n",
      "===Before training the model===\n",
      "                 balanced_accuracy  true_positive_rate  selection_rate\n",
      "0                                                                     \n",
      "AfricanAmerican                1.0                 1.0             0.5\n",
      "Caucasian                      1.0                 1.0             0.5\n",
      "Other                          1.0                 1.0             0.5\n",
      "Unknown                        1.0                 1.0             0.5\n",
      "The Demographic parity difference score on the training data: 0.0\n",
      "The Disparate impact ratio on the training data: 1.0\n",
      "\n",
      "===After training the model===\n",
      "The accuracy score for the testing data: 0.30545865474377243\n",
      "The precision score for the testing data: 0.10952412295135917\n",
      "The recall score for the testing data: 0.7327168648172612\n",
      "The F1 score for the testing data: 0.19056344480073295\n",
      "The F2 score for the testing data: 0.3427112081393912\n",
      "The specificity score for the testing data: 0.2517973675478376\n",
      "The balanced accuracy score for the testing data: 0.4922571161825494\n",
      "The G mean score for the testing data: 0.42953018254703723\n",
      "[[ 4553 13529]\n",
      " [  607  1664]]\n",
      "                 balanced_accuracy  true_positive_rate  selection_rate\n",
      "race                                                                  \n",
      "AfricanAmerican           0.500576            0.716186        0.715167\n",
      "Caucasian                 0.490309            0.734192        0.751397\n",
      "Other                     0.524105            0.820513        0.776840\n",
      "Unknown                   0.434143            0.676471        0.797647\n"
     ]
    },
    {
     "name": "stderr",
     "output_type": "stream",
     "text": [
      "c:\\Users\\Tanya\\Desktop\\TANYA\\FMI\\Masters\\thesis\\src\\env\\lib\\site-packages\\sklearn\\metrics\\_classification.py:1344: UndefinedMetricWarning: Recall is ill-defined and being set to 0.0 due to no true samples. Use `zero_division` parameter to control this behavior.\n",
      "  _warn_prf(average, modifier, msg_start, len(result))\n",
      "c:\\Users\\Tanya\\Desktop\\TANYA\\FMI\\Masters\\thesis\\src\\env\\lib\\site-packages\\torch\\nn\\modules\\module.py:1518: UserWarning: Implicit dimension choice for softmax has been deprecated. Change the call to include dim=X as an argument.\n",
      "  return self._call_impl(*args, **kwargs)\n"
     ]
    },
    {
     "name": "stdout",
     "output_type": "stream",
     "text": [
      "The Demographic parity difference score on the trained model: 0.08247996370784816\n",
      "The Equalized odds difference score on the trained model: 0.14404223227752633\n",
      "The Equal opportunity difference score on the trained model: 0.7327168648172612\n",
      "The Disparate impact ratio on the trained model: 0.9740796016278264\n",
      "\n",
      "multivariate-resample, with sensitive attribute\n",
      "\n",
      "===Before training the model===\n",
      "                 balanced_accuracy  true_positive_rate  selection_rate\n",
      "0                                                                     \n",
      "AfricanAmerican                1.0                 1.0             0.5\n",
      "Caucasian                      1.0                 1.0             0.5\n",
      "Other                          1.0                 1.0             0.5\n",
      "Unknown                        1.0                 1.0             0.5\n",
      "The Demographic parity difference score on the training data: 0.0\n",
      "The Disparate impact ratio on the training data: 1.0\n",
      "\n",
      "===After training the model===\n",
      "The accuracy score for the testing data: 0.5042499877167985\n",
      "The precision score for the testing data: 0.1128057838962068\n",
      "The recall score for the testing data: 0.5015411712901805\n",
      "The F1 score for the testing data: 0.1841849935316947\n",
      "The F2 score for the testing data: 0.29690839893644755\n",
      "The specificity score for the testing data: 0.5045902001990931\n",
      "The balanced accuracy score for the testing data: 0.5030656857446367\n",
      "The G mean score for the testing data: 0.5030633757583628\n",
      "[[9124 8958]\n",
      " [1132 1139]]\n",
      "                 balanced_accuracy  true_positive_rate  selection_rate\n",
      "race                                                                  \n",
      "AfricanAmerican           0.493265            0.392461        0.404370\n",
      "Caucasian                 0.504700            0.528103        0.519758\n",
      "Other                     0.542277            0.500000        0.423402\n",
      "Unknown                   0.492967            0.617647        0.630588\n"
     ]
    },
    {
     "name": "stderr",
     "output_type": "stream",
     "text": [
      "c:\\Users\\Tanya\\Desktop\\TANYA\\FMI\\Masters\\thesis\\src\\env\\lib\\site-packages\\sklearn\\metrics\\_classification.py:1344: UndefinedMetricWarning: Recall is ill-defined and being set to 0.0 due to no true samples. Use `zero_division` parameter to control this behavior.\n",
      "  _warn_prf(average, modifier, msg_start, len(result))\n"
     ]
    },
    {
     "name": "stdout",
     "output_type": "stream",
     "text": [
      "The Demographic parity difference score on the trained model: 0.22621805534553158\n",
      "The Equalized odds difference score on the trained model: 0.22578159802297848\n",
      "The Equal opportunity difference score on the trained model: 0.5015411712901805\n",
      "The Disparate impact ratio on the trained model: 0.8198575030272984\n"
     ]
    },
    {
     "data": {
      "image/png": "[encoded data removed]",
      "text/plain": [
       "<Figure size 1200x400 with 3 Axes>"
      ]
     },
     "metadata": {},
     "output_type": "display_data"
    },
    {
     "data": {
      "image/png": "[encoded data removed]",
      "text/plain": [
       "<Figure size 1200x400 with 3 Axes>"
      ]
     },
     "metadata": {},
     "output_type": "display_data"
    },
    {
     "data": {
      "image/png": "[encoded data removed]",
      "text/plain": [
       "<Figure size 1200x400 with 3 Axes>"
      ]
     },
     "metadata": {},
     "output_type": "display_data"
    },
    {
     "data": {
      "image/png": "[encoded data removed]",
      "text/plain": [
       "<Figure size 1200x400 with 3 Axes>"
      ]
     },
     "metadata": {},
     "output_type": "display_data"
    },
    {
     "data": {
      "image/png": "[encoded data removed]",
      "text/plain": [
       "<Figure size 1200x400 with 3 Axes>"
      ]
     },
     "metadata": {},
     "output_type": "display_data"
    },
    {
     "data": {
      "image/png": "[encoded data removed]",
      "text/plain": [
       "<Figure size 1200x400 with 3 Axes>"
      ]
     },
     "metadata": {},
     "output_type": "display_data"
    },
    {
     "data": {
      "image/png": "[encoded data removed]",
      "text/plain": [
       "<Figure size 1200x400 with 3 Axes>"
      ]
     },
     "metadata": {},
     "output_type": "display_data"
    },
    {
     "data": {
      "image/png": "[encoded data removed]",
      "text/plain": [
       "<Figure size 1200x400 with 3 Axes>"
      ]
     },
     "metadata": {},
     "output_type": "display_data"
    }
   ],
   "source": [
    "train_data_fairness_results, performance_results, fairness_results = train_model_on_datasets(mitigator, type=\"adversarial\")"
   ]
  },
  {
   "cell_type": "code",
   "execution_count": 5,
   "metadata": {},
   "outputs": [
    {
     "data": {
      "application/vnd.plotly.v1+json": {
       "config": {
        "plotlyServerURL": "https://plot.ly"
       },
       "data": [
        {
         "name": "no resampling, w/o sensitive attribute",
         "r": [
          0.8862084213629441,
          0.2222222222222222,
          0.007926023778071334,
          0.01530612244897959,
          0.009819967266775777,
          0.9965158721380378,
          0.5022209479580546,
          0.08887299082281175
         ],
         "theta": [
          "accuracy",
          "precision",
          "recall",
          "f1",
          "f2",
          "specificity",
          "balanced accuracy",
          "geometric mean"
         ],
         "type": "scatterpolar"
        },
        {
         "name": "no resampling, with sensitive attribute",
         "r": [
          0.8860610229450204,
          0.2692307692307692,
          0.012329370321444297,
          0.02357894736842105,
          0.0152372659991293,
          0.9957969251189028,
          0.5040631477201736,
          0.11080410215667331
         ],
         "theta": [
          "accuracy",
          "precision",
          "recall",
          "f1",
          "f2",
          "specificity",
          "balanced accuracy",
          "geometric mean"
         ],
         "type": "scatterpolar"
        },
        {
         "name": "target-resample, w/o sensitive attribute",
         "r": [
          0.5469955289146563,
          0.13727946549744233,
          0.5790400704535447,
          0.22194092827004222,
          0.3523013449070353,
          0.5429709102975334,
          0.561005490375539,
          0.5607155376417788
         ],
         "theta": [
          "accuracy",
          "precision",
          "recall",
          "f1",
          "f2",
          "specificity",
          "balanced accuracy",
          "geometric mean"
         ],
         "type": "scatterpolar"
        },
        {
         "name": "target-resample, with sensitive attribute",
         "r": [
          0.4913771925514666,
          0.13397952713108072,
          0.6512549537648613,
          0.2222389181066867,
          0.367489936888138,
          0.4712974228514545,
          0.5612761883081578,
          0.5540169503982908
         ],
         "theta": [
          "accuracy",
          "precision",
          "recall",
          "f1",
          "f2",
          "specificity",
          "balanced accuracy",
          "geometric mean"
         ],
         "type": "scatterpolar"
        },
        {
         "name": "sensitive-resample, w/o sensitive attribute",
         "r": [
          0.45786861887682406,
          0.12009017601664788,
          0.6098634962571554,
          0.20066647348594613,
          0.3358878595333948,
          0.43877889613980753,
          0.5243211961984815,
          0.5172960773905775
         ],
         "theta": [
          "accuracy",
          "precision",
          "recall",
          "f1",
          "f2",
          "specificity",
          "balanced accuracy",
          "geometric mean"
         ],
         "type": "scatterpolar"
        },
        {
         "name": "sensitive-resample, with sensitive attribute",
         "r": [
          0.7916769026679114,
          0.13631326191355744,
          0.16248348745046234,
          0.1482523101647248,
          0.1564752777542193,
          0.8707001437894039,
          0.5165918156199331,
          0.376130822834983
         ],
         "theta": [
          "accuracy",
          "precision",
          "recall",
          "f1",
          "f2",
          "specificity",
          "balanced accuracy",
          "geometric mean"
         ],
         "type": "scatterpolar"
        },
        {
         "name": "multivariate-resample, w/o sensitive attribute",
         "r": [
          0.30545865474377243,
          0.10952412295135917,
          0.7327168648172612,
          0.19056344480073295,
          0.3427112081393912,
          0.2517973675478376,
          0.4922571161825494,
          0.42953018254703723
         ],
         "theta": [
          "accuracy",
          "precision",
          "recall",
          "f1",
          "f2",
          "specificity",
          "balanced accuracy",
          "geometric mean"
         ],
         "type": "scatterpolar"
        },
        {
         "name": "multivariate-resample, with sensitive attribute",
         "r": [
          0.5042499877167985,
          0.1128057838962068,
          0.5015411712901805,
          0.1841849935316947,
          0.29690839893644755,
          0.5045902001990931,
          0.5030656857446367,
          0.5030633757583628
         ],
         "theta": [
          "accuracy",
          "precision",
          "recall",
          "f1",
          "f2",
          "specificity",
          "balanced accuracy",
          "geometric mean"
         ],
         "type": "scatterpolar"
        }
       ],
       "layout": {
        "polar": {
         "radialaxis": {
          "range": [
           0,
           1
          ],
          "visible": true
         }
        },
        "showlegend": true,
        "template": {
         "data": {
          "bar": [
           {
            "error_x": {
             "color": "#2a3f5f"
            },
            "error_y": {
             "color": "#2a3f5f"
            },
            "marker": {
             "line": {
              "color": "#E5ECF6",
              "width": 0.5
             },
             "pattern": {
              "fillmode": "overlay",
              "size": 10,
              "solidity": 0.2
             }
            },
            "type": "bar"
           }
          ],
          "barpolar": [
           {
            "marker": {
             "line": {
              "color": "#E5ECF6",
              "width": 0.5
             },
             "pattern": {
              "fillmode": "overlay",
              "size": 10,
              "solidity": 0.2
             }
            },
            "type": "barpolar"
           }
          ],
          "carpet": [
           {
            "aaxis": {
             "endlinecolor": "#2a3f5f",
             "gridcolor": "white",
             "linecolor": "white",
             "minorgridcolor": "white",
             "startlinecolor": "#2a3f5f"
            },
            "baxis": {
             "endlinecolor": "#2a3f5f",
             "gridcolor": "white",
             "linecolor": "white",
             "minorgridcolor": "white",
             "startlinecolor": "#2a3f5f"
            },
            "type": "carpet"
           }
          ],
          "choropleth": [
           {
            "colorbar": {
             "outlinewidth": 0,
             "ticks": ""
            },
            "type": "choropleth"
           }
          ],
          "contour": [
           {
            "colorbar": {
             "outlinewidth": 0,
             "ticks": ""
            },
            "colorscale": [
             [
              0,
              "#0d0887"
             ],
             [
              0.1111111111111111,
              "#46039f"
             ],
             [
              0.2222222222222222,
              "#7201a8"
             ],
             [
              0.3333333333333333,
              "#9c179e"
             ],
             [
              0.4444444444444444,
              "#bd3786"
             ],
             [
              0.5555555555555556,
              "#d8576b"
             ],
             [
              0.6666666666666666,
              "#ed7953"
             ],
             [
              0.7777777777777778,
              "#fb9f3a"
             ],
             [
              0.8888888888888888,
              "#fdca26"
             ],
             [
              1,
              "#f0f921"
             ]
            ],
            "type": "contour"
           }
          ],
          "contourcarpet": [
           {
            "colorbar": {
             "outlinewidth": 0,
             "ticks": ""
            },
            "type": "contourcarpet"
           }
          ],
          "heatmap": [
           {
            "colorbar": {
             "outlinewidth": 0,
             "ticks": ""
            },
            "colorscale": [
             [
              0,
              "#0d0887"
             ],
             [
              0.1111111111111111,
              "#46039f"
             ],
             [
              0.2222222222222222,
              "#7201a8"
             ],
             [
              0.3333333333333333,
              "#9c179e"
             ],
             [
              0.4444444444444444,
              "#bd3786"
             ],
             [
              0.5555555555555556,
              "#d8576b"
             ],
             [
              0.6666666666666666,
              "#ed7953"
             ],
             [
              0.7777777777777778,
              "#fb9f3a"
             ],
             [
              0.8888888888888888,
              "#fdca26"
             ],
             [
              1,
              "#f0f921"
             ]
            ],
            "type": "heatmap"
           }
          ],
          "heatmapgl": [
           {
            "colorbar": {
             "outlinewidth": 0,
             "ticks": ""
            },
            "colorscale": [
             [
              0,
              "#0d0887"
             ],
             [
              0.1111111111111111,
              "#46039f"
             ],
             [
              0.2222222222222222,
              "#7201a8"
             ],
             [
              0.3333333333333333,
              "#9c179e"
             ],
             [
              0.4444444444444444,
              "#bd3786"
             ],
             [
              0.5555555555555556,
              "#d8576b"
             ],
             [
              0.6666666666666666,
              "#ed7953"
             ],
             [
              0.7777777777777778,
              "#fb9f3a"
             ],
             [
              0.8888888888888888,
              "#fdca26"
             ],
             [
              1,
              "#f0f921"
             ]
            ],
            "type": "heatmapgl"
           }
          ],
          "histogram": [
           {
            "marker": {
             "pattern": {
              "fillmode": "overlay",
              "size": 10,
              "solidity": 0.2
             }
            },
            "type": "histogram"
           }
          ],
          "histogram2d": [
           {
            "colorbar": {
             "outlinewidth": 0,
             "ticks": ""
            },
            "colorscale": [
             [
              0,
              "#0d0887"
             ],
             [
              0.1111111111111111,
              "#46039f"
             ],
             [
              0.2222222222222222,
              "#7201a8"
             ],
             [
              0.3333333333333333,
              "#9c179e"
             ],
             [
              0.4444444444444444,
              "#bd3786"
             ],
             [
              0.5555555555555556,
              "#d8576b"
             ],
             [
              0.6666666666666666,
              "#ed7953"
             ],
             [
              0.7777777777777778,
              "#fb9f3a"
             ],
             [
              0.8888888888888888,
              "#fdca26"
             ],
             [
              1,
              "#f0f921"
             ]
            ],
            "type": "histogram2d"
           }
          ],
          "histogram2dcontour": [
           {
            "colorbar": {
             "outlinewidth": 0,
             "ticks": ""
            },
            "colorscale": [
             [
              0,
              "#0d0887"
             ],
             [
              0.1111111111111111,
              "#46039f"
             ],
             [
              0.2222222222222222,
              "#7201a8"
             ],
             [
              0.3333333333333333,
              "#9c179e"
             ],
             [
              0.4444444444444444,
              "#bd3786"
             ],
             [
              0.5555555555555556,
              "#d8576b"
             ],
             [
              0.6666666666666666,
              "#ed7953"
             ],
             [
              0.7777777777777778,
              "#fb9f3a"
             ],
             [
              0.8888888888888888,
              "#fdca26"
             ],
             [
              1,
              "#f0f921"
             ]
            ],
            "type": "histogram2dcontour"
           }
          ],
          "mesh3d": [
           {
            "colorbar": {
             "outlinewidth": 0,
             "ticks": ""
            },
            "type": "mesh3d"
           }
          ],
          "parcoords": [
           {
            "line": {
             "colorbar": {
              "outlinewidth": 0,
              "ticks": ""
             }
            },
            "type": "parcoords"
           }
          ],
          "pie": [
           {
            "automargin": true,
            "type": "pie"
           }
          ],
          "scatter": [
           {
            "fillpattern": {
             "fillmode": "overlay",
             "size": 10,
             "solidity": 0.2
            },
            "type": "scatter"
           }
          ],
          "scatter3d": [
           {
            "line": {
             "colorbar": {
              "outlinewidth": 0,
              "ticks": ""
             }
            },
            "marker": {
             "colorbar": {
              "outlinewidth": 0,
              "ticks": ""
             }
            },
            "type": "scatter3d"
           }
          ],
          "scattercarpet": [
           {
            "marker": {
             "colorbar": {
              "outlinewidth": 0,
              "ticks": ""
             }
            },
            "type": "scattercarpet"
           }
          ],
          "scattergeo": [
           {
            "marker": {
             "colorbar": {
              "outlinewidth": 0,
              "ticks": ""
             }
            },
            "type": "scattergeo"
           }
          ],
          "scattergl": [
           {
            "marker": {
             "colorbar": {
              "outlinewidth": 0,
              "ticks": ""
             }
            },
            "type": "scattergl"
           }
          ],
          "scattermapbox": [
           {
            "marker": {
             "colorbar": {
              "outlinewidth": 0,
              "ticks": ""
             }
            },
            "type": "scattermapbox"
           }
          ],
          "scatterpolar": [
           {
            "marker": {
             "colorbar": {
              "outlinewidth": 0,
              "ticks": ""
             }
            },
            "type": "scatterpolar"
           }
          ],
          "scatterpolargl": [
           {
            "marker": {
             "colorbar": {
              "outlinewidth": 0,
              "ticks": ""
             }
            },
            "type": "scatterpolargl"
           }
          ],
          "scatterternary": [
           {
            "marker": {
             "colorbar": {
              "outlinewidth": 0,
              "ticks": ""
             }
            },
            "type": "scatterternary"
           }
          ],
          "surface": [
           {
            "colorbar": {
             "outlinewidth": 0,
             "ticks": ""
            },
            "colorscale": [
             [
              0,
              "#0d0887"
             ],
             [
              0.1111111111111111,
              "#46039f"
             ],
             [
              0.2222222222222222,
              "#7201a8"
             ],
             [
              0.3333333333333333,
              "#9c179e"
             ],
             [
              0.4444444444444444,
              "#bd3786"
             ],
             [
              0.5555555555555556,
              "#d8576b"
             ],
             [
              0.6666666666666666,
              "#ed7953"
             ],
             [
              0.7777777777777778,
              "#fb9f3a"
             ],
             [
              0.8888888888888888,
              "#fdca26"
             ],
             [
              1,
              "#f0f921"
             ]
            ],
            "type": "surface"
           }
          ],
          "table": [
           {
            "cells": {
             "fill": {
              "color": "#EBF0F8"
             },
             "line": {
              "color": "white"
             }
            },
            "header": {
             "fill": {
              "color": "#C8D4E3"
             },
             "line": {
              "color": "white"
             }
            },
            "type": "table"
           }
          ]
         },
         "layout": {
          "annotationdefaults": {
           "arrowcolor": "#2a3f5f",
           "arrowhead": 0,
           "arrowwidth": 1
          },
          "autotypenumbers": "strict",
          "coloraxis": {
           "colorbar": {
            "outlinewidth": 0,
            "ticks": ""
           }
          },
          "colorscale": {
           "diverging": [
            [
             0,
             "#8e0152"
            ],
            [
             0.1,
             "#c51b7d"
            ],
            [
             0.2,
             "#de77ae"
            ],
            [
             0.3,
             "#f1b6da"
            ],
            [
             0.4,
             "#fde0ef"
            ],
            [
             0.5,
             "#f7f7f7"
            ],
            [
             0.6,
             "#e6f5d0"
            ],
            [
             0.7,
             "#b8e186"
            ],
            [
             0.8,
             "#7fbc41"
            ],
            [
             0.9,
             "#4d9221"
            ],
            [
             1,
             "#276419"
            ]
           ],
           "sequential": [
            [
             0,
             "#0d0887"
            ],
            [
             0.1111111111111111,
             "#46039f"
            ],
            [
             0.2222222222222222,
             "#7201a8"
            ],
            [
             0.3333333333333333,
             "#9c179e"
            ],
            [
             0.4444444444444444,
             "#bd3786"
            ],
            [
             0.5555555555555556,
             "#d8576b"
            ],
            [
             0.6666666666666666,
             "#ed7953"
            ],
            [
             0.7777777777777778,
             "#fb9f3a"
            ],
            [
             0.8888888888888888,
             "#fdca26"
            ],
            [
             1,
             "#f0f921"
            ]
           ],
           "sequentialminus": [
            [
             0,
             "#0d0887"
            ],
            [
             0.1111111111111111,
             "#46039f"
            ],
            [
             0.2222222222222222,
             "#7201a8"
            ],
            [
             0.3333333333333333,
             "#9c179e"
            ],
            [
             0.4444444444444444,
             "#bd3786"
            ],
            [
             0.5555555555555556,
             "#d8576b"
            ],
            [
             0.6666666666666666,
             "#ed7953"
            ],
            [
             0.7777777777777778,
             "#fb9f3a"
            ],
            [
             0.8888888888888888,
             "#fdca26"
            ],
            [
             1,
             "#f0f921"
            ]
           ]
          },
          "colorway": [
           "#636efa",
           "#EF553B",
           "#00cc96",
           "#ab63fa",
           "#FFA15A",
           "#19d3f3",
           "#FF6692",
           "#B6E880",
           "#FF97FF",
           "#FECB52"
          ],
          "font": {
           "color": "#2a3f5f"
          },
          "geo": {
           "bgcolor": "white",
           "lakecolor": "white",
           "landcolor": "#E5ECF6",
           "showlakes": true,
           "showland": true,
           "subunitcolor": "white"
          },
          "hoverlabel": {
           "align": "left"
          },
          "hovermode": "closest",
          "mapbox": {
           "style": "light"
          },
          "paper_bgcolor": "white",
          "plot_bgcolor": "#E5ECF6",
          "polar": {
           "angularaxis": {
            "gridcolor": "white",
            "linecolor": "white",
            "ticks": ""
           },
           "bgcolor": "#E5ECF6",
           "radialaxis": {
            "gridcolor": "white",
            "linecolor": "white",
            "ticks": ""
           }
          },
          "scene": {
           "xaxis": {
            "backgroundcolor": "#E5ECF6",
            "gridcolor": "white",
            "gridwidth": 2,
            "linecolor": "white",
            "showbackground": true,
            "ticks": "",
            "zerolinecolor": "white"
           },
           "yaxis": {
            "backgroundcolor": "#E5ECF6",
            "gridcolor": "white",
            "gridwidth": 2,
            "linecolor": "white",
            "showbackground": true,
            "ticks": "",
            "zerolinecolor": "white"
           },
           "zaxis": {
            "backgroundcolor": "#E5ECF6",
            "gridcolor": "white",
            "gridwidth": 2,
            "linecolor": "white",
            "showbackground": true,
            "ticks": "",
            "zerolinecolor": "white"
           }
          },
          "shapedefaults": {
           "line": {
            "color": "#2a3f5f"
           }
          },
          "ternary": {
           "aaxis": {
            "gridcolor": "white",
            "linecolor": "white",
            "ticks": ""
           },
           "baxis": {
            "gridcolor": "white",
            "linecolor": "white",
            "ticks": ""
           },
           "bgcolor": "#E5ECF6",
           "caxis": {
            "gridcolor": "white",
            "linecolor": "white",
            "ticks": ""
           }
          },
          "title": {
           "x": 0.05
          },
          "xaxis": {
           "automargin": true,
           "gridcolor": "white",
           "linecolor": "white",
           "ticks": "",
           "title": {
            "standoff": 15
           },
           "zerolinecolor": "white",
           "zerolinewidth": 2
          },
          "yaxis": {
           "automargin": true,
           "gridcolor": "white",
           "linecolor": "white",
           "ticks": "",
           "title": {
            "standoff": 15
           },
           "zerolinecolor": "white",
           "zerolinewidth": 2
          }
         }
        }
       }
      }
     },
     "metadata": {},
     "output_type": "display_data"
    }
   ],
   "source": [
    "categories = ['accuracy', 'precision', 'recall', 'f1', 'f2', 'specificity', 'balanced accuracy', 'geometric mean']\n",
    "dataset_ref = [ 'no resampling, w/o sensitive attribute', 'no resampling, with sensitive attribute', \\\n",
    "                    'target-resample, w/o sensitive attribute', 'target-resample, with sensitive attribute', \\\n",
    "                    'sensitive-resample, w/o sensitive attribute', 'sensitive-resample, with sensitive attribute', \\\n",
    "                    'multivariate-resample, w/o sensitive attribute', 'multivariate-resample, with sensitive attribute']\n",
    "\n",
    "\n",
    "fig = go.Figure()\n",
    "\n",
    "for res_list,ref in zip(performance_results, dataset_ref):\n",
    "\n",
    "  fig.add_trace(go.Scatterpolar(\n",
    "        r=res_list,\n",
    "        theta=categories,\n",
    "        # fill='toself',\n",
    "        name=ref\n",
    "  ))\n",
    "\n",
    "\n",
    "fig.update_layout(\n",
    "  polar=dict(\n",
    "    radialaxis=dict(\n",
    "      visible=True,\n",
    "      range=[0, 1]\n",
    "    )),\n",
    "  showlegend=True\n",
    ")\n",
    "\n",
    "fig.show()"
   ]
  },
  {
   "cell_type": "code",
   "execution_count": 6,
   "metadata": {},
   "outputs": [
    {
     "ename": "TypeError",
     "evalue": "Object of type MetricFrame is not JSON serializable",
     "output_type": "error",
     "traceback": [
      "\u001b[1;31m---------------------------------------------------------------------------\u001b[0m",
      "\u001b[1;31mTypeError\u001b[0m                                 Traceback (most recent call last)",
      "Cell \u001b[1;32mIn[6], line 29\u001b[0m\n\u001b[0;32m     12\u001b[0m   fig\u001b[38;5;241m.\u001b[39madd_trace(go\u001b[38;5;241m.\u001b[39mScatterpolar(\n\u001b[0;32m     13\u001b[0m         r\u001b[38;5;241m=\u001b[39mres_list,\n\u001b[0;32m     14\u001b[0m         theta\u001b[38;5;241m=\u001b[39mcategories,\n\u001b[0;32m     15\u001b[0m         \u001b[38;5;66;03m# fill='toself',\u001b[39;00m\n\u001b[0;32m     16\u001b[0m         name\u001b[38;5;241m=\u001b[39mref\n\u001b[0;32m     17\u001b[0m   ))\n\u001b[0;32m     20\u001b[0m fig\u001b[38;5;241m.\u001b[39mupdate_layout(\n\u001b[0;32m     21\u001b[0m   polar\u001b[38;5;241m=\u001b[39m\u001b[38;5;28mdict\u001b[39m(\n\u001b[0;32m     22\u001b[0m     radialaxis\u001b[38;5;241m=\u001b[39m\u001b[38;5;28mdict\u001b[39m(\n\u001b[1;32m   (...)\u001b[0m\n\u001b[0;32m     26\u001b[0m   showlegend\u001b[38;5;241m=\u001b[39m\u001b[38;5;28;01mTrue\u001b[39;00m\n\u001b[0;32m     27\u001b[0m )\n\u001b[1;32m---> 29\u001b[0m \u001b[43mfig\u001b[49m\u001b[38;5;241;43m.\u001b[39;49m\u001b[43mshow\u001b[49m\u001b[43m(\u001b[49m\u001b[43m)\u001b[49m\n",
      "File \u001b[1;32mc:\\Users\\Tanya\\Desktop\\TANYA\\FMI\\Masters\\thesis\\src\\env\\lib\\site-packages\\plotly\\basedatatypes.py:3410\u001b[0m, in \u001b[0;36mBaseFigure.show\u001b[1;34m(self, *args, **kwargs)\u001b[0m\n\u001b[0;32m   3377\u001b[0m \u001b[38;5;250m\u001b[39m\u001b[38;5;124;03m\"\"\"\u001b[39;00m\n\u001b[0;32m   3378\u001b[0m \u001b[38;5;124;03mShow a figure using either the default renderer(s) or the renderer(s)\u001b[39;00m\n\u001b[0;32m   3379\u001b[0m \u001b[38;5;124;03mspecified by the renderer argument\u001b[39;00m\n\u001b[1;32m   (...)\u001b[0m\n\u001b[0;32m   3406\u001b[0m \u001b[38;5;124;03mNone\u001b[39;00m\n\u001b[0;32m   3407\u001b[0m \u001b[38;5;124;03m\"\"\"\u001b[39;00m\n\u001b[0;32m   3408\u001b[0m \u001b[38;5;28;01mimport\u001b[39;00m \u001b[38;5;21;01mplotly\u001b[39;00m\u001b[38;5;21;01m.\u001b[39;00m\u001b[38;5;21;01mio\u001b[39;00m \u001b[38;5;28;01mas\u001b[39;00m \u001b[38;5;21;01mpio\u001b[39;00m\n\u001b[1;32m-> 3410\u001b[0m \u001b[38;5;28;01mreturn\u001b[39;00m pio\u001b[38;5;241m.\u001b[39mshow(\u001b[38;5;28mself\u001b[39m, \u001b[38;5;241m*\u001b[39margs, \u001b[38;5;241m*\u001b[39m\u001b[38;5;241m*\u001b[39mkwargs)\n",
      "File \u001b[1;32mc:\\Users\\Tanya\\Desktop\\TANYA\\FMI\\Masters\\thesis\\src\\env\\lib\\site-packages\\plotly\\io\\_renderers.py:386\u001b[0m, in \u001b[0;36mshow\u001b[1;34m(fig, renderer, validate, **kwargs)\u001b[0m\n\u001b[0;32m    383\u001b[0m fig_dict \u001b[38;5;241m=\u001b[39m validate_coerce_fig_to_dict(fig, validate)\n\u001b[0;32m    385\u001b[0m \u001b[38;5;66;03m# Mimetype renderers\u001b[39;00m\n\u001b[1;32m--> 386\u001b[0m bundle \u001b[38;5;241m=\u001b[39m renderers\u001b[38;5;241m.\u001b[39m_build_mime_bundle(fig_dict, renderers_string\u001b[38;5;241m=\u001b[39mrenderer, \u001b[38;5;241m*\u001b[39m\u001b[38;5;241m*\u001b[39mkwargs)\n\u001b[0;32m    387\u001b[0m \u001b[38;5;28;01mif\u001b[39;00m bundle:\n\u001b[0;32m    388\u001b[0m     \u001b[38;5;28;01mif\u001b[39;00m \u001b[38;5;129;01mnot\u001b[39;00m ipython_display:\n",
      "File \u001b[1;32mc:\\Users\\Tanya\\Desktop\\TANYA\\FMI\\Masters\\thesis\\src\\env\\lib\\site-packages\\plotly\\io\\_renderers.py:294\u001b[0m, in \u001b[0;36mRenderersConfig._build_mime_bundle\u001b[1;34m(self, fig_dict, renderers_string, **kwargs)\u001b[0m\n\u001b[0;32m    291\u001b[0m             \u001b[38;5;28;01mif\u001b[39;00m \u001b[38;5;28mhasattr\u001b[39m(renderer, k):\n\u001b[0;32m    292\u001b[0m                 \u001b[38;5;28msetattr\u001b[39m(renderer, k, v)\n\u001b[1;32m--> 294\u001b[0m         bundle\u001b[38;5;241m.\u001b[39mupdate(\u001b[43mrenderer\u001b[49m\u001b[38;5;241;43m.\u001b[39;49m\u001b[43mto_mimebundle\u001b[49m\u001b[43m(\u001b[49m\u001b[43mfig_dict\u001b[49m\u001b[43m)\u001b[49m)\n\u001b[0;32m    296\u001b[0m \u001b[38;5;28;01mreturn\u001b[39;00m bundle\n",
      "File \u001b[1;32mc:\\Users\\Tanya\\Desktop\\TANYA\\FMI\\Masters\\thesis\\src\\env\\lib\\site-packages\\plotly\\io\\_base_renderers.py:94\u001b[0m, in \u001b[0;36mPlotlyRenderer.to_mimebundle\u001b[1;34m(self, fig_dict)\u001b[0m\n\u001b[0;32m     90\u001b[0m \u001b[38;5;28;01mif\u001b[39;00m config:\n\u001b[0;32m     91\u001b[0m     fig_dict[\u001b[38;5;124m\"\u001b[39m\u001b[38;5;124mconfig\u001b[39m\u001b[38;5;124m\"\u001b[39m] \u001b[38;5;241m=\u001b[39m config\n\u001b[0;32m     93\u001b[0m json_compatible_fig_dict \u001b[38;5;241m=\u001b[39m json\u001b[38;5;241m.\u001b[39mloads(\n\u001b[1;32m---> 94\u001b[0m     \u001b[43mto_json\u001b[49m\u001b[43m(\u001b[49m\u001b[43mfig_dict\u001b[49m\u001b[43m,\u001b[49m\u001b[43m \u001b[49m\u001b[43mvalidate\u001b[49m\u001b[38;5;241;43m=\u001b[39;49m\u001b[38;5;28;43;01mFalse\u001b[39;49;00m\u001b[43m,\u001b[49m\u001b[43m \u001b[49m\u001b[43mremove_uids\u001b[49m\u001b[38;5;241;43m=\u001b[39;49m\u001b[38;5;28;43;01mFalse\u001b[39;49;00m\u001b[43m)\u001b[49m\n\u001b[0;32m     95\u001b[0m )\n\u001b[0;32m     97\u001b[0m \u001b[38;5;28;01mreturn\u001b[39;00m {\u001b[38;5;124m\"\u001b[39m\u001b[38;5;124mapplication/vnd.plotly.v1+json\u001b[39m\u001b[38;5;124m\"\u001b[39m: json_compatible_fig_dict}\n",
      "File \u001b[1;32mc:\\Users\\Tanya\\Desktop\\TANYA\\FMI\\Masters\\thesis\\src\\env\\lib\\site-packages\\plotly\\io\\_json.py:221\u001b[0m, in \u001b[0;36mto_json\u001b[1;34m(fig, validate, pretty, remove_uids, engine)\u001b[0m\n\u001b[0;32m    218\u001b[0m     \u001b[38;5;28;01mfor\u001b[39;00m trace \u001b[38;5;129;01min\u001b[39;00m fig_dict\u001b[38;5;241m.\u001b[39mget(\u001b[38;5;124m\"\u001b[39m\u001b[38;5;124mdata\u001b[39m\u001b[38;5;124m\"\u001b[39m, []):\n\u001b[0;32m    219\u001b[0m         trace\u001b[38;5;241m.\u001b[39mpop(\u001b[38;5;124m\"\u001b[39m\u001b[38;5;124muid\u001b[39m\u001b[38;5;124m\"\u001b[39m, \u001b[38;5;28;01mNone\u001b[39;00m)\n\u001b[1;32m--> 221\u001b[0m \u001b[38;5;28;01mreturn\u001b[39;00m \u001b[43mto_json_plotly\u001b[49m\u001b[43m(\u001b[49m\u001b[43mfig_dict\u001b[49m\u001b[43m,\u001b[49m\u001b[43m \u001b[49m\u001b[43mpretty\u001b[49m\u001b[38;5;241;43m=\u001b[39;49m\u001b[43mpretty\u001b[49m\u001b[43m,\u001b[49m\u001b[43m \u001b[49m\u001b[43mengine\u001b[49m\u001b[38;5;241;43m=\u001b[39;49m\u001b[43mengine\u001b[49m\u001b[43m)\u001b[49m\n",
      "File \u001b[1;32mc:\\Users\\Tanya\\Desktop\\TANYA\\FMI\\Masters\\thesis\\src\\env\\lib\\site-packages\\plotly\\io\\_json.py:142\u001b[0m, in \u001b[0;36mto_json_plotly\u001b[1;34m(plotly_object, pretty, engine)\u001b[0m\n\u001b[0;32m    137\u001b[0m         opts[\u001b[38;5;124m\"\u001b[39m\u001b[38;5;124mseparators\u001b[39m\u001b[38;5;124m\"\u001b[39m] \u001b[38;5;241m=\u001b[39m (\u001b[38;5;124m\"\u001b[39m\u001b[38;5;124m,\u001b[39m\u001b[38;5;124m\"\u001b[39m, \u001b[38;5;124m\"\u001b[39m\u001b[38;5;124m:\u001b[39m\u001b[38;5;124m\"\u001b[39m)\n\u001b[0;32m    139\u001b[0m     \u001b[38;5;28;01mfrom\u001b[39;00m \u001b[38;5;21;01m_plotly_utils\u001b[39;00m\u001b[38;5;21;01m.\u001b[39;00m\u001b[38;5;21;01mutils\u001b[39;00m \u001b[38;5;28;01mimport\u001b[39;00m PlotlyJSONEncoder\n\u001b[0;32m    141\u001b[0m     \u001b[38;5;28;01mreturn\u001b[39;00m _safe(\n\u001b[1;32m--> 142\u001b[0m         json\u001b[38;5;241m.\u001b[39mdumps(plotly_object, \u001b[38;5;28mcls\u001b[39m\u001b[38;5;241m=\u001b[39mPlotlyJSONEncoder, \u001b[38;5;241m*\u001b[39m\u001b[38;5;241m*\u001b[39mopts), _swap_json\n\u001b[0;32m    143\u001b[0m     )\n\u001b[0;32m    144\u001b[0m \u001b[38;5;28;01melif\u001b[39;00m engine \u001b[38;5;241m==\u001b[39m \u001b[38;5;124m\"\u001b[39m\u001b[38;5;124morjson\u001b[39m\u001b[38;5;124m\"\u001b[39m:\n\u001b[0;32m    145\u001b[0m     JsonConfig\u001b[38;5;241m.\u001b[39mvalidate_orjson()\n",
      "File \u001b[1;32m~\\AppData\\Local\\Programs\\Python\\Python310\\lib\\json\\__init__.py:238\u001b[0m, in \u001b[0;36mdumps\u001b[1;34m(obj, skipkeys, ensure_ascii, check_circular, allow_nan, cls, indent, separators, default, sort_keys, **kw)\u001b[0m\n\u001b[0;32m    232\u001b[0m \u001b[38;5;28;01mif\u001b[39;00m \u001b[38;5;28mcls\u001b[39m \u001b[38;5;129;01mis\u001b[39;00m \u001b[38;5;28;01mNone\u001b[39;00m:\n\u001b[0;32m    233\u001b[0m     \u001b[38;5;28mcls\u001b[39m \u001b[38;5;241m=\u001b[39m JSONEncoder\n\u001b[0;32m    234\u001b[0m \u001b[38;5;28;01mreturn\u001b[39;00m \u001b[38;5;28;43mcls\u001b[39;49m\u001b[43m(\u001b[49m\n\u001b[0;32m    235\u001b[0m \u001b[43m    \u001b[49m\u001b[43mskipkeys\u001b[49m\u001b[38;5;241;43m=\u001b[39;49m\u001b[43mskipkeys\u001b[49m\u001b[43m,\u001b[49m\u001b[43m \u001b[49m\u001b[43mensure_ascii\u001b[49m\u001b[38;5;241;43m=\u001b[39;49m\u001b[43mensure_ascii\u001b[49m\u001b[43m,\u001b[49m\n\u001b[0;32m    236\u001b[0m \u001b[43m    \u001b[49m\u001b[43mcheck_circular\u001b[49m\u001b[38;5;241;43m=\u001b[39;49m\u001b[43mcheck_circular\u001b[49m\u001b[43m,\u001b[49m\u001b[43m \u001b[49m\u001b[43mallow_nan\u001b[49m\u001b[38;5;241;43m=\u001b[39;49m\u001b[43mallow_nan\u001b[49m\u001b[43m,\u001b[49m\u001b[43m \u001b[49m\u001b[43mindent\u001b[49m\u001b[38;5;241;43m=\u001b[39;49m\u001b[43mindent\u001b[49m\u001b[43m,\u001b[49m\n\u001b[0;32m    237\u001b[0m \u001b[43m    \u001b[49m\u001b[43mseparators\u001b[49m\u001b[38;5;241;43m=\u001b[39;49m\u001b[43mseparators\u001b[49m\u001b[43m,\u001b[49m\u001b[43m \u001b[49m\u001b[43mdefault\u001b[49m\u001b[38;5;241;43m=\u001b[39;49m\u001b[43mdefault\u001b[49m\u001b[43m,\u001b[49m\u001b[43m \u001b[49m\u001b[43msort_keys\u001b[49m\u001b[38;5;241;43m=\u001b[39;49m\u001b[43msort_keys\u001b[49m\u001b[43m,\u001b[49m\n\u001b[1;32m--> 238\u001b[0m \u001b[43m    \u001b[49m\u001b[38;5;241;43m*\u001b[39;49m\u001b[38;5;241;43m*\u001b[39;49m\u001b[43mkw\u001b[49m\u001b[43m)\u001b[49m\u001b[38;5;241;43m.\u001b[39;49m\u001b[43mencode\u001b[49m\u001b[43m(\u001b[49m\u001b[43mobj\u001b[49m\u001b[43m)\u001b[49m\n",
      "File \u001b[1;32mc:\\Users\\Tanya\\Desktop\\TANYA\\FMI\\Masters\\thesis\\src\\env\\lib\\site-packages\\_plotly_utils\\utils.py:56\u001b[0m, in \u001b[0;36mPlotlyJSONEncoder.encode\u001b[1;34m(self, o)\u001b[0m\n\u001b[0;32m     49\u001b[0m \u001b[38;5;250m\u001b[39m\u001b[38;5;124;03m\"\"\"\u001b[39;00m\n\u001b[0;32m     50\u001b[0m \u001b[38;5;124;03mLoad and then dump the result using parse_constant kwarg\u001b[39;00m\n\u001b[0;32m     51\u001b[0m \n\u001b[0;32m     52\u001b[0m \u001b[38;5;124;03mNote that setting invalid separators will cause a failure at this step.\u001b[39;00m\n\u001b[0;32m     53\u001b[0m \n\u001b[0;32m     54\u001b[0m \u001b[38;5;124;03m\"\"\"\u001b[39;00m\n\u001b[0;32m     55\u001b[0m \u001b[38;5;66;03m# this will raise errors in a normal-expected way\u001b[39;00m\n\u001b[1;32m---> 56\u001b[0m encoded_o \u001b[38;5;241m=\u001b[39m \u001b[38;5;28;43msuper\u001b[39;49m\u001b[43m(\u001b[49m\u001b[43mPlotlyJSONEncoder\u001b[49m\u001b[43m,\u001b[49m\u001b[43m \u001b[49m\u001b[38;5;28;43mself\u001b[39;49m\u001b[43m)\u001b[49m\u001b[38;5;241;43m.\u001b[39;49m\u001b[43mencode\u001b[49m\u001b[43m(\u001b[49m\u001b[43mo\u001b[49m\u001b[43m)\u001b[49m\n\u001b[0;32m     57\u001b[0m \u001b[38;5;66;03m# Brute force guessing whether NaN or Infinity values are in the string\u001b[39;00m\n\u001b[0;32m     58\u001b[0m \u001b[38;5;66;03m# We catch false positive cases (e.g. strings such as titles, labels etc.)\u001b[39;00m\n\u001b[0;32m     59\u001b[0m \u001b[38;5;66;03m# but this is ok since the intention is to skip the decoding / reencoding\u001b[39;00m\n\u001b[0;32m     60\u001b[0m \u001b[38;5;66;03m# step when it's completely safe\u001b[39;00m\n\u001b[0;32m     62\u001b[0m \u001b[38;5;28;01mif\u001b[39;00m \u001b[38;5;129;01mnot\u001b[39;00m (\u001b[38;5;124m\"\u001b[39m\u001b[38;5;124mNaN\u001b[39m\u001b[38;5;124m\"\u001b[39m \u001b[38;5;129;01min\u001b[39;00m encoded_o \u001b[38;5;129;01mor\u001b[39;00m \u001b[38;5;124m\"\u001b[39m\u001b[38;5;124mInfinity\u001b[39m\u001b[38;5;124m\"\u001b[39m \u001b[38;5;129;01min\u001b[39;00m encoded_o):\n",
      "File \u001b[1;32m~\\AppData\\Local\\Programs\\Python\\Python310\\lib\\json\\encoder.py:199\u001b[0m, in \u001b[0;36mJSONEncoder.encode\u001b[1;34m(self, o)\u001b[0m\n\u001b[0;32m    195\u001b[0m         \u001b[38;5;28;01mreturn\u001b[39;00m encode_basestring(o)\n\u001b[0;32m    196\u001b[0m \u001b[38;5;66;03m# This doesn't pass the iterator directly to ''.join() because the\u001b[39;00m\n\u001b[0;32m    197\u001b[0m \u001b[38;5;66;03m# exceptions aren't as detailed.  The list call should be roughly\u001b[39;00m\n\u001b[0;32m    198\u001b[0m \u001b[38;5;66;03m# equivalent to the PySequence_Fast that ''.join() would do.\u001b[39;00m\n\u001b[1;32m--> 199\u001b[0m chunks \u001b[38;5;241m=\u001b[39m \u001b[38;5;28;43mself\u001b[39;49m\u001b[38;5;241;43m.\u001b[39;49m\u001b[43miterencode\u001b[49m\u001b[43m(\u001b[49m\u001b[43mo\u001b[49m\u001b[43m,\u001b[49m\u001b[43m \u001b[49m\u001b[43m_one_shot\u001b[49m\u001b[38;5;241;43m=\u001b[39;49m\u001b[38;5;28;43;01mTrue\u001b[39;49;00m\u001b[43m)\u001b[49m\n\u001b[0;32m    200\u001b[0m \u001b[38;5;28;01mif\u001b[39;00m \u001b[38;5;129;01mnot\u001b[39;00m \u001b[38;5;28misinstance\u001b[39m(chunks, (\u001b[38;5;28mlist\u001b[39m, \u001b[38;5;28mtuple\u001b[39m)):\n\u001b[0;32m    201\u001b[0m     chunks \u001b[38;5;241m=\u001b[39m \u001b[38;5;28mlist\u001b[39m(chunks)\n",
      "File \u001b[1;32m~\\AppData\\Local\\Programs\\Python\\Python310\\lib\\json\\encoder.py:257\u001b[0m, in \u001b[0;36mJSONEncoder.iterencode\u001b[1;34m(self, o, _one_shot)\u001b[0m\n\u001b[0;32m    252\u001b[0m \u001b[38;5;28;01melse\u001b[39;00m:\n\u001b[0;32m    253\u001b[0m     _iterencode \u001b[38;5;241m=\u001b[39m _make_iterencode(\n\u001b[0;32m    254\u001b[0m         markers, \u001b[38;5;28mself\u001b[39m\u001b[38;5;241m.\u001b[39mdefault, _encoder, \u001b[38;5;28mself\u001b[39m\u001b[38;5;241m.\u001b[39mindent, floatstr,\n\u001b[0;32m    255\u001b[0m         \u001b[38;5;28mself\u001b[39m\u001b[38;5;241m.\u001b[39mkey_separator, \u001b[38;5;28mself\u001b[39m\u001b[38;5;241m.\u001b[39mitem_separator, \u001b[38;5;28mself\u001b[39m\u001b[38;5;241m.\u001b[39msort_keys,\n\u001b[0;32m    256\u001b[0m         \u001b[38;5;28mself\u001b[39m\u001b[38;5;241m.\u001b[39mskipkeys, _one_shot)\n\u001b[1;32m--> 257\u001b[0m \u001b[38;5;28;01mreturn\u001b[39;00m \u001b[43m_iterencode\u001b[49m\u001b[43m(\u001b[49m\u001b[43mo\u001b[49m\u001b[43m,\u001b[49m\u001b[43m \u001b[49m\u001b[38;5;241;43m0\u001b[39;49m\u001b[43m)\u001b[49m\n",
      "File \u001b[1;32mc:\\Users\\Tanya\\Desktop\\TANYA\\FMI\\Masters\\thesis\\src\\env\\lib\\site-packages\\_plotly_utils\\utils.py:133\u001b[0m, in \u001b[0;36mPlotlyJSONEncoder.default\u001b[1;34m(self, obj)\u001b[0m\n\u001b[0;32m    131\u001b[0m     \u001b[38;5;28;01mexcept\u001b[39;00m NotEncodable:\n\u001b[0;32m    132\u001b[0m         \u001b[38;5;28;01mpass\u001b[39;00m\n\u001b[1;32m--> 133\u001b[0m \u001b[38;5;28;01mreturn\u001b[39;00m \u001b[43m_json\u001b[49m\u001b[38;5;241;43m.\u001b[39;49m\u001b[43mJSONEncoder\u001b[49m\u001b[38;5;241;43m.\u001b[39;49m\u001b[43mdefault\u001b[49m\u001b[43m(\u001b[49m\u001b[38;5;28;43mself\u001b[39;49m\u001b[43m,\u001b[49m\u001b[43m \u001b[49m\u001b[43mobj\u001b[49m\u001b[43m)\u001b[49m\n",
      "File \u001b[1;32m~\\AppData\\Local\\Programs\\Python\\Python310\\lib\\json\\encoder.py:179\u001b[0m, in \u001b[0;36mJSONEncoder.default\u001b[1;34m(self, o)\u001b[0m\n\u001b[0;32m    160\u001b[0m \u001b[38;5;28;01mdef\u001b[39;00m \u001b[38;5;21mdefault\u001b[39m(\u001b[38;5;28mself\u001b[39m, o):\n\u001b[0;32m    161\u001b[0m \u001b[38;5;250m    \u001b[39m\u001b[38;5;124;03m\"\"\"Implement this method in a subclass such that it returns\u001b[39;00m\n\u001b[0;32m    162\u001b[0m \u001b[38;5;124;03m    a serializable object for ``o``, or calls the base implementation\u001b[39;00m\n\u001b[0;32m    163\u001b[0m \u001b[38;5;124;03m    (to raise a ``TypeError``).\u001b[39;00m\n\u001b[1;32m   (...)\u001b[0m\n\u001b[0;32m    177\u001b[0m \n\u001b[0;32m    178\u001b[0m \u001b[38;5;124;03m    \"\"\"\u001b[39;00m\n\u001b[1;32m--> 179\u001b[0m     \u001b[38;5;28;01mraise\u001b[39;00m \u001b[38;5;167;01mTypeError\u001b[39;00m(\u001b[38;5;124mf\u001b[39m\u001b[38;5;124m'\u001b[39m\u001b[38;5;124mObject of type \u001b[39m\u001b[38;5;132;01m{\u001b[39;00mo\u001b[38;5;241m.\u001b[39m\u001b[38;5;18m__class__\u001b[39m\u001b[38;5;241m.\u001b[39m\u001b[38;5;18m__name__\u001b[39m\u001b[38;5;132;01m}\u001b[39;00m\u001b[38;5;124m \u001b[39m\u001b[38;5;124m'\u001b[39m\n\u001b[0;32m    180\u001b[0m                     \u001b[38;5;124mf\u001b[39m\u001b[38;5;124m'\u001b[39m\u001b[38;5;124mis not JSON serializable\u001b[39m\u001b[38;5;124m'\u001b[39m)\n",
      "\u001b[1;31mTypeError\u001b[0m: Object of type MetricFrame is not JSON serializable"
     ]
    }
   ],
   "source": [
    "categories = ['dem_par_diff', 'eq_odd_diff', 'eq_opp_diff', 'disparate_impact_rat']\n",
    "dataset_ref = [ 'no resampling, w/o sensitive attribute', 'no resampling, with sensitive attribute', \\\n",
    "                    'target-resample, w/o sensitive attribute', 'target-resample, with sensitive attribute', \\\n",
    "                    'sensitive-resample, w/o sensitive attribute', 'sensitive-resample, with sensitive attribute', \\\n",
    "                    'multivariate-resample, w/o sensitive attribute', 'multivariate-resample, with sensitive attribute']\n",
    "\n",
    "\n",
    "fig = go.Figure()\n",
    "\n",
    "for res_list,ref in zip(fairness_results, dataset_ref):\n",
    "\n",
    "  fig.add_trace(go.Scatterpolar(\n",
    "        r=res_list,\n",
    "        theta=categories,\n",
    "        # fill='toself',\n",
    "        name=ref\n",
    "  ))\n",
    "\n",
    "\n",
    "fig.update_layout(\n",
    "  polar=dict(\n",
    "    radialaxis=dict(\n",
    "      visible=True,\n",
    "      range=[0, 120]\n",
    "    )),\n",
    "  showlegend=True\n",
    ")\n",
    "\n",
    "fig.show()"
   ]
  },
  {
   "cell_type": "markdown",
   "metadata": {},
   "source": [
    "Optimizing Eq. odds"
   ]
  },
  {
   "cell_type": "code",
   "execution_count": null,
   "metadata": {},
   "outputs": [],
   "source": [
    "mitigator_eq_odds = AdversarialFairnessClassifier(\n",
    "    backend=\"torch\",\n",
    "    predictor_model=[50, \"leaky_relu\"],\n",
    "    adversary_model=[3, \"leaky_relu\"],\n",
    "    batch_size=2 ** 8,\n",
    "    progress_updates=0.5,\n",
    "    random_state=123,\n",
    "    constraints='equalized_odds',\n",
    "    # epochs=15\n",
    ")"
   ]
  },
  {
   "cell_type": "code",
   "execution_count": null,
   "metadata": {},
   "outputs": [
    {
     "name": "stdout",
     "output_type": "stream",
     "text": [
      "\n",
      "no resampling, w/o sensitive attribute\n"
     ]
    },
    {
     "name": "stderr",
     "output_type": "stream",
     "text": [
      "c:\\Users\\Tanya\\Desktop\\TANYA\\FMI\\Masters\\thesis\\src\\env\\lib\\site-packages\\torch\\nn\\modules\\module.py:1518: UserWarning:\n",
      "\n",
      "Implicit dimension choice for softmax has been deprecated. Change the call to include dim=X as an argument.\n",
      "\n"
     ]
    },
    {
     "name": "stdout",
     "output_type": "stream",
     "text": [
      "\n",
      "===Before training the model===\n",
      "                 selection_rate\n",
      "race                           \n",
      "AfricanAmerican        0.111227\n",
      "Caucasian              0.113056\n",
      "Other                  0.102564\n",
      "Unknown                0.083424\n",
      "The Demographic parity difference score on the training data: 0.029632712453962498\n",
      "The Disparate impact ratio on the training data: 0.9491723328270318\n",
      "\n",
      "===After training the model===\n",
      "The accuracy score for the testing data: 0.8883211320198496\n",
      "The precision score for the testing data: 0.4666666666666667\n",
      "The recall score for the testing data: 0.006164685160722149\n",
      "The F1 score for the testing data: 0.012168622338113864\n",
      "The F2 score for the testing data: 0.007680491551459293\n",
      "The specificity score for the testing data: 0.9991151421302953\n",
      "The balanced accuracy score for the testing data: 0.5026399136455088\n",
      "The G mean score for the testing data: 0.07848076382492357\n",
      "[[18066    16]\n",
      " [ 2257    14]]\n",
      "                 selection_rate\n",
      "race                           \n",
      "AfricanAmerican        0.001285\n",
      "Caucasian              0.001644\n",
      "Other                  0.000000\n",
      "Unknown                0.000000\n",
      "The Demographic parity difference score on the trained model: 0.0016437635610493787\n",
      "The Equalized odds difference score on the trained model: 0.00702576112412178\n",
      "The Equal opportunity difference score on the trained model: 0.006164685160722149\n",
      "The Disparate impact ratio on the trained model: 0.5913297045101089\n",
      "\n",
      "no resampling, with sensitive attribute\n"
     ]
    },
    {
     "name": "stderr",
     "output_type": "stream",
     "text": [
      "c:\\Users\\Tanya\\Desktop\\TANYA\\FMI\\Masters\\thesis\\src\\env\\lib\\site-packages\\sklearn\\metrics\\_classification.py:1344: UndefinedMetricWarning:\n",
      "\n",
      "Recall is ill-defined and being set to 0.0 due to no true samples. Use `zero_division` parameter to control this behavior.\n",
      "\n",
      "c:\\Users\\Tanya\\Desktop\\TANYA\\FMI\\Masters\\thesis\\src\\env\\lib\\site-packages\\torch\\nn\\modules\\module.py:1518: UserWarning:\n",
      "\n",
      "Implicit dimension choice for softmax has been deprecated. Change the call to include dim=X as an argument.\n",
      "\n"
     ]
    },
    {
     "name": "stdout",
     "output_type": "stream",
     "text": [
      "\n",
      "===Before training the model===\n",
      "                 selection_rate\n",
      "race                           \n",
      "AfricanAmerican        0.111227\n",
      "Caucasian              0.113056\n",
      "Other                  0.102564\n",
      "Unknown                0.083424\n",
      "The Demographic parity difference score on the training data: 0.029632712453962498\n",
      "The Disparate impact ratio on the training data: 0.9491723328270318\n",
      "\n",
      "===After training the model===\n",
      "The accuracy score for the testing data: 0.8880263351840023\n",
      "The precision score for the testing data: 0.4090909090909091\n",
      "The recall score for the testing data: 0.007926023778071334\n",
      "The F1 score for the testing data: 0.015550755939524838\n",
      "The F2 score for the testing data: 0.00985977212971078\n",
      "The specificity score for the testing data: 0.9985621059617299\n",
      "The balanced accuracy score for the testing data: 0.5032440648699006\n",
      "The G mean score for the testing data: 0.08896418940075639\n",
      "[[18056    26]\n",
      " [ 2253    18]]\n",
      "                 selection_rate\n",
      "race                           \n",
      "AfricanAmerican        0.001542\n",
      "Caucasian              0.002499\n",
      "Other                  0.000000\n",
      "Unknown                0.000000\n"
     ]
    },
    {
     "name": "stderr",
     "output_type": "stream",
     "text": [
      "c:\\Users\\Tanya\\Desktop\\TANYA\\FMI\\Masters\\thesis\\src\\env\\lib\\site-packages\\sklearn\\metrics\\_classification.py:1344: UndefinedMetricWarning:\n",
      "\n",
      "Recall is ill-defined and being set to 0.0 due to no true samples. Use `zero_division` parameter to control this behavior.\n",
      "\n",
      "c:\\Users\\Tanya\\Desktop\\TANYA\\FMI\\Masters\\thesis\\src\\env\\lib\\site-packages\\torch\\nn\\modules\\module.py:1518: UserWarning:\n",
      "\n",
      "Implicit dimension choice for softmax has been deprecated. Change the call to include dim=X as an argument.\n",
      "\n"
     ]
    },
    {
     "name": "stdout",
     "output_type": "stream",
     "text": [
      "The Demographic parity difference score on the trained model: 0.0024985206127950558\n",
      "The Equalized odds difference score on the trained model: 0.00936768149882904\n",
      "The Equal opportunity difference score on the trained model: 0.007926023778071334\n",
      "The Disparate impact ratio on the trained model: 0.4668392404027175\n",
      "\n",
      "target-resample, w/o sensitive attribute\n",
      "\n",
      "===Before training the model===\n",
      "                 selection_rate\n",
      "0                              \n",
      "AfricanAmerican        0.490783\n",
      "Caucasian              0.506065\n",
      "Other                  0.481119\n",
      "Unknown                0.403141\n",
      "The Demographic parity difference score on the training data: 0.10292347738199109\n",
      "The Disparate impact ratio on the training data: 0.9523355422167098\n",
      "\n",
      "===After training the model===\n",
      "The accuracy score for the testing data: 0.8878298039601041\n",
      "The precision score for the testing data: 0.0\n",
      "The recall score for the testing data: 0.0\n",
      "The F1 score for the testing data: 0.0\n",
      "The F2 score for the testing data: 0.0\n",
      "The specificity score for the testing data: 0.9993363565977215\n",
      "The balanced accuracy score for the testing data: 0.49966817829886073\n",
      "The G mean score for the testing data: 0.0\n",
      "[[18070    12]\n",
      " [ 2271     0]]\n",
      "                 selection_rate\n",
      "race                           \n",
      "AfricanAmerican        0.000514\n",
      "Caucasian              0.000526\n",
      "Other                  0.001206\n",
      "Unknown                0.002353\n"
     ]
    },
    {
     "name": "stderr",
     "output_type": "stream",
     "text": [
      "c:\\Users\\Tanya\\Desktop\\TANYA\\FMI\\Masters\\thesis\\src\\env\\lib\\site-packages\\sklearn\\metrics\\_classification.py:1344: UndefinedMetricWarning:\n",
      "\n",
      "Recall is ill-defined and being set to 0.0 due to no true samples. Use `zero_division` parameter to control this behavior.\n",
      "\n",
      "c:\\Users\\Tanya\\Desktop\\TANYA\\FMI\\Masters\\thesis\\src\\env\\lib\\site-packages\\torch\\nn\\modules\\module.py:1518: UserWarning:\n",
      "\n",
      "Implicit dimension choice for softmax has been deprecated. Change the call to include dim=X as an argument.\n",
      "\n"
     ]
    },
    {
     "name": "stdout",
     "output_type": "stream",
     "text": [
      "The Demographic parity difference score on the trained model: 0.0018388023589898683\n",
      "The Equalized odds difference score on the trained model: 0.0019759803487750336\n",
      "The Equal opportunity difference score on the trained model: 0.0\n",
      "The Disparate impact ratio on the trained model: 1.478324261275272\n",
      "\n",
      "target-resample, with sensitive attribute\n",
      "\n",
      "===Before training the model===\n",
      "                 selection_rate\n",
      "0                              \n",
      "AfricanAmerican        0.490783\n",
      "Caucasian              0.506065\n",
      "Other                  0.481119\n",
      "Unknown                0.403141\n",
      "The Demographic parity difference score on the training data: 0.10292347738199109\n",
      "The Disparate impact ratio on the training data: 0.9523355422167098\n",
      "\n",
      "===After training the model===\n",
      "The accuracy score for the testing data: 0.36510588119687515\n",
      "The precision score for the testing data: 0.12472693960961173\n",
      "The recall score for the testing data: 0.7793923381770145\n",
      "The F1 score for the testing data: 0.21504069979346374\n",
      "The F2 score for the testing data: 0.38023630504833517\n",
      "The specificity score for the testing data: 0.31307377502488665\n",
      "The balanced accuracy score for the testing data: 0.5462330566009506\n",
      "The G mean score for the testing data: 0.49397095212021425\n",
      "[[ 5661 12421]\n",
      " [  501  1770]]\n",
      "                 selection_rate\n",
      "race                           \n",
      "AfricanAmerican        0.272494\n",
      "Caucasian              0.848313\n",
      "Other                  0.191797\n",
      "Unknown                0.164706\n"
     ]
    },
    {
     "name": "stderr",
     "output_type": "stream",
     "text": [
      "c:\\Users\\Tanya\\Desktop\\TANYA\\FMI\\Masters\\thesis\\src\\env\\lib\\site-packages\\sklearn\\metrics\\_classification.py:1344: UndefinedMetricWarning:\n",
      "\n",
      "Recall is ill-defined and being set to 0.0 due to no true samples. Use `zero_division` parameter to control this behavior.\n",
      "\n",
      "c:\\Users\\Tanya\\Desktop\\TANYA\\FMI\\Masters\\thesis\\src\\env\\lib\\site-packages\\torch\\nn\\modules\\module.py:1518: UserWarning:\n",
      "\n",
      "Implicit dimension choice for softmax has been deprecated. Change the call to include dim=X as an argument.\n",
      "\n"
     ]
    },
    {
     "name": "stdout",
     "output_type": "stream",
     "text": [
      "The Demographic parity difference score on the trained model: 0.6836076162334221\n",
      "The Equalized odds difference score on the trained model: 0.6833241493318638\n",
      "The Equal opportunity difference score on the trained model: 0.7793923381770145\n",
      "The Disparate impact ratio on the trained model: 0.2953898578179857\n",
      "\n",
      "sensitive-resample, w/o sensitive attribute\n",
      "\n",
      "===Before training the model===\n",
      "                 selection_rate\n",
      "race                           \n",
      "AfricanAmerican        0.114843\n",
      "Caucasian              0.106717\n",
      "Other                  0.096425\n",
      "Unknown                0.083424\n",
      "The Demographic parity difference score on the training data: 0.0314192849404117\n",
      "The Disparate impact ratio on the training data: 0.9204737732656514\n",
      "\n",
      "===After training the model===\n",
      "The accuracy score for the testing data: 0.8831130545865474\n",
      "The precision score for the testing data: 0.2403846153846154\n",
      "The recall score for the testing data: 0.022016732716864818\n",
      "The F1 score for the testing data: 0.04033884630899557\n",
      "The F2 score for the testing data: 0.026904864399483426\n",
      "The specificity score for the testing data: 0.9912620285366663\n",
      "The balanced accuracy score for the testing data: 0.5066393806267656\n",
      "The G mean score for the testing data: 0.14773067093420042\n",
      "[[17924   158]\n",
      " [ 2221    50]]\n",
      "                 selection_rate\n",
      "race                           \n",
      "AfricanAmerican        0.011311\n",
      "Caucasian              0.010323\n",
      "Other                  0.004825\n",
      "Unknown                0.007059\n"
     ]
    },
    {
     "name": "stderr",
     "output_type": "stream",
     "text": [
      "c:\\Users\\Tanya\\Desktop\\TANYA\\FMI\\Masters\\thesis\\src\\env\\lib\\site-packages\\sklearn\\metrics\\_classification.py:1344: UndefinedMetricWarning:\n",
      "\n",
      "Recall is ill-defined and being set to 0.0 due to no true samples. Use `zero_division` parameter to control this behavior.\n",
      "\n",
      "c:\\Users\\Tanya\\Desktop\\TANYA\\FMI\\Masters\\thesis\\src\\env\\lib\\site-packages\\torch\\nn\\modules\\module.py:1518: UserWarning:\n",
      "\n",
      "Implicit dimension choice for softmax has been deprecated. Change the call to include dim=X as an argument.\n",
      "\n"
     ]
    },
    {
     "name": "stdout",
     "output_type": "stream",
     "text": [
      "The Demographic parity difference score on the trained model: 0.006485963514129515\n",
      "The Equalized odds difference score on the trained model: 0.02564102564102564\n",
      "The Equal opportunity difference score on the trained model: 0.022016732716864818\n",
      "The Disparate impact ratio on the trained model: 0.9604399659240622\n",
      "\n",
      "sensitive-resample, with sensitive attribute\n",
      "\n",
      "===Before training the model===\n",
      "                 selection_rate\n",
      "race                           \n",
      "AfricanAmerican        0.114843\n",
      "Caucasian              0.106717\n",
      "Other                  0.096425\n",
      "Unknown                0.083424\n",
      "The Demographic parity difference score on the training data: 0.0314192849404117\n",
      "The Disparate impact ratio on the training data: 0.9204737732656514\n",
      "\n",
      "===After training the model===\n",
      "The accuracy score for the testing data: 0.884685304377733\n",
      "The precision score for the testing data: 0.28888888888888886\n",
      "The recall score for the testing data: 0.02289740202553941\n",
      "The F1 score for the testing data: 0.04243166054671563\n",
      "The F2 score for the testing data: 0.028065630397236613\n",
      "The specificity score for the testing data: 0.9929211370423626\n",
      "The balanced accuracy score for the testing data: 0.507909269533951\n",
      "The G mean score for the testing data: 0.15078234132190244\n",
      "[[17954   128]\n",
      " [ 2219    52]]\n",
      "                 selection_rate\n",
      "race                           \n",
      "AfricanAmerican        0.012596\n",
      "Caucasian              0.008285\n",
      "Other                  0.004825\n",
      "Unknown                0.002353\n"
     ]
    },
    {
     "name": "stderr",
     "output_type": "stream",
     "text": [
      "c:\\Users\\Tanya\\Desktop\\TANYA\\FMI\\Masters\\thesis\\src\\env\\lib\\site-packages\\sklearn\\metrics\\_classification.py:1344: UndefinedMetricWarning:\n",
      "\n",
      "Recall is ill-defined and being set to 0.0 due to no true samples. Use `zero_division` parameter to control this behavior.\n",
      "\n",
      "c:\\Users\\Tanya\\Desktop\\TANYA\\FMI\\Masters\\thesis\\src\\env\\lib\\site-packages\\torch\\nn\\modules\\module.py:1518: UserWarning:\n",
      "\n",
      "Implicit dimension choice for softmax has been deprecated. Change the call to include dim=X as an argument.\n",
      "\n"
     ]
    },
    {
     "name": "stdout",
     "output_type": "stream",
     "text": [
      "The Demographic parity difference score on the trained model: 0.010243459851807048\n",
      "The Equalized odds difference score on the trained model: 0.026607538802660754\n",
      "The Equal opportunity difference score on the trained model: 0.02289740202553941\n",
      "The Disparate impact ratio on the trained model: 1.2671350810930904\n",
      "\n",
      "multivariate-resample, w/o sensitive attribute\n",
      "\n",
      "===Before training the model===\n",
      "                 selection_rate\n",
      "0                              \n",
      "AfricanAmerican             0.5\n",
      "Caucasian                   0.5\n",
      "Other                       0.5\n",
      "Unknown                     0.5\n",
      "The Demographic parity difference score on the training data: 0.0\n",
      "The Disparate impact ratio on the training data: 1.0\n",
      "\n",
      "===After training the model===\n",
      "The accuracy score for the testing data: 0.15005158944627328\n",
      "The precision score for the testing data: 0.11319880572428703\n",
      "The recall score for the testing data: 0.9682959048877147\n",
      "The F1 score for the testing data: 0.202700834216712\n",
      "The F2 score for the testing data: 0.3856541564363381\n",
      "The specificity score for the testing data: 0.04728459241234377\n",
      "The balanced accuracy score for the testing data: 0.5077902486500292\n",
      "The G mean score for the testing data: 0.21397541259957226\n",
      "[[  855 17227]\n",
      " [   72  2199]]\n",
      "                 selection_rate\n",
      "race                           \n",
      "AfricanAmerican        0.964010\n",
      "Caucasian              0.952331\n",
      "Other                  0.958987\n",
      "Unknown                0.934118\n"
     ]
    },
    {
     "name": "stderr",
     "output_type": "stream",
     "text": [
      "c:\\Users\\Tanya\\Desktop\\TANYA\\FMI\\Masters\\thesis\\src\\env\\lib\\site-packages\\sklearn\\metrics\\_classification.py:1344: UndefinedMetricWarning:\n",
      "\n",
      "Recall is ill-defined and being set to 0.0 due to no true samples. Use `zero_division` parameter to control this behavior.\n",
      "\n",
      "c:\\Users\\Tanya\\Desktop\\TANYA\\FMI\\Masters\\thesis\\src\\env\\lib\\site-packages\\torch\\nn\\modules\\module.py:1518: UserWarning:\n",
      "\n",
      "Implicit dimension choice for softmax has been deprecated. Change the call to include dim=X as an argument.\n",
      "\n"
     ]
    },
    {
     "name": "stdout",
     "output_type": "stream",
     "text": [
      "The Demographic parity difference score on the trained model: 0.029892635717526095\n",
      "The Equalized odds difference score on the trained model: 0.05882352941176472\n",
      "The Equal opportunity difference score on the trained model: 0.9682959048877147\n",
      "The Disparate impact ratio on the trained model: 1.0088205605112393\n",
      "\n",
      "multivariate-resample, with sensitive attribute\n",
      "\n",
      "===Before training the model===\n",
      "                 selection_rate\n",
      "0                              \n",
      "AfricanAmerican             0.5\n",
      "Caucasian                   0.5\n",
      "Other                       0.5\n",
      "Unknown                     0.5\n",
      "The Demographic parity difference score on the training data: 0.0\n",
      "The Disparate impact ratio on the training data: 1.0\n",
      "\n",
      "===After training the model===\n",
      "The accuracy score for the testing data: 0.49879624625362357\n",
      "The precision score for the testing data: 0.12895377128953772\n",
      "The recall score for the testing data: 0.6067811536767944\n",
      "The F1 score for the testing data: 0.2127035579223586\n",
      "The F2 score for the testing data: 0.3485078401618614\n",
      "The specificity score for the testing data: 0.48523393429930317\n",
      "The balanced accuracy score for the testing data: 0.5460075439880487\n",
      "The G mean score for the testing data: 0.5426147864344106\n",
      "[[8774 9308]\n",
      " [ 893 1378]]\n",
      "                 selection_rate\n",
      "race                           \n",
      "AfricanAmerican        0.546787\n",
      "Caucasian              0.512854\n",
      "Other                  0.603136\n",
      "Unknown                0.609412\n",
      "The Demographic parity difference score on the trained model: 0.09655753365847619\n",
      "The Equalized odds difference score on the trained model: 0.19988261379939998\n",
      "The Equal opportunity difference score on the trained model: 0.6067811536767944\n",
      "The Disparate impact ratio on the trained model: 1.0939599533437014\n"
     ]
    },
    {
     "name": "stderr",
     "output_type": "stream",
     "text": [
      "c:\\Users\\Tanya\\Desktop\\TANYA\\FMI\\Masters\\thesis\\src\\env\\lib\\site-packages\\sklearn\\metrics\\_classification.py:1344: UndefinedMetricWarning:\n",
      "\n",
      "Recall is ill-defined and being set to 0.0 due to no true samples. Use `zero_division` parameter to control this behavior.\n",
      "\n"
     ]
    }
   ],
   "source": [
    "train_data_fairness_results_eq_odds, performance_results_eq_odds, fairness_results_eq_odds = \\\n",
    "    train_model_on_datasets(mitigator_eq_odds, type=\"adversarial\")"
   ]
  },
  {
   "cell_type": "code",
   "execution_count": null,
   "metadata": {},
   "outputs": [
    {
     "data": {
      "application/vnd.plotly.v1+json": {
       "config": {
        "plotlyServerURL": "https://plot.ly"
       },
       "data": [
        {
         "name": "no resampling, w/o sensitive attribute",
         "r": [
          0.8883211320198496,
          0.4666666666666667,
          0.006164685160722149,
          0.012168622338113864,
          0.007680491551459293,
          0.9991151421302953,
          0.5026399136455088,
          0.07848076382492357
         ],
         "theta": [
          "accuracy",
          "precision",
          "recall",
          "f1",
          "f2",
          "specificity",
          "balanced accuracy",
          "geometric mean"
         ],
         "type": "scatterpolar"
        },
        {
         "name": "no resampling, with sensitive attribute",
         "r": [
          0.8880263351840023,
          0.4090909090909091,
          0.007926023778071334,
          0.015550755939524838,
          0.00985977212971078,
          0.9985621059617299,
          0.5032440648699006,
          0.08896418940075639
         ],
         "theta": [
          "accuracy",
          "precision",
          "recall",
          "f1",
          "f2",
          "specificity",
          "balanced accuracy",
          "geometric mean"
         ],
         "type": "scatterpolar"
        },
        {
         "name": "target-resample, w/o sensitive attribute",
         "r": [
          0.8878298039601041,
          0,
          0,
          0,
          0,
          0.9993363565977215,
          0.49966817829886073,
          0
         ],
         "theta": [
          "accuracy",
          "precision",
          "recall",
          "f1",
          "f2",
          "specificity",
          "balanced accuracy",
          "geometric mean"
         ],
         "type": "scatterpolar"
        },
        {
         "name": "target-resample, with sensitive attribute",
         "r": [
          0.36510588119687515,
          0.12472693960961173,
          0.7793923381770145,
          0.21504069979346374,
          0.38023630504833517,
          0.31307377502488665,
          0.5462330566009506,
          0.49397095212021425
         ],
         "theta": [
          "accuracy",
          "precision",
          "recall",
          "f1",
          "f2",
          "specificity",
          "balanced accuracy",
          "geometric mean"
         ],
         "type": "scatterpolar"
        },
        {
         "name": "sensitive-resample, w/o sensitive attribute",
         "r": [
          0.8831130545865474,
          0.2403846153846154,
          0.022016732716864818,
          0.04033884630899557,
          0.026904864399483426,
          0.9912620285366663,
          0.5066393806267656,
          0.14773067093420042
         ],
         "theta": [
          "accuracy",
          "precision",
          "recall",
          "f1",
          "f2",
          "specificity",
          "balanced accuracy",
          "geometric mean"
         ],
         "type": "scatterpolar"
        },
        {
         "name": "sensitive-resample, with sensitive attribute",
         "r": [
          0.884685304377733,
          0.28888888888888886,
          0.02289740202553941,
          0.04243166054671563,
          0.028065630397236613,
          0.9929211370423626,
          0.507909269533951,
          0.15078234132190244
         ],
         "theta": [
          "accuracy",
          "precision",
          "recall",
          "f1",
          "f2",
          "specificity",
          "balanced accuracy",
          "geometric mean"
         ],
         "type": "scatterpolar"
        },
        {
         "name": "multivariate-resample, w/o sensitive attribute",
         "r": [
          0.15005158944627328,
          0.11319880572428703,
          0.9682959048877147,
          0.202700834216712,
          0.3856541564363381,
          0.04728459241234377,
          0.5077902486500292,
          0.21397541259957226
         ],
         "theta": [
          "accuracy",
          "precision",
          "recall",
          "f1",
          "f2",
          "specificity",
          "balanced accuracy",
          "geometric mean"
         ],
         "type": "scatterpolar"
        },
        {
         "name": "multivariate-resample, with sensitive attribute",
         "r": [
          0.49879624625362357,
          0.12895377128953772,
          0.6067811536767944,
          0.2127035579223586,
          0.3485078401618614,
          0.48523393429930317,
          0.5460075439880487,
          0.5426147864344106
         ],
         "theta": [
          "accuracy",
          "precision",
          "recall",
          "f1",
          "f2",
          "specificity",
          "balanced accuracy",
          "geometric mean"
         ],
         "type": "scatterpolar"
        }
       ],
       "layout": {
        "polar": {
         "radialaxis": {
          "range": [
           0,
           1
          ],
          "visible": true
         }
        },
        "showlegend": true,
        "template": {
         "data": {
          "bar": [
           {
            "error_x": {
             "color": "#2a3f5f"
            },
            "error_y": {
             "color": "#2a3f5f"
            },
            "marker": {
             "line": {
              "color": "#E5ECF6",
              "width": 0.5
             },
             "pattern": {
              "fillmode": "overlay",
              "size": 10,
              "solidity": 0.2
             }
            },
            "type": "bar"
           }
          ],
          "barpolar": [
           {
            "marker": {
             "line": {
              "color": "#E5ECF6",
              "width": 0.5
             },
             "pattern": {
              "fillmode": "overlay",
              "size": 10,
              "solidity": 0.2
             }
            },
            "type": "barpolar"
           }
          ],
          "carpet": [
           {
            "aaxis": {
             "endlinecolor": "#2a3f5f",
             "gridcolor": "white",
             "linecolor": "white",
             "minorgridcolor": "white",
             "startlinecolor": "#2a3f5f"
            },
            "baxis": {
             "endlinecolor": "#2a3f5f",
             "gridcolor": "white",
             "linecolor": "white",
             "minorgridcolor": "white",
             "startlinecolor": "#2a3f5f"
            },
            "type": "carpet"
           }
          ],
          "choropleth": [
           {
            "colorbar": {
             "outlinewidth": 0,
             "ticks": ""
            },
            "type": "choropleth"
           }
          ],
          "contour": [
           {
            "colorbar": {
             "outlinewidth": 0,
             "ticks": ""
            },
            "colorscale": [
             [
              0,
              "#0d0887"
             ],
             [
              0.1111111111111111,
              "#46039f"
             ],
             [
              0.2222222222222222,
              "#7201a8"
             ],
             [
              0.3333333333333333,
              "#9c179e"
             ],
             [
              0.4444444444444444,
              "#bd3786"
             ],
             [
              0.5555555555555556,
              "#d8576b"
             ],
             [
              0.6666666666666666,
              "#ed7953"
             ],
             [
              0.7777777777777778,
              "#fb9f3a"
             ],
             [
              0.8888888888888888,
              "#fdca26"
             ],
             [
              1,
              "#f0f921"
             ]
            ],
            "type": "contour"
           }
          ],
          "contourcarpet": [
           {
            "colorbar": {
             "outlinewidth": 0,
             "ticks": ""
            },
            "type": "contourcarpet"
           }
          ],
          "heatmap": [
           {
            "colorbar": {
             "outlinewidth": 0,
             "ticks": ""
            },
            "colorscale": [
             [
              0,
              "#0d0887"
             ],
             [
              0.1111111111111111,
              "#46039f"
             ],
             [
              0.2222222222222222,
              "#7201a8"
             ],
             [
              0.3333333333333333,
              "#9c179e"
             ],
             [
              0.4444444444444444,
              "#bd3786"
             ],
             [
              0.5555555555555556,
              "#d8576b"
             ],
             [
              0.6666666666666666,
              "#ed7953"
             ],
             [
              0.7777777777777778,
              "#fb9f3a"
             ],
             [
              0.8888888888888888,
              "#fdca26"
             ],
             [
              1,
              "#f0f921"
             ]
            ],
            "type": "heatmap"
           }
          ],
          "heatmapgl": [
           {
            "colorbar": {
             "outlinewidth": 0,
             "ticks": ""
            },
            "colorscale": [
             [
              0,
              "#0d0887"
             ],
             [
              0.1111111111111111,
              "#46039f"
             ],
             [
              0.2222222222222222,
              "#7201a8"
             ],
             [
              0.3333333333333333,
              "#9c179e"
             ],
             [
              0.4444444444444444,
              "#bd3786"
             ],
             [
              0.5555555555555556,
              "#d8576b"
             ],
             [
              0.6666666666666666,
              "#ed7953"
             ],
             [
              0.7777777777777778,
              "#fb9f3a"
             ],
             [
              0.8888888888888888,
              "#fdca26"
             ],
             [
              1,
              "#f0f921"
             ]
            ],
            "type": "heatmapgl"
           }
          ],
          "histogram": [
           {
            "marker": {
             "pattern": {
              "fillmode": "overlay",
              "size": 10,
              "solidity": 0.2
             }
            },
            "type": "histogram"
           }
          ],
          "histogram2d": [
           {
            "colorbar": {
             "outlinewidth": 0,
             "ticks": ""
            },
            "colorscale": [
             [
              0,
              "#0d0887"
             ],
             [
              0.1111111111111111,
              "#46039f"
             ],
             [
              0.2222222222222222,
              "#7201a8"
             ],
             [
              0.3333333333333333,
              "#9c179e"
             ],
             [
              0.4444444444444444,
              "#bd3786"
             ],
             [
              0.5555555555555556,
              "#d8576b"
             ],
             [
              0.6666666666666666,
              "#ed7953"
             ],
             [
              0.7777777777777778,
              "#fb9f3a"
             ],
             [
              0.8888888888888888,
              "#fdca26"
             ],
             [
              1,
              "#f0f921"
             ]
            ],
            "type": "histogram2d"
           }
          ],
          "histogram2dcontour": [
           {
            "colorbar": {
             "outlinewidth": 0,
             "ticks": ""
            },
            "colorscale": [
             [
              0,
              "#0d0887"
             ],
             [
              0.1111111111111111,
              "#46039f"
             ],
             [
              0.2222222222222222,
              "#7201a8"
             ],
             [
              0.3333333333333333,
              "#9c179e"
             ],
             [
              0.4444444444444444,
              "#bd3786"
             ],
             [
              0.5555555555555556,
              "#d8576b"
             ],
             [
              0.6666666666666666,
              "#ed7953"
             ],
             [
              0.7777777777777778,
              "#fb9f3a"
             ],
             [
              0.8888888888888888,
              "#fdca26"
             ],
             [
              1,
              "#f0f921"
             ]
            ],
            "type": "histogram2dcontour"
           }
          ],
          "mesh3d": [
           {
            "colorbar": {
             "outlinewidth": 0,
             "ticks": ""
            },
            "type": "mesh3d"
           }
          ],
          "parcoords": [
           {
            "line": {
             "colorbar": {
              "outlinewidth": 0,
              "ticks": ""
             }
            },
            "type": "parcoords"
           }
          ],
          "pie": [
           {
            "automargin": true,
            "type": "pie"
           }
          ],
          "scatter": [
           {
            "fillpattern": {
             "fillmode": "overlay",
             "size": 10,
             "solidity": 0.2
            },
            "type": "scatter"
           }
          ],
          "scatter3d": [
           {
            "line": {
             "colorbar": {
              "outlinewidth": 0,
              "ticks": ""
             }
            },
            "marker": {
             "colorbar": {
              "outlinewidth": 0,
              "ticks": ""
             }
            },
            "type": "scatter3d"
           }
          ],
          "scattercarpet": [
           {
            "marker": {
             "colorbar": {
              "outlinewidth": 0,
              "ticks": ""
             }
            },
            "type": "scattercarpet"
           }
          ],
          "scattergeo": [
           {
            "marker": {
             "colorbar": {
              "outlinewidth": 0,
              "ticks": ""
             }
            },
            "type": "scattergeo"
           }
          ],
          "scattergl": [
           {
            "marker": {
             "colorbar": {
              "outlinewidth": 0,
              "ticks": ""
             }
            },
            "type": "scattergl"
           }
          ],
          "scattermapbox": [
           {
            "marker": {
             "colorbar": {
              "outlinewidth": 0,
              "ticks": ""
             }
            },
            "type": "scattermapbox"
           }
          ],
          "scatterpolar": [
           {
            "marker": {
             "colorbar": {
              "outlinewidth": 0,
              "ticks": ""
             }
            },
            "type": "scatterpolar"
           }
          ],
          "scatterpolargl": [
           {
            "marker": {
             "colorbar": {
              "outlinewidth": 0,
              "ticks": ""
             }
            },
            "type": "scatterpolargl"
           }
          ],
          "scatterternary": [
           {
            "marker": {
             "colorbar": {
              "outlinewidth": 0,
              "ticks": ""
             }
            },
            "type": "scatterternary"
           }
          ],
          "surface": [
           {
            "colorbar": {
             "outlinewidth": 0,
             "ticks": ""
            },
            "colorscale": [
             [
              0,
              "#0d0887"
             ],
             [
              0.1111111111111111,
              "#46039f"
             ],
             [
              0.2222222222222222,
              "#7201a8"
             ],
             [
              0.3333333333333333,
              "#9c179e"
             ],
             [
              0.4444444444444444,
              "#bd3786"
             ],
             [
              0.5555555555555556,
              "#d8576b"
             ],
             [
              0.6666666666666666,
              "#ed7953"
             ],
             [
              0.7777777777777778,
              "#fb9f3a"
             ],
             [
              0.8888888888888888,
              "#fdca26"
             ],
             [
              1,
              "#f0f921"
             ]
            ],
            "type": "surface"
           }
          ],
          "table": [
           {
            "cells": {
             "fill": {
              "color": "#EBF0F8"
             },
             "line": {
              "color": "white"
             }
            },
            "header": {
             "fill": {
              "color": "#C8D4E3"
             },
             "line": {
              "color": "white"
             }
            },
            "type": "table"
           }
          ]
         },
         "layout": {
          "annotationdefaults": {
           "arrowcolor": "#2a3f5f",
           "arrowhead": 0,
           "arrowwidth": 1
          },
          "autotypenumbers": "strict",
          "coloraxis": {
           "colorbar": {
            "outlinewidth": 0,
            "ticks": ""
           }
          },
          "colorscale": {
           "diverging": [
            [
             0,
             "#8e0152"
            ],
            [
             0.1,
             "#c51b7d"
            ],
            [
             0.2,
             "#de77ae"
            ],
            [
             0.3,
             "#f1b6da"
            ],
            [
             0.4,
             "#fde0ef"
            ],
            [
             0.5,
             "#f7f7f7"
            ],
            [
             0.6,
             "#e6f5d0"
            ],
            [
             0.7,
             "#b8e186"
            ],
            [
             0.8,
             "#7fbc41"
            ],
            [
             0.9,
             "#4d9221"
            ],
            [
             1,
             "#276419"
            ]
           ],
           "sequential": [
            [
             0,
             "#0d0887"
            ],
            [
             0.1111111111111111,
             "#46039f"
            ],
            [
             0.2222222222222222,
             "#7201a8"
            ],
            [
             0.3333333333333333,
             "#9c179e"
            ],
            [
             0.4444444444444444,
             "#bd3786"
            ],
            [
             0.5555555555555556,
             "#d8576b"
            ],
            [
             0.6666666666666666,
             "#ed7953"
            ],
            [
             0.7777777777777778,
             "#fb9f3a"
            ],
            [
             0.8888888888888888,
             "#fdca26"
            ],
            [
             1,
             "#f0f921"
            ]
           ],
           "sequentialminus": [
            [
             0,
             "#0d0887"
            ],
            [
             0.1111111111111111,
             "#46039f"
            ],
            [
             0.2222222222222222,
             "#7201a8"
            ],
            [
             0.3333333333333333,
             "#9c179e"
            ],
            [
             0.4444444444444444,
             "#bd3786"
            ],
            [
             0.5555555555555556,
             "#d8576b"
            ],
            [
             0.6666666666666666,
             "#ed7953"
            ],
            [
             0.7777777777777778,
             "#fb9f3a"
            ],
            [
             0.8888888888888888,
             "#fdca26"
            ],
            [
             1,
             "#f0f921"
            ]
           ]
          },
          "colorway": [
           "#636efa",
           "#EF553B",
           "#00cc96",
           "#ab63fa",
           "#FFA15A",
           "#19d3f3",
           "#FF6692",
           "#B6E880",
           "#FF97FF",
           "#FECB52"
          ],
          "font": {
           "color": "#2a3f5f"
          },
          "geo": {
           "bgcolor": "white",
           "lakecolor": "white",
           "landcolor": "#E5ECF6",
           "showlakes": true,
           "showland": true,
           "subunitcolor": "white"
          },
          "hoverlabel": {
           "align": "left"
          },
          "hovermode": "closest",
          "mapbox": {
           "style": "light"
          },
          "paper_bgcolor": "white",
          "plot_bgcolor": "#E5ECF6",
          "polar": {
           "angularaxis": {
            "gridcolor": "white",
            "linecolor": "white",
            "ticks": ""
           },
           "bgcolor": "#E5ECF6",
           "radialaxis": {
            "gridcolor": "white",
            "linecolor": "white",
            "ticks": ""
           }
          },
          "scene": {
           "xaxis": {
            "backgroundcolor": "#E5ECF6",
            "gridcolor": "white",
            "gridwidth": 2,
            "linecolor": "white",
            "showbackground": true,
            "ticks": "",
            "zerolinecolor": "white"
           },
           "yaxis": {
            "backgroundcolor": "#E5ECF6",
            "gridcolor": "white",
            "gridwidth": 2,
            "linecolor": "white",
            "showbackground": true,
            "ticks": "",
            "zerolinecolor": "white"
           },
           "zaxis": {
            "backgroundcolor": "#E5ECF6",
            "gridcolor": "white",
            "gridwidth": 2,
            "linecolor": "white",
            "showbackground": true,
            "ticks": "",
            "zerolinecolor": "white"
           }
          },
          "shapedefaults": {
           "line": {
            "color": "#2a3f5f"
           }
          },
          "ternary": {
           "aaxis": {
            "gridcolor": "white",
            "linecolor": "white",
            "ticks": ""
           },
           "baxis": {
            "gridcolor": "white",
            "linecolor": "white",
            "ticks": ""
           },
           "bgcolor": "#E5ECF6",
           "caxis": {
            "gridcolor": "white",
            "linecolor": "white",
            "ticks": ""
           }
          },
          "title": {
           "x": 0.05
          },
          "xaxis": {
           "automargin": true,
           "gridcolor": "white",
           "linecolor": "white",
           "ticks": "",
           "title": {
            "standoff": 15
           },
           "zerolinecolor": "white",
           "zerolinewidth": 2
          },
          "yaxis": {
           "automargin": true,
           "gridcolor": "white",
           "linecolor": "white",
           "ticks": "",
           "title": {
            "standoff": 15
           },
           "zerolinecolor": "white",
           "zerolinewidth": 2
          }
         }
        }
       }
      }
     },
     "metadata": {},
     "output_type": "display_data"
    }
   ],
   "source": [
    "categories = ['accuracy', 'precision', 'recall', 'f1', 'f2', 'specificity', 'balanced accuracy', 'geometric mean']\n",
    "dataset_ref = [ 'no resampling, w/o sensitive attribute', 'no resampling, with sensitive attribute', \\\n",
    "                    'target-resample, w/o sensitive attribute', 'target-resample, with sensitive attribute', \\\n",
    "                    'sensitive-resample, w/o sensitive attribute', 'sensitive-resample, with sensitive attribute', \\\n",
    "                    'multivariate-resample, w/o sensitive attribute', 'multivariate-resample, with sensitive attribute']\n",
    "\n",
    "\n",
    "fig = go.Figure()\n",
    "\n",
    "for res_list,ref in zip(performance_results_eq_odds, dataset_ref):\n",
    "\n",
    "  fig.add_trace(go.Scatterpolar(\n",
    "        r=res_list,\n",
    "        theta=categories,\n",
    "        # fill='toself',\n",
    "        name=ref\n",
    "  ))\n",
    "\n",
    "\n",
    "fig.update_layout(\n",
    "  polar=dict(\n",
    "    radialaxis=dict(\n",
    "      visible=True,\n",
    "      range=[0, 1]\n",
    "    )),\n",
    "  showlegend=True\n",
    ")\n",
    "\n",
    "fig.show()"
   ]
  },
  {
   "cell_type": "code",
   "execution_count": null,
   "metadata": {},
   "outputs": [
    {
     "data": {
      "application/vnd.plotly.v1+json": {
       "config": {
        "plotlyServerURL": "https://plot.ly"
       },
       "data": [
        {
         "name": "no resampling, w/o sensitive attribute",
         "r": [
          0.0016437635610493787,
          0.00702576112412178,
          0.006164685160722149,
          0.5913297045101089
         ],
         "theta": [
          "dem_par_diff",
          "eq_odd_diff",
          "eq_opp_diff",
          "disparate_impact_rat"
         ],
         "type": "scatterpolar"
        },
        {
         "name": "no resampling, with sensitive attribute",
         "r": [
          0.0024985206127950558,
          0.00936768149882904,
          0.007926023778071334,
          0.4668392404027175
         ],
         "theta": [
          "dem_par_diff",
          "eq_odd_diff",
          "eq_opp_diff",
          "disparate_impact_rat"
         ],
         "type": "scatterpolar"
        },
        {
         "name": "target-resample, w/o sensitive attribute",
         "r": [
          0.0018388023589898683,
          0.0019759803487750336,
          0,
          1.478324261275272
         ],
         "theta": [
          "dem_par_diff",
          "eq_odd_diff",
          "eq_opp_diff",
          "disparate_impact_rat"
         ],
         "type": "scatterpolar"
        },
        {
         "name": "target-resample, with sensitive attribute",
         "r": [
          0.6836076162334221,
          0.6833241493318638,
          0.7793923381770145,
          0.2953898578179857
         ],
         "theta": [
          "dem_par_diff",
          "eq_odd_diff",
          "eq_opp_diff",
          "disparate_impact_rat"
         ],
         "type": "scatterpolar"
        },
        {
         "name": "sensitive-resample, w/o sensitive attribute",
         "r": [
          0.006485963514129515,
          0.02564102564102564,
          0.022016732716864818,
          0.9604399659240622
         ],
         "theta": [
          "dem_par_diff",
          "eq_odd_diff",
          "eq_opp_diff",
          "disparate_impact_rat"
         ],
         "type": "scatterpolar"
        },
        {
         "name": "sensitive-resample, with sensitive attribute",
         "r": [
          0.010243459851807048,
          0.026607538802660754,
          0.02289740202553941,
          1.2671350810930904
         ],
         "theta": [
          "dem_par_diff",
          "eq_odd_diff",
          "eq_opp_diff",
          "disparate_impact_rat"
         ],
         "type": "scatterpolar"
        },
        {
         "name": "multivariate-resample, w/o sensitive attribute",
         "r": [
          0.029892635717526095,
          0.05882352941176472,
          0.9682959048877147,
          1.0088205605112393
         ],
         "theta": [
          "dem_par_diff",
          "eq_odd_diff",
          "eq_opp_diff",
          "disparate_impact_rat"
         ],
         "type": "scatterpolar"
        },
        {
         "name": "multivariate-resample, with sensitive attribute",
         "r": [
          0.09655753365847619,
          0.19988261379939998,
          0.6067811536767944,
          1.0939599533437014
         ],
         "theta": [
          "dem_par_diff",
          "eq_odd_diff",
          "eq_opp_diff",
          "disparate_impact_rat"
         ],
         "type": "scatterpolar"
        }
       ],
       "layout": {
        "polar": {
         "radialaxis": {
          "range": [
           0,
           1.5
          ],
          "visible": true
         }
        },
        "showlegend": true,
        "template": {
         "data": {
          "bar": [
           {
            "error_x": {
             "color": "#2a3f5f"
            },
            "error_y": {
             "color": "#2a3f5f"
            },
            "marker": {
             "line": {
              "color": "#E5ECF6",
              "width": 0.5
             },
             "pattern": {
              "fillmode": "overlay",
              "size": 10,
              "solidity": 0.2
             }
            },
            "type": "bar"
           }
          ],
          "barpolar": [
           {
            "marker": {
             "line": {
              "color": "#E5ECF6",
              "width": 0.5
             },
             "pattern": {
              "fillmode": "overlay",
              "size": 10,
              "solidity": 0.2
             }
            },
            "type": "barpolar"
           }
          ],
          "carpet": [
           {
            "aaxis": {
             "endlinecolor": "#2a3f5f",
             "gridcolor": "white",
             "linecolor": "white",
             "minorgridcolor": "white",
             "startlinecolor": "#2a3f5f"
            },
            "baxis": {
             "endlinecolor": "#2a3f5f",
             "gridcolor": "white",
             "linecolor": "white",
             "minorgridcolor": "white",
             "startlinecolor": "#2a3f5f"
            },
            "type": "carpet"
           }
          ],
          "choropleth": [
           {
            "colorbar": {
             "outlinewidth": 0,
             "ticks": ""
            },
            "type": "choropleth"
           }
          ],
          "contour": [
           {
            "colorbar": {
             "outlinewidth": 0,
             "ticks": ""
            },
            "colorscale": [
             [
              0,
              "#0d0887"
             ],
             [
              0.1111111111111111,
              "#46039f"
             ],
             [
              0.2222222222222222,
              "#7201a8"
             ],
             [
              0.3333333333333333,
              "#9c179e"
             ],
             [
              0.4444444444444444,
              "#bd3786"
             ],
             [
              0.5555555555555556,
              "#d8576b"
             ],
             [
              0.6666666666666666,
              "#ed7953"
             ],
             [
              0.7777777777777778,
              "#fb9f3a"
             ],
             [
              0.8888888888888888,
              "#fdca26"
             ],
             [
              1,
              "#f0f921"
             ]
            ],
            "type": "contour"
           }
          ],
          "contourcarpet": [
           {
            "colorbar": {
             "outlinewidth": 0,
             "ticks": ""
            },
            "type": "contourcarpet"
           }
          ],
          "heatmap": [
           {
            "colorbar": {
             "outlinewidth": 0,
             "ticks": ""
            },
            "colorscale": [
             [
              0,
              "#0d0887"
             ],
             [
              0.1111111111111111,
              "#46039f"
             ],
             [
              0.2222222222222222,
              "#7201a8"
             ],
             [
              0.3333333333333333,
              "#9c179e"
             ],
             [
              0.4444444444444444,
              "#bd3786"
             ],
             [
              0.5555555555555556,
              "#d8576b"
             ],
             [
              0.6666666666666666,
              "#ed7953"
             ],
             [
              0.7777777777777778,
              "#fb9f3a"
             ],
             [
              0.8888888888888888,
              "#fdca26"
             ],
             [
              1,
              "#f0f921"
             ]
            ],
            "type": "heatmap"
           }
          ],
          "heatmapgl": [
           {
            "colorbar": {
             "outlinewidth": 0,
             "ticks": ""
            },
            "colorscale": [
             [
              0,
              "#0d0887"
             ],
             [
              0.1111111111111111,
              "#46039f"
             ],
             [
              0.2222222222222222,
              "#7201a8"
             ],
             [
              0.3333333333333333,
              "#9c179e"
             ],
             [
              0.4444444444444444,
              "#bd3786"
             ],
             [
              0.5555555555555556,
              "#d8576b"
             ],
             [
              0.6666666666666666,
              "#ed7953"
             ],
             [
              0.7777777777777778,
              "#fb9f3a"
             ],
             [
              0.8888888888888888,
              "#fdca26"
             ],
             [
              1,
              "#f0f921"
             ]
            ],
            "type": "heatmapgl"
           }
          ],
          "histogram": [
           {
            "marker": {
             "pattern": {
              "fillmode": "overlay",
              "size": 10,
              "solidity": 0.2
             }
            },
            "type": "histogram"
           }
          ],
          "histogram2d": [
           {
            "colorbar": {
             "outlinewidth": 0,
             "ticks": ""
            },
            "colorscale": [
             [
              0,
              "#0d0887"
             ],
             [
              0.1111111111111111,
              "#46039f"
             ],
             [
              0.2222222222222222,
              "#7201a8"
             ],
             [
              0.3333333333333333,
              "#9c179e"
             ],
             [
              0.4444444444444444,
              "#bd3786"
             ],
             [
              0.5555555555555556,
              "#d8576b"
             ],
             [
              0.6666666666666666,
              "#ed7953"
             ],
             [
              0.7777777777777778,
              "#fb9f3a"
             ],
             [
              0.8888888888888888,
              "#fdca26"
             ],
             [
              1,
              "#f0f921"
             ]
            ],
            "type": "histogram2d"
           }
          ],
          "histogram2dcontour": [
           {
            "colorbar": {
             "outlinewidth": 0,
             "ticks": ""
            },
            "colorscale": [
             [
              0,
              "#0d0887"
             ],
             [
              0.1111111111111111,
              "#46039f"
             ],
             [
              0.2222222222222222,
              "#7201a8"
             ],
             [
              0.3333333333333333,
              "#9c179e"
             ],
             [
              0.4444444444444444,
              "#bd3786"
             ],
             [
              0.5555555555555556,
              "#d8576b"
             ],
             [
              0.6666666666666666,
              "#ed7953"
             ],
             [
              0.7777777777777778,
              "#fb9f3a"
             ],
             [
              0.8888888888888888,
              "#fdca26"
             ],
             [
              1,
              "#f0f921"
             ]
            ],
            "type": "histogram2dcontour"
           }
          ],
          "mesh3d": [
           {
            "colorbar": {
             "outlinewidth": 0,
             "ticks": ""
            },
            "type": "mesh3d"
           }
          ],
          "parcoords": [
           {
            "line": {
             "colorbar": {
              "outlinewidth": 0,
              "ticks": ""
             }
            },
            "type": "parcoords"
           }
          ],
          "pie": [
           {
            "automargin": true,
            "type": "pie"
           }
          ],
          "scatter": [
           {
            "fillpattern": {
             "fillmode": "overlay",
             "size": 10,
             "solidity": 0.2
            },
            "type": "scatter"
           }
          ],
          "scatter3d": [
           {
            "line": {
             "colorbar": {
              "outlinewidth": 0,
              "ticks": ""
             }
            },
            "marker": {
             "colorbar": {
              "outlinewidth": 0,
              "ticks": ""
             }
            },
            "type": "scatter3d"
           }
          ],
          "scattercarpet": [
           {
            "marker": {
             "colorbar": {
              "outlinewidth": 0,
              "ticks": ""
             }
            },
            "type": "scattercarpet"
           }
          ],
          "scattergeo": [
           {
            "marker": {
             "colorbar": {
              "outlinewidth": 0,
              "ticks": ""
             }
            },
            "type": "scattergeo"
           }
          ],
          "scattergl": [
           {
            "marker": {
             "colorbar": {
              "outlinewidth": 0,
              "ticks": ""
             }
            },
            "type": "scattergl"
           }
          ],
          "scattermapbox": [
           {
            "marker": {
             "colorbar": {
              "outlinewidth": 0,
              "ticks": ""
             }
            },
            "type": "scattermapbox"
           }
          ],
          "scatterpolar": [
           {
            "marker": {
             "colorbar": {
              "outlinewidth": 0,
              "ticks": ""
             }
            },
            "type": "scatterpolar"
           }
          ],
          "scatterpolargl": [
           {
            "marker": {
             "colorbar": {
              "outlinewidth": 0,
              "ticks": ""
             }
            },
            "type": "scatterpolargl"
           }
          ],
          "scatterternary": [
           {
            "marker": {
             "colorbar": {
              "outlinewidth": 0,
              "ticks": ""
             }
            },
            "type": "scatterternary"
           }
          ],
          "surface": [
           {
            "colorbar": {
             "outlinewidth": 0,
             "ticks": ""
            },
            "colorscale": [
             [
              0,
              "#0d0887"
             ],
             [
              0.1111111111111111,
              "#46039f"
             ],
             [
              0.2222222222222222,
              "#7201a8"
             ],
             [
              0.3333333333333333,
              "#9c179e"
             ],
             [
              0.4444444444444444,
              "#bd3786"
             ],
             [
              0.5555555555555556,
              "#d8576b"
             ],
             [
              0.6666666666666666,
              "#ed7953"
             ],
             [
              0.7777777777777778,
              "#fb9f3a"
             ],
             [
              0.8888888888888888,
              "#fdca26"
             ],
             [
              1,
              "#f0f921"
             ]
            ],
            "type": "surface"
           }
          ],
          "table": [
           {
            "cells": {
             "fill": {
              "color": "#EBF0F8"
             },
             "line": {
              "color": "white"
             }
            },
            "header": {
             "fill": {
              "color": "#C8D4E3"
             },
             "line": {
              "color": "white"
             }
            },
            "type": "table"
           }
          ]
         },
         "layout": {
          "annotationdefaults": {
           "arrowcolor": "#2a3f5f",
           "arrowhead": 0,
           "arrowwidth": 1
          },
          "autotypenumbers": "strict",
          "coloraxis": {
           "colorbar": {
            "outlinewidth": 0,
            "ticks": ""
           }
          },
          "colorscale": {
           "diverging": [
            [
             0,
             "#8e0152"
            ],
            [
             0.1,
             "#c51b7d"
            ],
            [
             0.2,
             "#de77ae"
            ],
            [
             0.3,
             "#f1b6da"
            ],
            [
             0.4,
             "#fde0ef"
            ],
            [
             0.5,
             "#f7f7f7"
            ],
            [
             0.6,
             "#e6f5d0"
            ],
            [
             0.7,
             "#b8e186"
            ],
            [
             0.8,
             "#7fbc41"
            ],
            [
             0.9,
             "#4d9221"
            ],
            [
             1,
             "#276419"
            ]
           ],
           "sequential": [
            [
             0,
             "#0d0887"
            ],
            [
             0.1111111111111111,
             "#46039f"
            ],
            [
             0.2222222222222222,
             "#7201a8"
            ],
            [
             0.3333333333333333,
             "#9c179e"
            ],
            [
             0.4444444444444444,
             "#bd3786"
            ],
            [
             0.5555555555555556,
             "#d8576b"
            ],
            [
             0.6666666666666666,
             "#ed7953"
            ],
            [
             0.7777777777777778,
             "#fb9f3a"
            ],
            [
             0.8888888888888888,
             "#fdca26"
            ],
            [
             1,
             "#f0f921"
            ]
           ],
           "sequentialminus": [
            [
             0,
             "#0d0887"
            ],
            [
             0.1111111111111111,
             "#46039f"
            ],
            [
             0.2222222222222222,
             "#7201a8"
            ],
            [
             0.3333333333333333,
             "#9c179e"
            ],
            [
             0.4444444444444444,
             "#bd3786"
            ],
            [
             0.5555555555555556,
             "#d8576b"
            ],
            [
             0.6666666666666666,
             "#ed7953"
            ],
            [
             0.7777777777777778,
             "#fb9f3a"
            ],
            [
             0.8888888888888888,
             "#fdca26"
            ],
            [
             1,
             "#f0f921"
            ]
           ]
          },
          "colorway": [
           "#636efa",
           "#EF553B",
           "#00cc96",
           "#ab63fa",
           "#FFA15A",
           "#19d3f3",
           "#FF6692",
           "#B6E880",
           "#FF97FF",
           "#FECB52"
          ],
          "font": {
           "color": "#2a3f5f"
          },
          "geo": {
           "bgcolor": "white",
           "lakecolor": "white",
           "landcolor": "#E5ECF6",
           "showlakes": true,
           "showland": true,
           "subunitcolor": "white"
          },
          "hoverlabel": {
           "align": "left"
          },
          "hovermode": "closest",
          "mapbox": {
           "style": "light"
          },
          "paper_bgcolor": "white",
          "plot_bgcolor": "#E5ECF6",
          "polar": {
           "angularaxis": {
            "gridcolor": "white",
            "linecolor": "white",
            "ticks": ""
           },
           "bgcolor": "#E5ECF6",
           "radialaxis": {
            "gridcolor": "white",
            "linecolor": "white",
            "ticks": ""
           }
          },
          "scene": {
           "xaxis": {
            "backgroundcolor": "#E5ECF6",
            "gridcolor": "white",
            "gridwidth": 2,
            "linecolor": "white",
            "showbackground": true,
            "ticks": "",
            "zerolinecolor": "white"
           },
           "yaxis": {
            "backgroundcolor": "#E5ECF6",
            "gridcolor": "white",
            "gridwidth": 2,
            "linecolor": "white",
            "showbackground": true,
            "ticks": "",
            "zerolinecolor": "white"
           },
           "zaxis": {
            "backgroundcolor": "#E5ECF6",
            "gridcolor": "white",
            "gridwidth": 2,
            "linecolor": "white",
            "showbackground": true,
            "ticks": "",
            "zerolinecolor": "white"
           }
          },
          "shapedefaults": {
           "line": {
            "color": "#2a3f5f"
           }
          },
          "ternary": {
           "aaxis": {
            "gridcolor": "white",
            "linecolor": "white",
            "ticks": ""
           },
           "baxis": {
            "gridcolor": "white",
            "linecolor": "white",
            "ticks": ""
           },
           "bgcolor": "#E5ECF6",
           "caxis": {
            "gridcolor": "white",
            "linecolor": "white",
            "ticks": ""
           }
          },
          "title": {
           "x": 0.05
          },
          "xaxis": {
           "automargin": true,
           "gridcolor": "white",
           "linecolor": "white",
           "ticks": "",
           "title": {
            "standoff": 15
           },
           "zerolinecolor": "white",
           "zerolinewidth": 2
          },
          "yaxis": {
           "automargin": true,
           "gridcolor": "white",
           "linecolor": "white",
           "ticks": "",
           "title": {
            "standoff": 15
           },
           "zerolinecolor": "white",
           "zerolinewidth": 2
          }
         }
        }
       }
      }
     },
     "metadata": {},
     "output_type": "display_data"
    }
   ],
   "source": [
    "categories = ['dem_par_diff', 'eq_odd_diff', 'eq_opp_diff', 'disparate_impact_rat']\n",
    "dataset_ref = [ 'no resampling, w/o sensitive attribute', 'no resampling, with sensitive attribute', \\\n",
    "                    'target-resample, w/o sensitive attribute', 'target-resample, with sensitive attribute', \\\n",
    "                    'sensitive-resample, w/o sensitive attribute', 'sensitive-resample, with sensitive attribute', \\\n",
    "                    'multivariate-resample, w/o sensitive attribute', 'multivariate-resample, with sensitive attribute']\n",
    "\n",
    "\n",
    "fig = go.Figure()\n",
    "\n",
    "for res_list,ref in zip(fairness_results_eq_odds, dataset_ref):\n",
    "\n",
    "  fig.add_trace(go.Scatterpolar(\n",
    "        r=res_list,\n",
    "        theta=categories,\n",
    "        # fill='toself',\n",
    "        name=ref\n",
    "  ))\n",
    "\n",
    "\n",
    "fig.update_layout(\n",
    "  polar=dict(\n",
    "    radialaxis=dict(\n",
    "      visible=True,\n",
    "      range=[0, 1.5]\n",
    "    )),\n",
    "  showlegend=True\n",
    ")\n",
    "\n",
    "fig.show()"
   ]
  }
 ],
 "metadata": {
  "kernelspec": {
   "display_name": "env",
   "language": "python",
   "name": "python3"
  },
  "language_info": {
   "codemirror_mode": {
    "name": "ipython",
    "version": 3
   },
   "file_extension": ".py",
   "mimetype": "text/x-python",
   "name": "python",
   "nbconvert_exporter": "python",
   "pygments_lexer": "ipython3",
   "version": "3.10.0"
  }
 },
 "nbformat": 4,
 "nbformat_minor": 2
}
