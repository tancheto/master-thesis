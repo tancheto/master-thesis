{
 "cells": [
  {
   "cell_type": "code",
   "execution_count": 2,
   "metadata": {},
   "outputs": [],
   "source": [
    "import os\n",
    "from sklearn.tree import DecisionTreeClassifier\n",
    "import plotly.graph_objects as go\n",
    "\n",
    "import sys\n",
    "sys.path.append(os.path.abspath('..'))\n",
    "from util import train_model_on_datasets"
   ]
  },
  {
   "cell_type": "markdown",
   "metadata": {},
   "source": [
    "Load train/test data from csv files"
   ]
  },
  {
   "cell_type": "code",
   "execution_count": 3,
   "metadata": {},
   "outputs": [
    {
     "name": "stdout",
     "output_type": "stream",
     "text": [
      "\n",
      "no resampling, w/o sensitive attribute\n",
      "\n",
      "===Before training the model===\n",
      "                selection_rate\n",
      "race                          \n",
      "AfricanAmerican       0.111227\n",
      "Caucasian             0.113056\n",
      "Other                 0.102564\n",
      "Unknown               0.083424\n",
      "The Demographic parity difference score on the training data: 0.029632712453962498\n",
      "The Disparate impact ratio on the training data: 0.9491723328270318\n",
      "\n",
      "===After training the model===\n",
      "The accuracy score for the testing data: 0.8844396403478603\n",
      "The precision score for the testing data: 0.23178807947019867\n",
      "The recall score for the testing data: 0.015411712901805373\n",
      "The F1 score for the testing data: 0.028901734104046242\n",
      "The F2 score for the testing data: 0.018949648077964266\n",
      "The specificity score for the testing data: 0.993584780444641\n",
      "The balanced accuracy score for the testing data: 0.5044982466732232\n",
      "The G mean score for the testing data: 0.12374507416384757\n",
      "[[17966   116]\n",
      " [ 2236    35]]\n",
      "                selection_rate\n",
      "race                          \n",
      "AfricanAmerican       0.007712\n",
      "Caucasian             0.007496\n",
      "Other                 0.006031\n",
      "Unknown               0.004706\n"
     ]
    },
    {
     "name": "stderr",
     "output_type": "stream",
     "text": [
      "c:\\Users\\Tanya\\Desktop\\TANYA\\FMI\\Masters\\thesis\\src\\env\\lib\\site-packages\\sklearn\\metrics\\_classification.py:1344: UndefinedMetricWarning: Recall is ill-defined and being set to 0.0 due to no true samples. Use `zero_division` parameter to control this behavior.\n",
      "  _warn_prf(average, modifier, msg_start, len(result))\n"
     ]
    },
    {
     "name": "stdout",
     "output_type": "stream",
     "text": [
      "The Demographic parity difference score on the trained model: 0.0030061999092696207\n",
      "The Equalized odds difference score on the trained model: 0.01639344262295082\n",
      "The Equal opportunity difference score on the trained model: 0.015411712901805373\n",
      "The Disparate impact ratio on the trained model: 0.9596139941611417\n",
      "<sklearn.metrics._plot.roc_curve.RocCurveDisplay object at 0x000001B6C69002E0>\n",
      "\n",
      "no resampling, with sensitive attribute\n",
      "\n",
      "===Before training the model===\n",
      "                selection_rate\n",
      "race                          \n",
      "AfricanAmerican       0.111227\n",
      "Caucasian             0.113056\n",
      "Other                 0.102564\n",
      "Unknown               0.083424\n",
      "The Demographic parity difference score on the training data: 0.029632712453962498\n",
      "The Disparate impact ratio on the training data: 0.9491723328270318\n",
      "\n",
      "===After training the model===\n",
      "The accuracy score for the testing data: 0.8842922419299366\n",
      "The precision score for the testing data: 0.22727272727272727\n",
      "The recall score for the testing data: 0.015411712901805373\n",
      "The F1 score for the testing data: 0.028865979381443297\n",
      "The F2 score for the testing data: 0.018943494262827452\n",
      "The specificity score for the testing data: 0.9934188695940714\n",
      "The balanced accuracy score for the testing data: 0.5044152912479384\n",
      "The G mean score for the testing data: 0.12373474212774627\n",
      "[[17963   119]\n",
      " [ 2236    35]]\n",
      "                selection_rate\n",
      "race                          \n",
      "AfricanAmerican       0.006941\n",
      "Caucasian             0.007627\n",
      "Other                 0.010856\n",
      "Unknown               0.004706\n",
      "The Demographic parity difference score on the trained model: 0.006150571205563046\n",
      "The Equalized odds difference score on the trained model: 0.038461538461538464\n",
      "The Equal opportunity difference score on the trained model: 0.015411712901805373\n",
      "The Disparate impact ratio on the trained model: 0.9685572746286265\n",
      "<sklearn.metrics._plot.roc_curve.RocCurveDisplay object at 0x000001B6C69002E0>\n",
      "\n",
      "target-resample, w/o sensitive attribute\n"
     ]
    },
    {
     "name": "stderr",
     "output_type": "stream",
     "text": [
      "c:\\Users\\Tanya\\Desktop\\TANYA\\FMI\\Masters\\thesis\\src\\env\\lib\\site-packages\\sklearn\\metrics\\_classification.py:1344: UndefinedMetricWarning: Recall is ill-defined and being set to 0.0 due to no true samples. Use `zero_division` parameter to control this behavior.\n",
      "  _warn_prf(average, modifier, msg_start, len(result))\n"
     ]
    },
    {
     "name": "stdout",
     "output_type": "stream",
     "text": [
      "\n",
      "===Before training the model===\n",
      "                selection_rate\n",
      "0                             \n",
      "AfricanAmerican       0.490783\n",
      "Caucasian             0.506065\n",
      "Other                 0.481119\n",
      "Unknown               0.403141\n",
      "The Demographic parity difference score on the training data: 0.10292347738199109\n",
      "The Disparate impact ratio on the training data: 0.9523355422167098\n",
      "\n",
      "===After training the model===\n",
      "The accuracy score for the testing data: 0.5983884439640348\n",
      "The precision score for the testing data: 0.1537017482107239\n",
      "The recall score for the testing data: 0.5768383971818583\n",
      "The F1 score for the testing data: 0.24272744117102094\n",
      "The F2 score for the testing data: 0.37201113193616175\n",
      "The specificity score for the testing data: 0.6010950116137596\n",
      "The balanced accuracy score for the testing data: 0.5889667043978088\n",
      "The G mean score for the testing data: 0.5888418149667121\n",
      "[[10869  7213]\n",
      " [  961  1310]]\n",
      "                selection_rate\n",
      "race                          \n",
      "AfricanAmerican       0.424679\n",
      "Caucasian             0.425209\n",
      "Other                 0.322075\n",
      "Unknown               0.322353\n",
      "The Demographic parity difference score on the trained model: 0.10313396906996136\n",
      "The Equalized odds difference score on the trained model: 0.17803573757662716\n",
      "The Equal opportunity difference score on the trained model: 0.5768383971818583\n",
      "The Disparate impact ratio on the trained model: 0.9399828919690613\n",
      "<sklearn.metrics._plot.roc_curve.RocCurveDisplay object at 0x000001B6C69002E0>\n",
      "\n",
      "target-resample, with sensitive attribute\n"
     ]
    },
    {
     "name": "stderr",
     "output_type": "stream",
     "text": [
      "c:\\Users\\Tanya\\Desktop\\TANYA\\FMI\\Masters\\thesis\\src\\env\\lib\\site-packages\\sklearn\\metrics\\_classification.py:1344: UndefinedMetricWarning: Recall is ill-defined and being set to 0.0 due to no true samples. Use `zero_division` parameter to control this behavior.\n",
      "  _warn_prf(average, modifier, msg_start, len(result))\n"
     ]
    },
    {
     "name": "stdout",
     "output_type": "stream",
     "text": [
      "\n",
      "===Before training the model===\n",
      "                selection_rate\n",
      "0                             \n",
      "AfricanAmerican       0.490783\n",
      "Caucasian             0.506065\n",
      "Other                 0.481119\n",
      "Unknown               0.403141\n",
      "The Demographic parity difference score on the training data: 0.10292347738199109\n",
      "The Disparate impact ratio on the training data: 0.9523355422167098\n",
      "\n",
      "===After training the model===\n",
      "The accuracy score for the testing data: 0.579717977693706\n",
      "The precision score for the testing data: 0.1498941268249192\n",
      "The recall score for the testing data: 0.5922501100836636\n",
      "The F1 score for the testing data: 0.2392387050871576\n",
      "The F2 score for the testing data: 0.37243174392202477\n",
      "The specificity score for the testing data: 0.5781440106182945\n",
      "The balanced accuracy score for the testing data: 0.5851970603509791\n",
      "The G mean score for the testing data: 0.5851545555944135\n",
      "[[10454  7628]\n",
      " [  926  1345]]\n",
      "                selection_rate\n",
      "race                          \n",
      "AfricanAmerican       0.412339\n",
      "Caucasian             0.457755\n",
      "Other                 0.330519\n",
      "Unknown               0.312941\n",
      "The Demographic parity difference score on the trained model: 0.14481410001044276\n",
      "The Equalized odds difference score on the trained model: 0.16245350599256092\n",
      "The Equal opportunity difference score on the trained model: 0.5922501100836636\n",
      "The Disparate impact ratio on the trained model: 0.8540390949223132\n",
      "<sklearn.metrics._plot.roc_curve.RocCurveDisplay object at 0x000001B6C69002E0>\n",
      "\n",
      "sensitive-resample, w/o sensitive attribute\n"
     ]
    },
    {
     "name": "stderr",
     "output_type": "stream",
     "text": [
      "c:\\Users\\Tanya\\Desktop\\TANYA\\FMI\\Masters\\thesis\\src\\env\\lib\\site-packages\\sklearn\\metrics\\_classification.py:1344: UndefinedMetricWarning: Recall is ill-defined and being set to 0.0 due to no true samples. Use `zero_division` parameter to control this behavior.\n",
      "  _warn_prf(average, modifier, msg_start, len(result))\n"
     ]
    },
    {
     "name": "stdout",
     "output_type": "stream",
     "text": [
      "\n",
      "===Before training the model===\n",
      "                selection_rate\n",
      "race                          \n",
      "AfricanAmerican       0.114843\n",
      "Caucasian             0.106717\n",
      "Other                 0.096425\n",
      "Unknown               0.083424\n",
      "The Demographic parity difference score on the training data: 0.0314192849404117\n",
      "The Disparate impact ratio on the training data: 0.9204737732656514\n",
      "\n",
      "===After training the model===\n",
      "The accuracy score for the testing data: 0.8693558689136737\n",
      "The precision score for the testing data: 0.1689419795221843\n",
      "The recall score for the testing data: 0.043593130779392336\n",
      "The F1 score for the testing data: 0.06930346517325867\n",
      "The F2 score for the testing data: 0.051189245087900716\n",
      "The specificity score for the testing data: 0.9730671385908638\n",
      "The balanced accuracy score for the testing data: 0.5083301346851281\n",
      "The G mean score for the testing data: 0.20595883819278213\n",
      "[[17595   487]\n",
      " [ 2172    99]]\n",
      "                selection_rate\n",
      "race                          \n",
      "AfricanAmerican       0.036761\n",
      "Caucasian             0.027352\n",
      "Other                 0.026538\n",
      "Unknown               0.011765\n",
      "The Demographic parity difference score on the trained model: 0.024996219567518525\n",
      "The Equalized odds difference score on the trained model: 0.05321507760532151\n",
      "The Equal opportunity difference score on the trained model: 0.043593130779392336\n",
      "The Disparate impact ratio on the trained model: 1.2082457904653665\n",
      "<sklearn.metrics._plot.roc_curve.RocCurveDisplay object at 0x000001B6C69002E0>\n",
      "\n",
      "sensitive-resample, with sensitive attribute\n",
      "\n",
      "===Before training the model===\n",
      "                selection_rate\n",
      "race                          \n",
      "AfricanAmerican       0.114843\n",
      "Caucasian             0.106717\n",
      "Other                 0.096425\n",
      "Unknown               0.083424\n",
      "The Demographic parity difference score on the training data: 0.0314192849404117\n",
      "The Disparate impact ratio on the training data: 0.9204737732656514\n",
      "\n",
      "===After training the model===\n"
     ]
    },
    {
     "name": "stderr",
     "output_type": "stream",
     "text": [
      "c:\\Users\\Tanya\\Desktop\\TANYA\\FMI\\Masters\\thesis\\src\\env\\lib\\site-packages\\sklearn\\metrics\\_classification.py:1344: UndefinedMetricWarning: Recall is ill-defined and being set to 0.0 due to no true samples. Use `zero_division` parameter to control this behavior.\n",
      "  _warn_prf(average, modifier, msg_start, len(result))\n",
      "c:\\Users\\Tanya\\Desktop\\TANYA\\FMI\\Masters\\thesis\\src\\env\\lib\\site-packages\\sklearn\\metrics\\_classification.py:1344: UndefinedMetricWarning: Recall is ill-defined and being set to 0.0 due to no true samples. Use `zero_division` parameter to control this behavior.\n",
      "  _warn_prf(average, modifier, msg_start, len(result))\n"
     ]
    },
    {
     "name": "stdout",
     "output_type": "stream",
     "text": [
      "The accuracy score for the testing data: 0.8664570333611753\n",
      "The precision score for the testing data: 0.14691943127962084\n",
      "The recall score for the testing data: 0.04095112285336856\n",
      "The F1 score for the testing data: 0.0640495867768595\n",
      "The F2 score for the testing data: 0.04785427601111454\n",
      "The specificity score for the testing data: 0.9701360468974671\n",
      "The balanced accuracy score for the testing data: 0.5055435848754178\n",
      "The G mean score for the testing data: 0.19931924252560135\n",
      "[[17542   540]\n",
      " [ 2178    93]]\n",
      "                selection_rate\n",
      "race                          \n",
      "AfricanAmerican       0.037789\n",
      "Caucasian             0.030508\n",
      "Other                   0.0193\n",
      "Unknown               0.014118\n",
      "The Demographic parity difference score on the trained model: 0.023671556026009375\n",
      "The Equalized odds difference score on the trained model: 0.050997782705099776\n",
      "The Equal opportunity difference score on the trained model: 0.04095112285336856\n",
      "The Disparate impact ratio on the trained model: 1.0768827592910388\n",
      "<sklearn.metrics._plot.roc_curve.RocCurveDisplay object at 0x000001B6C69002E0>\n",
      "\n",
      "multivariate-resample, w/o sensitive attribute\n",
      "\n",
      "===Before training the model===\n",
      "                selection_rate\n",
      "0                             \n",
      "AfricanAmerican            0.5\n",
      "Caucasian                  0.5\n",
      "Other                      0.5\n",
      "Unknown                    0.5\n",
      "The Demographic parity difference score on the training data: 0.0\n",
      "The Disparate impact ratio on the training data: 1.0\n",
      "\n",
      "===After training the model===\n",
      "The accuracy score for the testing data: 0.6206456050705056\n",
      "The precision score for the testing data: 0.13353953738569124\n",
      "The recall score for the testing data: 0.4372523117569353\n",
      "The F1 score for the testing data: 0.20459462243741633\n",
      "The F2 score for the testing data: 0.300544794188862\n",
      "The specificity score for the testing data: 0.6436787965932972\n",
      "The balanced accuracy score for the testing data: 0.5404655541751162\n",
      "The G mean score for the testing data: 0.5305186536205314\n",
      "[[11639  6443]\n",
      " [ 1278   993]]\n",
      "                selection_rate\n",
      "race                          \n",
      "AfricanAmerican       0.372237\n",
      "Caucasian             0.367743\n",
      "Other                 0.312425\n",
      "Unknown                   0.32\n"
     ]
    },
    {
     "name": "stderr",
     "output_type": "stream",
     "text": [
      "c:\\Users\\Tanya\\Desktop\\TANYA\\FMI\\Masters\\thesis\\src\\env\\lib\\site-packages\\sklearn\\metrics\\_classification.py:1344: UndefinedMetricWarning: Recall is ill-defined and being set to 0.0 due to no true samples. Use `zero_division` parameter to control this behavior.\n",
      "  _warn_prf(average, modifier, msg_start, len(result))\n",
      "c:\\Users\\Tanya\\Desktop\\TANYA\\FMI\\Masters\\thesis\\src\\env\\lib\\site-packages\\sklearn\\metrics\\_classification.py:1344: UndefinedMetricWarning: Recall is ill-defined and being set to 0.0 due to no true samples. Use `zero_division` parameter to control this behavior.\n",
      "  _warn_prf(average, modifier, msg_start, len(result))\n"
     ]
    },
    {
     "name": "stdout",
     "output_type": "stream",
     "text": [
      "The Demographic parity difference score on the trained model: 0.059811895894641864\n",
      "The Equalized odds difference score on the trained model: 0.251131221719457\n",
      "The Equal opportunity difference score on the trained model: 0.4372523117569353\n",
      "The Disparate impact ratio on the trained model: 0.9742719876739948\n",
      "<sklearn.metrics._plot.roc_curve.RocCurveDisplay object at 0x000001B6C69002E0>\n",
      "\n",
      "multivariate-resample, with sensitive attribute\n",
      "\n",
      "===Before training the model===\n",
      "                selection_rate\n",
      "0                             \n",
      "AfricanAmerican            0.5\n",
      "Caucasian                  0.5\n",
      "Other                      0.5\n",
      "Unknown                    0.5\n",
      "The Demographic parity difference score on the training data: 0.0\n",
      "The Disparate impact ratio on the training data: 1.0\n",
      "\n",
      "===After training the model===\n",
      "The accuracy score for the testing data: 0.6127352233086032\n",
      "The precision score for the testing data: 0.13474807967712538\n",
      "The recall score for the testing data: 0.4557463672391017\n",
      "The F1 score for the testing data: 0.2079983922829582\n",
      "The F2 score for the testing data: 0.30867879510885776\n",
      "The specificity score for the testing data: 0.6324521623714191\n",
      "The balanced accuracy score for the testing data: 0.5440992648052604\n",
      "The G mean score for the testing data: 0.5368778030923692\n",
      "[[11436  6646]\n",
      " [ 1236  1035]]\n",
      "                selection_rate\n",
      "race                          \n",
      "AfricanAmerican       0.364781\n",
      "Caucasian             0.385693\n",
      "Other                 0.306393\n",
      "Unknown               0.334118\n",
      "The Demographic parity difference score on the trained model: 0.07929943709128484\n",
      "The Equalized odds difference score on the trained model: 0.1780357375766271\n",
      "The Equal opportunity difference score on the trained model: 0.4557463672391017\n",
      "The Disparate impact ratio on the trained model: 0.9148170931519328\n",
      "<sklearn.metrics._plot.roc_curve.RocCurveDisplay object at 0x000001B6C82D1660>\n"
     ]
    },
    {
     "data": {
      "image/png": "[encoded data removed]",
      "text/plain": [
       "<Figure size 640x480 with 1 Axes>"
      ]
     },
     "metadata": {},
     "output_type": "display_data"
    },
    {
     "data": {
      "image/png": "[encoded data removed]",
      "text/plain": [
       "<Figure size 640x480 with 1 Axes>"
      ]
     },
     "metadata": {},
     "output_type": "display_data"
    },
    {
     "data": {
      "image/png": "[encoded data removed]",
      "text/plain": [
       "<Figure size 640x480 with 1 Axes>"
      ]
     },
     "metadata": {},
     "output_type": "display_data"
    },
    {
     "data": {
      "image/png": "[encoded data removed]",
      "text/plain": [
       "<Figure size 640x480 with 1 Axes>"
      ]
     },
     "metadata": {},
     "output_type": "display_data"
    },
    {
     "data": {
      "image/png": "[encoded data removed]",
      "text/plain": [
       "<Figure size 640x480 with 1 Axes>"
      ]
     },
     "metadata": {},
     "output_type": "display_data"
    },
    {
     "data": {
      "image/png": "[encoded data removed]",
      "text/plain": [
       "<Figure size 640x480 with 1 Axes>"
      ]
     },
     "metadata": {},
     "output_type": "display_data"
    },
    {
     "data": {
      "image/png": "[encoded data removed]",
      "text/plain": [
       "<Figure size 640x480 with 1 Axes>"
      ]
     },
     "metadata": {},
     "output_type": "display_data"
    },
    {
     "data": {
      "image/png": "[encoded data removed]",
      "text/plain": [
       "<Figure size 640x480 with 1 Axes>"
      ]
     },
     "metadata": {},
     "output_type": "display_data"
    }
   ],
   "source": [
    "decision_tree = DecisionTreeClassifier(criterion='entropy', max_depth=10)\n",
    "train_data_fairness_results, performance_results, fairness_results = train_model_on_datasets(decision_tree)"
   ]
  },
  {
   "cell_type": "markdown",
   "metadata": {},
   "source": [
    "Train data fairness"
   ]
  },
  {
   "cell_type": "code",
   "execution_count": 4,
   "metadata": {},
   "outputs": [
    {
     "data": {
      "application/vnd.plotly.v1+json": {
       "config": {
        "plotlyServerURL": "https://plot.ly"
       },
       "data": [
        {
         "fill": "toself",
         "name": "no resampling, w/o sensitive attribute",
         "r": [
          0.029632712453962498,
          0.9491723328270318
         ],
         "theta": [
          "demographic parity diff",
          "disparate impact ratio"
         ],
         "type": "scatterpolar"
        },
        {
         "fill": "toself",
         "name": "no resampling, with sensitive attribute",
         "r": [
          0.029632712453962498,
          0.9491723328270318
         ],
         "theta": [
          "demographic parity diff",
          "disparate impact ratio"
         ],
         "type": "scatterpolar"
        },
        {
         "fill": "toself",
         "name": "target-resample, w/o sensitive attribute",
         "r": [
          0.10292347738199109,
          0.9523355422167098
         ],
         "theta": [
          "demographic parity diff",
          "disparate impact ratio"
         ],
         "type": "scatterpolar"
        },
        {
         "fill": "toself",
         "name": "target-resample, with sensitive attribute",
         "r": [
          0.10292347738199109,
          0.9523355422167098
         ],
         "theta": [
          "demographic parity diff",
          "disparate impact ratio"
         ],
         "type": "scatterpolar"
        },
        {
         "fill": "toself",
         "name": "sensitive-resample, w/o sensitive attribute",
         "r": [
          0.0314192849404117,
          0.9204737732656514
         ],
         "theta": [
          "demographic parity diff",
          "disparate impact ratio"
         ],
         "type": "scatterpolar"
        },
        {
         "fill": "toself",
         "name": "sensitive-resample, with sensitive attribute",
         "r": [
          0.0314192849404117,
          0.9204737732656514
         ],
         "theta": [
          "demographic parity diff",
          "disparate impact ratio"
         ],
         "type": "scatterpolar"
        },
        {
         "fill": "toself",
         "name": "multivariate-resample, w/o sensitive attribute",
         "r": [
          0,
          1
         ],
         "theta": [
          "demographic parity diff",
          "disparate impact ratio"
         ],
         "type": "scatterpolar"
        },
        {
         "fill": "toself",
         "name": "multivariate-resample, with sensitive attribute",
         "r": [
          0,
          1
         ],
         "theta": [
          "demographic parity diff",
          "disparate impact ratio"
         ],
         "type": "scatterpolar"
        }
       ],
       "layout": {
        "polar": {
         "radialaxis": {
          "range": [
           0,
           1
          ],
          "visible": true
         }
        },
        "showlegend": true,
        "template": {
         "data": {
          "bar": [
           {
            "error_x": {
             "color": "#2a3f5f"
            },
            "error_y": {
             "color": "#2a3f5f"
            },
            "marker": {
             "line": {
              "color": "#E5ECF6",
              "width": 0.5
             },
             "pattern": {
              "fillmode": "overlay",
              "size": 10,
              "solidity": 0.2
             }
            },
            "type": "bar"
           }
          ],
          "barpolar": [
           {
            "marker": {
             "line": {
              "color": "#E5ECF6",
              "width": 0.5
             },
             "pattern": {
              "fillmode": "overlay",
              "size": 10,
              "solidity": 0.2
             }
            },
            "type": "barpolar"
           }
          ],
          "carpet": [
           {
            "aaxis": {
             "endlinecolor": "#2a3f5f",
             "gridcolor": "white",
             "linecolor": "white",
             "minorgridcolor": "white",
             "startlinecolor": "#2a3f5f"
            },
            "baxis": {
             "endlinecolor": "#2a3f5f",
             "gridcolor": "white",
             "linecolor": "white",
             "minorgridcolor": "white",
             "startlinecolor": "#2a3f5f"
            },
            "type": "carpet"
           }
          ],
          "choropleth": [
           {
            "colorbar": {
             "outlinewidth": 0,
             "ticks": ""
            },
            "type": "choropleth"
           }
          ],
          "contour": [
           {
            "colorbar": {
             "outlinewidth": 0,
             "ticks": ""
            },
            "colorscale": [
             [
              0,
              "#0d0887"
             ],
             [
              0.1111111111111111,
              "#46039f"
             ],
             [
              0.2222222222222222,
              "#7201a8"
             ],
             [
              0.3333333333333333,
              "#9c179e"
             ],
             [
              0.4444444444444444,
              "#bd3786"
             ],
             [
              0.5555555555555556,
              "#d8576b"
             ],
             [
              0.6666666666666666,
              "#ed7953"
             ],
             [
              0.7777777777777778,
              "#fb9f3a"
             ],
             [
              0.8888888888888888,
              "#fdca26"
             ],
             [
              1,
              "#f0f921"
             ]
            ],
            "type": "contour"
           }
          ],
          "contourcarpet": [
           {
            "colorbar": {
             "outlinewidth": 0,
             "ticks": ""
            },
            "type": "contourcarpet"
           }
          ],
          "heatmap": [
           {
            "colorbar": {
             "outlinewidth": 0,
             "ticks": ""
            },
            "colorscale": [
             [
              0,
              "#0d0887"
             ],
             [
              0.1111111111111111,
              "#46039f"
             ],
             [
              0.2222222222222222,
              "#7201a8"
             ],
             [
              0.3333333333333333,
              "#9c179e"
             ],
             [
              0.4444444444444444,
              "#bd3786"
             ],
             [
              0.5555555555555556,
              "#d8576b"
             ],
             [
              0.6666666666666666,
              "#ed7953"
             ],
             [
              0.7777777777777778,
              "#fb9f3a"
             ],
             [
              0.8888888888888888,
              "#fdca26"
             ],
             [
              1,
              "#f0f921"
             ]
            ],
            "type": "heatmap"
           }
          ],
          "heatmapgl": [
           {
            "colorbar": {
             "outlinewidth": 0,
             "ticks": ""
            },
            "colorscale": [
             [
              0,
              "#0d0887"
             ],
             [
              0.1111111111111111,
              "#46039f"
             ],
             [
              0.2222222222222222,
              "#7201a8"
             ],
             [
              0.3333333333333333,
              "#9c179e"
             ],
             [
              0.4444444444444444,
              "#bd3786"
             ],
             [
              0.5555555555555556,
              "#d8576b"
             ],
             [
              0.6666666666666666,
              "#ed7953"
             ],
             [
              0.7777777777777778,
              "#fb9f3a"
             ],
             [
              0.8888888888888888,
              "#fdca26"
             ],
             [
              1,
              "#f0f921"
             ]
            ],
            "type": "heatmapgl"
           }
          ],
          "histogram": [
           {
            "marker": {
             "pattern": {
              "fillmode": "overlay",
              "size": 10,
              "solidity": 0.2
             }
            },
            "type": "histogram"
           }
          ],
          "histogram2d": [
           {
            "colorbar": {
             "outlinewidth": 0,
             "ticks": ""
            },
            "colorscale": [
             [
              0,
              "#0d0887"
             ],
             [
              0.1111111111111111,
              "#46039f"
             ],
             [
              0.2222222222222222,
              "#7201a8"
             ],
             [
              0.3333333333333333,
              "#9c179e"
             ],
             [
              0.4444444444444444,
              "#bd3786"
             ],
             [
              0.5555555555555556,
              "#d8576b"
             ],
             [
              0.6666666666666666,
              "#ed7953"
             ],
             [
              0.7777777777777778,
              "#fb9f3a"
             ],
             [
              0.8888888888888888,
              "#fdca26"
             ],
             [
              1,
              "#f0f921"
             ]
            ],
            "type": "histogram2d"
           }
          ],
          "histogram2dcontour": [
           {
            "colorbar": {
             "outlinewidth": 0,
             "ticks": ""
            },
            "colorscale": [
             [
              0,
              "#0d0887"
             ],
             [
              0.1111111111111111,
              "#46039f"
             ],
             [
              0.2222222222222222,
              "#7201a8"
             ],
             [
              0.3333333333333333,
              "#9c179e"
             ],
             [
              0.4444444444444444,
              "#bd3786"
             ],
             [
              0.5555555555555556,
              "#d8576b"
             ],
             [
              0.6666666666666666,
              "#ed7953"
             ],
             [
              0.7777777777777778,
              "#fb9f3a"
             ],
             [
              0.8888888888888888,
              "#fdca26"
             ],
             [
              1,
              "#f0f921"
             ]
            ],
            "type": "histogram2dcontour"
           }
          ],
          "mesh3d": [
           {
            "colorbar": {
             "outlinewidth": 0,
             "ticks": ""
            },
            "type": "mesh3d"
           }
          ],
          "parcoords": [
           {
            "line": {
             "colorbar": {
              "outlinewidth": 0,
              "ticks": ""
             }
            },
            "type": "parcoords"
           }
          ],
          "pie": [
           {
            "automargin": true,
            "type": "pie"
           }
          ],
          "scatter": [
           {
            "fillpattern": {
             "fillmode": "overlay",
             "size": 10,
             "solidity": 0.2
            },
            "type": "scatter"
           }
          ],
          "scatter3d": [
           {
            "line": {
             "colorbar": {
              "outlinewidth": 0,
              "ticks": ""
             }
            },
            "marker": {
             "colorbar": {
              "outlinewidth": 0,
              "ticks": ""
             }
            },
            "type": "scatter3d"
           }
          ],
          "scattercarpet": [
           {
            "marker": {
             "colorbar": {
              "outlinewidth": 0,
              "ticks": ""
             }
            },
            "type": "scattercarpet"
           }
          ],
          "scattergeo": [
           {
            "marker": {
             "colorbar": {
              "outlinewidth": 0,
              "ticks": ""
             }
            },
            "type": "scattergeo"
           }
          ],
          "scattergl": [
           {
            "marker": {
             "colorbar": {
              "outlinewidth": 0,
              "ticks": ""
             }
            },
            "type": "scattergl"
           }
          ],
          "scattermapbox": [
           {
            "marker": {
             "colorbar": {
              "outlinewidth": 0,
              "ticks": ""
             }
            },
            "type": "scattermapbox"
           }
          ],
          "scatterpolar": [
           {
            "marker": {
             "colorbar": {
              "outlinewidth": 0,
              "ticks": ""
             }
            },
            "type": "scatterpolar"
           }
          ],
          "scatterpolargl": [
           {
            "marker": {
             "colorbar": {
              "outlinewidth": 0,
              "ticks": ""
             }
            },
            "type": "scatterpolargl"
           }
          ],
          "scatterternary": [
           {
            "marker": {
             "colorbar": {
              "outlinewidth": 0,
              "ticks": ""
             }
            },
            "type": "scatterternary"
           }
          ],
          "surface": [
           {
            "colorbar": {
             "outlinewidth": 0,
             "ticks": ""
            },
            "colorscale": [
             [
              0,
              "#0d0887"
             ],
             [
              0.1111111111111111,
              "#46039f"
             ],
             [
              0.2222222222222222,
              "#7201a8"
             ],
             [
              0.3333333333333333,
              "#9c179e"
             ],
             [
              0.4444444444444444,
              "#bd3786"
             ],
             [
              0.5555555555555556,
              "#d8576b"
             ],
             [
              0.6666666666666666,
              "#ed7953"
             ],
             [
              0.7777777777777778,
              "#fb9f3a"
             ],
             [
              0.8888888888888888,
              "#fdca26"
             ],
             [
              1,
              "#f0f921"
             ]
            ],
            "type": "surface"
           }
          ],
          "table": [
           {
            "cells": {
             "fill": {
              "color": "#EBF0F8"
             },
             "line": {
              "color": "white"
             }
            },
            "header": {
             "fill": {
              "color": "#C8D4E3"
             },
             "line": {
              "color": "white"
             }
            },
            "type": "table"
           }
          ]
         },
         "layout": {
          "annotationdefaults": {
           "arrowcolor": "#2a3f5f",
           "arrowhead": 0,
           "arrowwidth": 1
          },
          "autotypenumbers": "strict",
          "coloraxis": {
           "colorbar": {
            "outlinewidth": 0,
            "ticks": ""
           }
          },
          "colorscale": {
           "diverging": [
            [
             0,
             "#8e0152"
            ],
            [
             0.1,
             "#c51b7d"
            ],
            [
             0.2,
             "#de77ae"
            ],
            [
             0.3,
             "#f1b6da"
            ],
            [
             0.4,
             "#fde0ef"
            ],
            [
             0.5,
             "#f7f7f7"
            ],
            [
             0.6,
             "#e6f5d0"
            ],
            [
             0.7,
             "#b8e186"
            ],
            [
             0.8,
             "#7fbc41"
            ],
            [
             0.9,
             "#4d9221"
            ],
            [
             1,
             "#276419"
            ]
           ],
           "sequential": [
            [
             0,
             "#0d0887"
            ],
            [
             0.1111111111111111,
             "#46039f"
            ],
            [
             0.2222222222222222,
             "#7201a8"
            ],
            [
             0.3333333333333333,
             "#9c179e"
            ],
            [
             0.4444444444444444,
             "#bd3786"
            ],
            [
             0.5555555555555556,
             "#d8576b"
            ],
            [
             0.6666666666666666,
             "#ed7953"
            ],
            [
             0.7777777777777778,
             "#fb9f3a"
            ],
            [
             0.8888888888888888,
             "#fdca26"
            ],
            [
             1,
             "#f0f921"
            ]
           ],
           "sequentialminus": [
            [
             0,
             "#0d0887"
            ],
            [
             0.1111111111111111,
             "#46039f"
            ],
            [
             0.2222222222222222,
             "#7201a8"
            ],
            [
             0.3333333333333333,
             "#9c179e"
            ],
            [
             0.4444444444444444,
             "#bd3786"
            ],
            [
             0.5555555555555556,
             "#d8576b"
            ],
            [
             0.6666666666666666,
             "#ed7953"
            ],
            [
             0.7777777777777778,
             "#fb9f3a"
            ],
            [
             0.8888888888888888,
             "#fdca26"
            ],
            [
             1,
             "#f0f921"
            ]
           ]
          },
          "colorway": [
           "#636efa",
           "#EF553B",
           "#00cc96",
           "#ab63fa",
           "#FFA15A",
           "#19d3f3",
           "#FF6692",
           "#B6E880",
           "#FF97FF",
           "#FECB52"
          ],
          "font": {
           "color": "#2a3f5f"
          },
          "geo": {
           "bgcolor": "white",
           "lakecolor": "white",
           "landcolor": "#E5ECF6",
           "showlakes": true,
           "showland": true,
           "subunitcolor": "white"
          },
          "hoverlabel": {
           "align": "left"
          },
          "hovermode": "closest",
          "mapbox": {
           "style": "light"
          },
          "paper_bgcolor": "white",
          "plot_bgcolor": "#E5ECF6",
          "polar": {
           "angularaxis": {
            "gridcolor": "white",
            "linecolor": "white",
            "ticks": ""
           },
           "bgcolor": "#E5ECF6",
           "radialaxis": {
            "gridcolor": "white",
            "linecolor": "white",
            "ticks": ""
           }
          },
          "scene": {
           "xaxis": {
            "backgroundcolor": "#E5ECF6",
            "gridcolor": "white",
            "gridwidth": 2,
            "linecolor": "white",
            "showbackground": true,
            "ticks": "",
            "zerolinecolor": "white"
           },
           "yaxis": {
            "backgroundcolor": "#E5ECF6",
            "gridcolor": "white",
            "gridwidth": 2,
            "linecolor": "white",
            "showbackground": true,
            "ticks": "",
            "zerolinecolor": "white"
           },
           "zaxis": {
            "backgroundcolor": "#E5ECF6",
            "gridcolor": "white",
            "gridwidth": 2,
            "linecolor": "white",
            "showbackground": true,
            "ticks": "",
            "zerolinecolor": "white"
           }
          },
          "shapedefaults": {
           "line": {
            "color": "#2a3f5f"
           }
          },
          "ternary": {
           "aaxis": {
            "gridcolor": "white",
            "linecolor": "white",
            "ticks": ""
           },
           "baxis": {
            "gridcolor": "white",
            "linecolor": "white",
            "ticks": ""
           },
           "bgcolor": "#E5ECF6",
           "caxis": {
            "gridcolor": "white",
            "linecolor": "white",
            "ticks": ""
           }
          },
          "title": {
           "x": 0.05
          },
          "xaxis": {
           "automargin": true,
           "gridcolor": "white",
           "linecolor": "white",
           "ticks": "",
           "title": {
            "standoff": 15
           },
           "zerolinecolor": "white",
           "zerolinewidth": 2
          },
          "yaxis": {
           "automargin": true,
           "gridcolor": "white",
           "linecolor": "white",
           "ticks": "",
           "title": {
            "standoff": 15
           },
           "zerolinecolor": "white",
           "zerolinewidth": 2
          }
         }
        }
       }
      }
     },
     "metadata": {},
     "output_type": "display_data"
    }
   ],
   "source": [
    "categories = ['demographic parity diff','disparate impact ratio']\n",
    "dataset_ref = [ 'no resampling, w/o sensitive attribute', 'no resampling, with sensitive attribute', \\\n",
    "                    'target-resample, w/o sensitive attribute', 'target-resample, with sensitive attribute', \\\n",
    "                    'sensitive-resample, w/o sensitive attribute', 'sensitive-resample, with sensitive attribute', \\\n",
    "                    'multivariate-resample, w/o sensitive attribute', 'multivariate-resample, with sensitive attribute']\n",
    "\n",
    "fig = go.Figure()\n",
    "\n",
    "for res_list,ref in zip(train_data_fairness_results, dataset_ref):\n",
    "\n",
    "  fig.add_trace(go.Scatterpolar(\n",
    "        r=res_list,\n",
    "        theta=categories,\n",
    "        fill='toself',\n",
    "        name=ref\n",
    "  ))\n",
    "\n",
    "\n",
    "fig.update_layout(\n",
    "  polar=dict(\n",
    "    radialaxis=dict(\n",
    "      visible=True,\n",
    "      range=[0, 1]\n",
    "    )),\n",
    "  showlegend=True\n",
    ")\n",
    "\n",
    "fig.show()"
   ]
  },
  {
   "cell_type": "markdown",
   "metadata": {},
   "source": [
    "Model performance results"
   ]
  },
  {
   "cell_type": "code",
   "execution_count": 5,
   "metadata": {},
   "outputs": [
    {
     "data": {
      "application/vnd.plotly.v1+json": {
       "config": {
        "plotlyServerURL": "https://plot.ly"
       },
       "data": [
        {
         "name": "no resampling, w/o sensitive attribute",
         "r": [
          0.8844396403478603,
          0.23178807947019867,
          0.015411712901805373,
          0.028901734104046242,
          0.018949648077964266,
          0.993584780444641,
          0.5044982466732232,
          0.12374507416384757
         ],
         "theta": [
          "accuracy",
          "precision",
          "recall",
          "f1",
          "f2",
          "specificity",
          "balanced accuracy",
          "geometric mean"
         ],
         "type": "scatterpolar"
        },
        {
         "name": "no resampling, with sensitive attribute",
         "r": [
          0.8842922419299366,
          0.22727272727272727,
          0.015411712901805373,
          0.028865979381443297,
          0.018943494262827452,
          0.9934188695940714,
          0.5044152912479384,
          0.12373474212774627
         ],
         "theta": [
          "accuracy",
          "precision",
          "recall",
          "f1",
          "f2",
          "specificity",
          "balanced accuracy",
          "geometric mean"
         ],
         "type": "scatterpolar"
        },
        {
         "name": "target-resample, w/o sensitive attribute",
         "r": [
          0.5983884439640348,
          0.1537017482107239,
          0.5768383971818583,
          0.24272744117102094,
          0.37201113193616175,
          0.6010950116137596,
          0.5889667043978088,
          0.5888418149667121
         ],
         "theta": [
          "accuracy",
          "precision",
          "recall",
          "f1",
          "f2",
          "specificity",
          "balanced accuracy",
          "geometric mean"
         ],
         "type": "scatterpolar"
        },
        {
         "name": "target-resample, with sensitive attribute",
         "r": [
          0.579717977693706,
          0.1498941268249192,
          0.5922501100836636,
          0.2392387050871576,
          0.37243174392202477,
          0.5781440106182945,
          0.5851970603509791,
          0.5851545555944135
         ],
         "theta": [
          "accuracy",
          "precision",
          "recall",
          "f1",
          "f2",
          "specificity",
          "balanced accuracy",
          "geometric mean"
         ],
         "type": "scatterpolar"
        },
        {
         "name": "sensitive-resample, w/o sensitive attribute",
         "r": [
          0.8693558689136737,
          0.1689419795221843,
          0.043593130779392336,
          0.06930346517325867,
          0.051189245087900716,
          0.9730671385908638,
          0.5083301346851281,
          0.20595883819278213
         ],
         "theta": [
          "accuracy",
          "precision",
          "recall",
          "f1",
          "f2",
          "specificity",
          "balanced accuracy",
          "geometric mean"
         ],
         "type": "scatterpolar"
        },
        {
         "name": "sensitive-resample, with sensitive attribute",
         "r": [
          0.8664570333611753,
          0.14691943127962084,
          0.04095112285336856,
          0.0640495867768595,
          0.04785427601111454,
          0.9701360468974671,
          0.5055435848754178,
          0.19931924252560135
         ],
         "theta": [
          "accuracy",
          "precision",
          "recall",
          "f1",
          "f2",
          "specificity",
          "balanced accuracy",
          "geometric mean"
         ],
         "type": "scatterpolar"
        },
        {
         "name": "multivariate-resample, w/o sensitive attribute",
         "r": [
          0.6206456050705056,
          0.13353953738569124,
          0.4372523117569353,
          0.20459462243741633,
          0.300544794188862,
          0.6436787965932972,
          0.5404655541751162,
          0.5305186536205314
         ],
         "theta": [
          "accuracy",
          "precision",
          "recall",
          "f1",
          "f2",
          "specificity",
          "balanced accuracy",
          "geometric mean"
         ],
         "type": "scatterpolar"
        },
        {
         "name": "multivariate-resample, with sensitive attribute",
         "r": [
          0.6127352233086032,
          0.13474807967712538,
          0.4557463672391017,
          0.2079983922829582,
          0.30867879510885776,
          0.6324521623714191,
          0.5440992648052604,
          0.5368778030923692
         ],
         "theta": [
          "accuracy",
          "precision",
          "recall",
          "f1",
          "f2",
          "specificity",
          "balanced accuracy",
          "geometric mean"
         ],
         "type": "scatterpolar"
        }
       ],
       "layout": {
        "polar": {
         "radialaxis": {
          "range": [
           0,
           1
          ],
          "visible": true
         }
        },
        "showlegend": true,
        "template": {
         "data": {
          "bar": [
           {
            "error_x": {
             "color": "#2a3f5f"
            },
            "error_y": {
             "color": "#2a3f5f"
            },
            "marker": {
             "line": {
              "color": "#E5ECF6",
              "width": 0.5
             },
             "pattern": {
              "fillmode": "overlay",
              "size": 10,
              "solidity": 0.2
             }
            },
            "type": "bar"
           }
          ],
          "barpolar": [
           {
            "marker": {
             "line": {
              "color": "#E5ECF6",
              "width": 0.5
             },
             "pattern": {
              "fillmode": "overlay",
              "size": 10,
              "solidity": 0.2
             }
            },
            "type": "barpolar"
           }
          ],
          "carpet": [
           {
            "aaxis": {
             "endlinecolor": "#2a3f5f",
             "gridcolor": "white",
             "linecolor": "white",
             "minorgridcolor": "white",
             "startlinecolor": "#2a3f5f"
            },
            "baxis": {
             "endlinecolor": "#2a3f5f",
             "gridcolor": "white",
             "linecolor": "white",
             "minorgridcolor": "white",
             "startlinecolor": "#2a3f5f"
            },
            "type": "carpet"
           }
          ],
          "choropleth": [
           {
            "colorbar": {
             "outlinewidth": 0,
             "ticks": ""
            },
            "type": "choropleth"
           }
          ],
          "contour": [
           {
            "colorbar": {
             "outlinewidth": 0,
             "ticks": ""
            },
            "colorscale": [
             [
              0,
              "#0d0887"
             ],
             [
              0.1111111111111111,
              "#46039f"
             ],
             [
              0.2222222222222222,
              "#7201a8"
             ],
             [
              0.3333333333333333,
              "#9c179e"
             ],
             [
              0.4444444444444444,
              "#bd3786"
             ],
             [
              0.5555555555555556,
              "#d8576b"
             ],
             [
              0.6666666666666666,
              "#ed7953"
             ],
             [
              0.7777777777777778,
              "#fb9f3a"
             ],
             [
              0.8888888888888888,
              "#fdca26"
             ],
             [
              1,
              "#f0f921"
             ]
            ],
            "type": "contour"
           }
          ],
          "contourcarpet": [
           {
            "colorbar": {
             "outlinewidth": 0,
             "ticks": ""
            },
            "type": "contourcarpet"
           }
          ],
          "heatmap": [
           {
            "colorbar": {
             "outlinewidth": 0,
             "ticks": ""
            },
            "colorscale": [
             [
              0,
              "#0d0887"
             ],
             [
              0.1111111111111111,
              "#46039f"
             ],
             [
              0.2222222222222222,
              "#7201a8"
             ],
             [
              0.3333333333333333,
              "#9c179e"
             ],
             [
              0.4444444444444444,
              "#bd3786"
             ],
             [
              0.5555555555555556,
              "#d8576b"
             ],
             [
              0.6666666666666666,
              "#ed7953"
             ],
             [
              0.7777777777777778,
              "#fb9f3a"
             ],
             [
              0.8888888888888888,
              "#fdca26"
             ],
             [
              1,
              "#f0f921"
             ]
            ],
            "type": "heatmap"
           }
          ],
          "heatmapgl": [
           {
            "colorbar": {
             "outlinewidth": 0,
             "ticks": ""
            },
            "colorscale": [
             [
              0,
              "#0d0887"
             ],
             [
              0.1111111111111111,
              "#46039f"
             ],
             [
              0.2222222222222222,
              "#7201a8"
             ],
             [
              0.3333333333333333,
              "#9c179e"
             ],
             [
              0.4444444444444444,
              "#bd3786"
             ],
             [
              0.5555555555555556,
              "#d8576b"
             ],
             [
              0.6666666666666666,
              "#ed7953"
             ],
             [
              0.7777777777777778,
              "#fb9f3a"
             ],
             [
              0.8888888888888888,
              "#fdca26"
             ],
             [
              1,
              "#f0f921"
             ]
            ],
            "type": "heatmapgl"
           }
          ],
          "histogram": [
           {
            "marker": {
             "pattern": {
              "fillmode": "overlay",
              "size": 10,
              "solidity": 0.2
             }
            },
            "type": "histogram"
           }
          ],
          "histogram2d": [
           {
            "colorbar": {
             "outlinewidth": 0,
             "ticks": ""
            },
            "colorscale": [
             [
              0,
              "#0d0887"
             ],
             [
              0.1111111111111111,
              "#46039f"
             ],
             [
              0.2222222222222222,
              "#7201a8"
             ],
             [
              0.3333333333333333,
              "#9c179e"
             ],
             [
              0.4444444444444444,
              "#bd3786"
             ],
             [
              0.5555555555555556,
              "#d8576b"
             ],
             [
              0.6666666666666666,
              "#ed7953"
             ],
             [
              0.7777777777777778,
              "#fb9f3a"
             ],
             [
              0.8888888888888888,
              "#fdca26"
             ],
             [
              1,
              "#f0f921"
             ]
            ],
            "type": "histogram2d"
           }
          ],
          "histogram2dcontour": [
           {
            "colorbar": {
             "outlinewidth": 0,
             "ticks": ""
            },
            "colorscale": [
             [
              0,
              "#0d0887"
             ],
             [
              0.1111111111111111,
              "#46039f"
             ],
             [
              0.2222222222222222,
              "#7201a8"
             ],
             [
              0.3333333333333333,
              "#9c179e"
             ],
             [
              0.4444444444444444,
              "#bd3786"
             ],
             [
              0.5555555555555556,
              "#d8576b"
             ],
             [
              0.6666666666666666,
              "#ed7953"
             ],
             [
              0.7777777777777778,
              "#fb9f3a"
             ],
             [
              0.8888888888888888,
              "#fdca26"
             ],
             [
              1,
              "#f0f921"
             ]
            ],
            "type": "histogram2dcontour"
           }
          ],
          "mesh3d": [
           {
            "colorbar": {
             "outlinewidth": 0,
             "ticks": ""
            },
            "type": "mesh3d"
           }
          ],
          "parcoords": [
           {
            "line": {
             "colorbar": {
              "outlinewidth": 0,
              "ticks": ""
             }
            },
            "type": "parcoords"
           }
          ],
          "pie": [
           {
            "automargin": true,
            "type": "pie"
           }
          ],
          "scatter": [
           {
            "fillpattern": {
             "fillmode": "overlay",
             "size": 10,
             "solidity": 0.2
            },
            "type": "scatter"
           }
          ],
          "scatter3d": [
           {
            "line": {
             "colorbar": {
              "outlinewidth": 0,
              "ticks": ""
             }
            },
            "marker": {
             "colorbar": {
              "outlinewidth": 0,
              "ticks": ""
             }
            },
            "type": "scatter3d"
           }
          ],
          "scattercarpet": [
           {
            "marker": {
             "colorbar": {
              "outlinewidth": 0,
              "ticks": ""
             }
            },
            "type": "scattercarpet"
           }
          ],
          "scattergeo": [
           {
            "marker": {
             "colorbar": {
              "outlinewidth": 0,
              "ticks": ""
             }
            },
            "type": "scattergeo"
           }
          ],
          "scattergl": [
           {
            "marker": {
             "colorbar": {
              "outlinewidth": 0,
              "ticks": ""
             }
            },
            "type": "scattergl"
           }
          ],
          "scattermapbox": [
           {
            "marker": {
             "colorbar": {
              "outlinewidth": 0,
              "ticks": ""
             }
            },
            "type": "scattermapbox"
           }
          ],
          "scatterpolar": [
           {
            "marker": {
             "colorbar": {
              "outlinewidth": 0,
              "ticks": ""
             }
            },
            "type": "scatterpolar"
           }
          ],
          "scatterpolargl": [
           {
            "marker": {
             "colorbar": {
              "outlinewidth": 0,
              "ticks": ""
             }
            },
            "type": "scatterpolargl"
           }
          ],
          "scatterternary": [
           {
            "marker": {
             "colorbar": {
              "outlinewidth": 0,
              "ticks": ""
             }
            },
            "type": "scatterternary"
           }
          ],
          "surface": [
           {
            "colorbar": {
             "outlinewidth": 0,
             "ticks": ""
            },
            "colorscale": [
             [
              0,
              "#0d0887"
             ],
             [
              0.1111111111111111,
              "#46039f"
             ],
             [
              0.2222222222222222,
              "#7201a8"
             ],
             [
              0.3333333333333333,
              "#9c179e"
             ],
             [
              0.4444444444444444,
              "#bd3786"
             ],
             [
              0.5555555555555556,
              "#d8576b"
             ],
             [
              0.6666666666666666,
              "#ed7953"
             ],
             [
              0.7777777777777778,
              "#fb9f3a"
             ],
             [
              0.8888888888888888,
              "#fdca26"
             ],
             [
              1,
              "#f0f921"
             ]
            ],
            "type": "surface"
           }
          ],
          "table": [
           {
            "cells": {
             "fill": {
              "color": "#EBF0F8"
             },
             "line": {
              "color": "white"
             }
            },
            "header": {
             "fill": {
              "color": "#C8D4E3"
             },
             "line": {
              "color": "white"
             }
            },
            "type": "table"
           }
          ]
         },
         "layout": {
          "annotationdefaults": {
           "arrowcolor": "#2a3f5f",
           "arrowhead": 0,
           "arrowwidth": 1
          },
          "autotypenumbers": "strict",
          "coloraxis": {
           "colorbar": {
            "outlinewidth": 0,
            "ticks": ""
           }
          },
          "colorscale": {
           "diverging": [
            [
             0,
             "#8e0152"
            ],
            [
             0.1,
             "#c51b7d"
            ],
            [
             0.2,
             "#de77ae"
            ],
            [
             0.3,
             "#f1b6da"
            ],
            [
             0.4,
             "#fde0ef"
            ],
            [
             0.5,
             "#f7f7f7"
            ],
            [
             0.6,
             "#e6f5d0"
            ],
            [
             0.7,
             "#b8e186"
            ],
            [
             0.8,
             "#7fbc41"
            ],
            [
             0.9,
             "#4d9221"
            ],
            [
             1,
             "#276419"
            ]
           ],
           "sequential": [
            [
             0,
             "#0d0887"
            ],
            [
             0.1111111111111111,
             "#46039f"
            ],
            [
             0.2222222222222222,
             "#7201a8"
            ],
            [
             0.3333333333333333,
             "#9c179e"
            ],
            [
             0.4444444444444444,
             "#bd3786"
            ],
            [
             0.5555555555555556,
             "#d8576b"
            ],
            [
             0.6666666666666666,
             "#ed7953"
            ],
            [
             0.7777777777777778,
             "#fb9f3a"
            ],
            [
             0.8888888888888888,
             "#fdca26"
            ],
            [
             1,
             "#f0f921"
            ]
           ],
           "sequentialminus": [
            [
             0,
             "#0d0887"
            ],
            [
             0.1111111111111111,
             "#46039f"
            ],
            [
             0.2222222222222222,
             "#7201a8"
            ],
            [
             0.3333333333333333,
             "#9c179e"
            ],
            [
             0.4444444444444444,
             "#bd3786"
            ],
            [
             0.5555555555555556,
             "#d8576b"
            ],
            [
             0.6666666666666666,
             "#ed7953"
            ],
            [
             0.7777777777777778,
             "#fb9f3a"
            ],
            [
             0.8888888888888888,
             "#fdca26"
            ],
            [
             1,
             "#f0f921"
            ]
           ]
          },
          "colorway": [
           "#636efa",
           "#EF553B",
           "#00cc96",
           "#ab63fa",
           "#FFA15A",
           "#19d3f3",
           "#FF6692",
           "#B6E880",
           "#FF97FF",
           "#FECB52"
          ],
          "font": {
           "color": "#2a3f5f"
          },
          "geo": {
           "bgcolor": "white",
           "lakecolor": "white",
           "landcolor": "#E5ECF6",
           "showlakes": true,
           "showland": true,
           "subunitcolor": "white"
          },
          "hoverlabel": {
           "align": "left"
          },
          "hovermode": "closest",
          "mapbox": {
           "style": "light"
          },
          "paper_bgcolor": "white",
          "plot_bgcolor": "#E5ECF6",
          "polar": {
           "angularaxis": {
            "gridcolor": "white",
            "linecolor": "white",
            "ticks": ""
           },
           "bgcolor": "#E5ECF6",
           "radialaxis": {
            "gridcolor": "white",
            "linecolor": "white",
            "ticks": ""
           }
          },
          "scene": {
           "xaxis": {
            "backgroundcolor": "#E5ECF6",
            "gridcolor": "white",
            "gridwidth": 2,
            "linecolor": "white",
            "showbackground": true,
            "ticks": "",
            "zerolinecolor": "white"
           },
           "yaxis": {
            "backgroundcolor": "#E5ECF6",
            "gridcolor": "white",
            "gridwidth": 2,
            "linecolor": "white",
            "showbackground": true,
            "ticks": "",
            "zerolinecolor": "white"
           },
           "zaxis": {
            "backgroundcolor": "#E5ECF6",
            "gridcolor": "white",
            "gridwidth": 2,
            "linecolor": "white",
            "showbackground": true,
            "ticks": "",
            "zerolinecolor": "white"
           }
          },
          "shapedefaults": {
           "line": {
            "color": "#2a3f5f"
           }
          },
          "ternary": {
           "aaxis": {
            "gridcolor": "white",
            "linecolor": "white",
            "ticks": ""
           },
           "baxis": {
            "gridcolor": "white",
            "linecolor": "white",
            "ticks": ""
           },
           "bgcolor": "#E5ECF6",
           "caxis": {
            "gridcolor": "white",
            "linecolor": "white",
            "ticks": ""
           }
          },
          "title": {
           "x": 0.05
          },
          "xaxis": {
           "automargin": true,
           "gridcolor": "white",
           "linecolor": "white",
           "ticks": "",
           "title": {
            "standoff": 15
           },
           "zerolinecolor": "white",
           "zerolinewidth": 2
          },
          "yaxis": {
           "automargin": true,
           "gridcolor": "white",
           "linecolor": "white",
           "ticks": "",
           "title": {
            "standoff": 15
           },
           "zerolinecolor": "white",
           "zerolinewidth": 2
          }
         }
        }
       }
      }
     },
     "metadata": {},
     "output_type": "display_data"
    }
   ],
   "source": [
    "categories = ['accuracy', 'precision', 'recall', 'f1', 'f2', 'specificity', 'balanced accuracy', 'geometric mean']\n",
    "dataset_ref = [ 'no resampling, w/o sensitive attribute', 'no resampling, with sensitive attribute', \\\n",
    "                    'target-resample, w/o sensitive attribute', 'target-resample, with sensitive attribute', \\\n",
    "                    'sensitive-resample, w/o sensitive attribute', 'sensitive-resample, with sensitive attribute', \\\n",
    "                    'multivariate-resample, w/o sensitive attribute', 'multivariate-resample, with sensitive attribute']\n",
    "\n",
    "\n",
    "fig = go.Figure()\n",
    "\n",
    "for res_list,ref in zip(performance_results, dataset_ref):\n",
    "\n",
    "  fig.add_trace(go.Scatterpolar(\n",
    "        r=res_list,\n",
    "        theta=categories,\n",
    "        # fill='toself',\n",
    "        name=ref\n",
    "  ))\n",
    "\n",
    "\n",
    "fig.update_layout(\n",
    "  polar=dict(\n",
    "    radialaxis=dict(\n",
    "      visible=True,\n",
    "      range=[0, 1]\n",
    "    )),\n",
    "  showlegend=True\n",
    ")\n",
    "\n",
    "fig.show()"
   ]
  },
  {
   "cell_type": "markdown",
   "metadata": {},
   "source": [
    "Model fairness results"
   ]
  },
  {
   "cell_type": "code",
   "execution_count": 7,
   "metadata": {},
   "outputs": [
    {
     "data": {
      "application/vnd.plotly.v1+json": {
       "config": {
        "plotlyServerURL": "https://plot.ly"
       },
       "data": [
        {
         "name": "no resampling, w/o sensitive attribute",
         "r": [
          0.0030061999092696207,
          0.01639344262295082,
          0.015411712901805373,
          0.9596139941611417
         ],
         "theta": [
          "dem_par_diff",
          "eq_odd_diff",
          "eq_opp_diff",
          "disparate_impact_rat"
         ],
         "type": "scatterpolar"
        },
        {
         "name": "no resampling, with sensitive attribute",
         "r": [
          0.006150571205563046,
          0.038461538461538464,
          0.015411712901805373,
          0.9685572746286265
         ],
         "theta": [
          "dem_par_diff",
          "eq_odd_diff",
          "eq_opp_diff",
          "disparate_impact_rat"
         ],
         "type": "scatterpolar"
        },
        {
         "name": "target-resample, w/o sensitive attribute",
         "r": [
          0.10313396906996136,
          0.17803573757662716,
          0.5768383971818583,
          0.9399828919690613
         ],
         "theta": [
          "dem_par_diff",
          "eq_odd_diff",
          "eq_opp_diff",
          "disparate_impact_rat"
         ],
         "type": "scatterpolar"
        },
        {
         "name": "target-resample, with sensitive attribute",
         "r": [
          0.14481410001044276,
          0.16245350599256092,
          0.5922501100836636,
          0.8540390949223132
         ],
         "theta": [
          "dem_par_diff",
          "eq_odd_diff",
          "eq_opp_diff",
          "disparate_impact_rat"
         ],
         "type": "scatterpolar"
        },
        {
         "name": "sensitive-resample, w/o sensitive attribute",
         "r": [
          0.024996219567518525,
          0.05321507760532151,
          0.043593130779392336,
          1.2082457904653665
         ],
         "theta": [
          "dem_par_diff",
          "eq_odd_diff",
          "eq_opp_diff",
          "disparate_impact_rat"
         ],
         "type": "scatterpolar"
        },
        {
         "name": "sensitive-resample, with sensitive attribute",
         "r": [
          0.023671556026009375,
          0.050997782705099776,
          0.04095112285336856,
          1.0768827592910388
         ],
         "theta": [
          "dem_par_diff",
          "eq_odd_diff",
          "eq_opp_diff",
          "disparate_impact_rat"
         ],
         "type": "scatterpolar"
        },
        {
         "name": "multivariate-resample, w/o sensitive attribute",
         "r": [
          0.059811895894641864,
          0.251131221719457,
          0.4372523117569353,
          0.9742719876739948
         ],
         "theta": [
          "dem_par_diff",
          "eq_odd_diff",
          "eq_opp_diff",
          "disparate_impact_rat"
         ],
         "type": "scatterpolar"
        },
        {
         "name": "multivariate-resample, with sensitive attribute",
         "r": [
          0.07929943709128484,
          0.1780357375766271,
          0.4557463672391017,
          0.9148170931519328
         ],
         "theta": [
          "dem_par_diff",
          "eq_odd_diff",
          "eq_opp_diff",
          "disparate_impact_rat"
         ],
         "type": "scatterpolar"
        }
       ],
       "layout": {
        "polar": {
         "radialaxis": {
          "range": [
           0,
           1.27
          ],
          "visible": true
         }
        },
        "showlegend": true,
        "template": {
         "data": {
          "bar": [
           {
            "error_x": {
             "color": "#2a3f5f"
            },
            "error_y": {
             "color": "#2a3f5f"
            },
            "marker": {
             "line": {
              "color": "#E5ECF6",
              "width": 0.5
             },
             "pattern": {
              "fillmode": "overlay",
              "size": 10,
              "solidity": 0.2
             }
            },
            "type": "bar"
           }
          ],
          "barpolar": [
           {
            "marker": {
             "line": {
              "color": "#E5ECF6",
              "width": 0.5
             },
             "pattern": {
              "fillmode": "overlay",
              "size": 10,
              "solidity": 0.2
             }
            },
            "type": "barpolar"
           }
          ],
          "carpet": [
           {
            "aaxis": {
             "endlinecolor": "#2a3f5f",
             "gridcolor": "white",
             "linecolor": "white",
             "minorgridcolor": "white",
             "startlinecolor": "#2a3f5f"
            },
            "baxis": {
             "endlinecolor": "#2a3f5f",
             "gridcolor": "white",
             "linecolor": "white",
             "minorgridcolor": "white",
             "startlinecolor": "#2a3f5f"
            },
            "type": "carpet"
           }
          ],
          "choropleth": [
           {
            "colorbar": {
             "outlinewidth": 0,
             "ticks": ""
            },
            "type": "choropleth"
           }
          ],
          "contour": [
           {
            "colorbar": {
             "outlinewidth": 0,
             "ticks": ""
            },
            "colorscale": [
             [
              0,
              "#0d0887"
             ],
             [
              0.1111111111111111,
              "#46039f"
             ],
             [
              0.2222222222222222,
              "#7201a8"
             ],
             [
              0.3333333333333333,
              "#9c179e"
             ],
             [
              0.4444444444444444,
              "#bd3786"
             ],
             [
              0.5555555555555556,
              "#d8576b"
             ],
             [
              0.6666666666666666,
              "#ed7953"
             ],
             [
              0.7777777777777778,
              "#fb9f3a"
             ],
             [
              0.8888888888888888,
              "#fdca26"
             ],
             [
              1,
              "#f0f921"
             ]
            ],
            "type": "contour"
           }
          ],
          "contourcarpet": [
           {
            "colorbar": {
             "outlinewidth": 0,
             "ticks": ""
            },
            "type": "contourcarpet"
           }
          ],
          "heatmap": [
           {
            "colorbar": {
             "outlinewidth": 0,
             "ticks": ""
            },
            "colorscale": [
             [
              0,
              "#0d0887"
             ],
             [
              0.1111111111111111,
              "#46039f"
             ],
             [
              0.2222222222222222,
              "#7201a8"
             ],
             [
              0.3333333333333333,
              "#9c179e"
             ],
             [
              0.4444444444444444,
              "#bd3786"
             ],
             [
              0.5555555555555556,
              "#d8576b"
             ],
             [
              0.6666666666666666,
              "#ed7953"
             ],
             [
              0.7777777777777778,
              "#fb9f3a"
             ],
             [
              0.8888888888888888,
              "#fdca26"
             ],
             [
              1,
              "#f0f921"
             ]
            ],
            "type": "heatmap"
           }
          ],
          "heatmapgl": [
           {
            "colorbar": {
             "outlinewidth": 0,
             "ticks": ""
            },
            "colorscale": [
             [
              0,
              "#0d0887"
             ],
             [
              0.1111111111111111,
              "#46039f"
             ],
             [
              0.2222222222222222,
              "#7201a8"
             ],
             [
              0.3333333333333333,
              "#9c179e"
             ],
             [
              0.4444444444444444,
              "#bd3786"
             ],
             [
              0.5555555555555556,
              "#d8576b"
             ],
             [
              0.6666666666666666,
              "#ed7953"
             ],
             [
              0.7777777777777778,
              "#fb9f3a"
             ],
             [
              0.8888888888888888,
              "#fdca26"
             ],
             [
              1,
              "#f0f921"
             ]
            ],
            "type": "heatmapgl"
           }
          ],
          "histogram": [
           {
            "marker": {
             "pattern": {
              "fillmode": "overlay",
              "size": 10,
              "solidity": 0.2
             }
            },
            "type": "histogram"
           }
          ],
          "histogram2d": [
           {
            "colorbar": {
             "outlinewidth": 0,
             "ticks": ""
            },
            "colorscale": [
             [
              0,
              "#0d0887"
             ],
             [
              0.1111111111111111,
              "#46039f"
             ],
             [
              0.2222222222222222,
              "#7201a8"
             ],
             [
              0.3333333333333333,
              "#9c179e"
             ],
             [
              0.4444444444444444,
              "#bd3786"
             ],
             [
              0.5555555555555556,
              "#d8576b"
             ],
             [
              0.6666666666666666,
              "#ed7953"
             ],
             [
              0.7777777777777778,
              "#fb9f3a"
             ],
             [
              0.8888888888888888,
              "#fdca26"
             ],
             [
              1,
              "#f0f921"
             ]
            ],
            "type": "histogram2d"
           }
          ],
          "histogram2dcontour": [
           {
            "colorbar": {
             "outlinewidth": 0,
             "ticks": ""
            },
            "colorscale": [
             [
              0,
              "#0d0887"
             ],
             [
              0.1111111111111111,
              "#46039f"
             ],
             [
              0.2222222222222222,
              "#7201a8"
             ],
             [
              0.3333333333333333,
              "#9c179e"
             ],
             [
              0.4444444444444444,
              "#bd3786"
             ],
             [
              0.5555555555555556,
              "#d8576b"
             ],
             [
              0.6666666666666666,
              "#ed7953"
             ],
             [
              0.7777777777777778,
              "#fb9f3a"
             ],
             [
              0.8888888888888888,
              "#fdca26"
             ],
             [
              1,
              "#f0f921"
             ]
            ],
            "type": "histogram2dcontour"
           }
          ],
          "mesh3d": [
           {
            "colorbar": {
             "outlinewidth": 0,
             "ticks": ""
            },
            "type": "mesh3d"
           }
          ],
          "parcoords": [
           {
            "line": {
             "colorbar": {
              "outlinewidth": 0,
              "ticks": ""
             }
            },
            "type": "parcoords"
           }
          ],
          "pie": [
           {
            "automargin": true,
            "type": "pie"
           }
          ],
          "scatter": [
           {
            "fillpattern": {
             "fillmode": "overlay",
             "size": 10,
             "solidity": 0.2
            },
            "type": "scatter"
           }
          ],
          "scatter3d": [
           {
            "line": {
             "colorbar": {
              "outlinewidth": 0,
              "ticks": ""
             }
            },
            "marker": {
             "colorbar": {
              "outlinewidth": 0,
              "ticks": ""
             }
            },
            "type": "scatter3d"
           }
          ],
          "scattercarpet": [
           {
            "marker": {
             "colorbar": {
              "outlinewidth": 0,
              "ticks": ""
             }
            },
            "type": "scattercarpet"
           }
          ],
          "scattergeo": [
           {
            "marker": {
             "colorbar": {
              "outlinewidth": 0,
              "ticks": ""
             }
            },
            "type": "scattergeo"
           }
          ],
          "scattergl": [
           {
            "marker": {
             "colorbar": {
              "outlinewidth": 0,
              "ticks": ""
             }
            },
            "type": "scattergl"
           }
          ],
          "scattermapbox": [
           {
            "marker": {
             "colorbar": {
              "outlinewidth": 0,
              "ticks": ""
             }
            },
            "type": "scattermapbox"
           }
          ],
          "scatterpolar": [
           {
            "marker": {
             "colorbar": {
              "outlinewidth": 0,
              "ticks": ""
             }
            },
            "type": "scatterpolar"
           }
          ],
          "scatterpolargl": [
           {
            "marker": {
             "colorbar": {
              "outlinewidth": 0,
              "ticks": ""
             }
            },
            "type": "scatterpolargl"
           }
          ],
          "scatterternary": [
           {
            "marker": {
             "colorbar": {
              "outlinewidth": 0,
              "ticks": ""
             }
            },
            "type": "scatterternary"
           }
          ],
          "surface": [
           {
            "colorbar": {
             "outlinewidth": 0,
             "ticks": ""
            },
            "colorscale": [
             [
              0,
              "#0d0887"
             ],
             [
              0.1111111111111111,
              "#46039f"
             ],
             [
              0.2222222222222222,
              "#7201a8"
             ],
             [
              0.3333333333333333,
              "#9c179e"
             ],
             [
              0.4444444444444444,
              "#bd3786"
             ],
             [
              0.5555555555555556,
              "#d8576b"
             ],
             [
              0.6666666666666666,
              "#ed7953"
             ],
             [
              0.7777777777777778,
              "#fb9f3a"
             ],
             [
              0.8888888888888888,
              "#fdca26"
             ],
             [
              1,
              "#f0f921"
             ]
            ],
            "type": "surface"
           }
          ],
          "table": [
           {
            "cells": {
             "fill": {
              "color": "#EBF0F8"
             },
             "line": {
              "color": "white"
             }
            },
            "header": {
             "fill": {
              "color": "#C8D4E3"
             },
             "line": {
              "color": "white"
             }
            },
            "type": "table"
           }
          ]
         },
         "layout": {
          "annotationdefaults": {
           "arrowcolor": "#2a3f5f",
           "arrowhead": 0,
           "arrowwidth": 1
          },
          "autotypenumbers": "strict",
          "coloraxis": {
           "colorbar": {
            "outlinewidth": 0,
            "ticks": ""
           }
          },
          "colorscale": {
           "diverging": [
            [
             0,
             "#8e0152"
            ],
            [
             0.1,
             "#c51b7d"
            ],
            [
             0.2,
             "#de77ae"
            ],
            [
             0.3,
             "#f1b6da"
            ],
            [
             0.4,
             "#fde0ef"
            ],
            [
             0.5,
             "#f7f7f7"
            ],
            [
             0.6,
             "#e6f5d0"
            ],
            [
             0.7,
             "#b8e186"
            ],
            [
             0.8,
             "#7fbc41"
            ],
            [
             0.9,
             "#4d9221"
            ],
            [
             1,
             "#276419"
            ]
           ],
           "sequential": [
            [
             0,
             "#0d0887"
            ],
            [
             0.1111111111111111,
             "#46039f"
            ],
            [
             0.2222222222222222,
             "#7201a8"
            ],
            [
             0.3333333333333333,
             "#9c179e"
            ],
            [
             0.4444444444444444,
             "#bd3786"
            ],
            [
             0.5555555555555556,
             "#d8576b"
            ],
            [
             0.6666666666666666,
             "#ed7953"
            ],
            [
             0.7777777777777778,
             "#fb9f3a"
            ],
            [
             0.8888888888888888,
             "#fdca26"
            ],
            [
             1,
             "#f0f921"
            ]
           ],
           "sequentialminus": [
            [
             0,
             "#0d0887"
            ],
            [
             0.1111111111111111,
             "#46039f"
            ],
            [
             0.2222222222222222,
             "#7201a8"
            ],
            [
             0.3333333333333333,
             "#9c179e"
            ],
            [
             0.4444444444444444,
             "#bd3786"
            ],
            [
             0.5555555555555556,
             "#d8576b"
            ],
            [
             0.6666666666666666,
             "#ed7953"
            ],
            [
             0.7777777777777778,
             "#fb9f3a"
            ],
            [
             0.8888888888888888,
             "#fdca26"
            ],
            [
             1,
             "#f0f921"
            ]
           ]
          },
          "colorway": [
           "#636efa",
           "#EF553B",
           "#00cc96",
           "#ab63fa",
           "#FFA15A",
           "#19d3f3",
           "#FF6692",
           "#B6E880",
           "#FF97FF",
           "#FECB52"
          ],
          "font": {
           "color": "#2a3f5f"
          },
          "geo": {
           "bgcolor": "white",
           "lakecolor": "white",
           "landcolor": "#E5ECF6",
           "showlakes": true,
           "showland": true,
           "subunitcolor": "white"
          },
          "hoverlabel": {
           "align": "left"
          },
          "hovermode": "closest",
          "mapbox": {
           "style": "light"
          },
          "paper_bgcolor": "white",
          "plot_bgcolor": "#E5ECF6",
          "polar": {
           "angularaxis": {
            "gridcolor": "white",
            "linecolor": "white",
            "ticks": ""
           },
           "bgcolor": "#E5ECF6",
           "radialaxis": {
            "gridcolor": "white",
            "linecolor": "white",
            "ticks": ""
           }
          },
          "scene": {
           "xaxis": {
            "backgroundcolor": "#E5ECF6",
            "gridcolor": "white",
            "gridwidth": 2,
            "linecolor": "white",
            "showbackground": true,
            "ticks": "",
            "zerolinecolor": "white"
           },
           "yaxis": {
            "backgroundcolor": "#E5ECF6",
            "gridcolor": "white",
            "gridwidth": 2,
            "linecolor": "white",
            "showbackground": true,
            "ticks": "",
            "zerolinecolor": "white"
           },
           "zaxis": {
            "backgroundcolor": "#E5ECF6",
            "gridcolor": "white",
            "gridwidth": 2,
            "linecolor": "white",
            "showbackground": true,
            "ticks": "",
            "zerolinecolor": "white"
           }
          },
          "shapedefaults": {
           "line": {
            "color": "#2a3f5f"
           }
          },
          "ternary": {
           "aaxis": {
            "gridcolor": "white",
            "linecolor": "white",
            "ticks": ""
           },
           "baxis": {
            "gridcolor": "white",
            "linecolor": "white",
            "ticks": ""
           },
           "bgcolor": "#E5ECF6",
           "caxis": {
            "gridcolor": "white",
            "linecolor": "white",
            "ticks": ""
           }
          },
          "title": {
           "x": 0.05
          },
          "xaxis": {
           "automargin": true,
           "gridcolor": "white",
           "linecolor": "white",
           "ticks": "",
           "title": {
            "standoff": 15
           },
           "zerolinecolor": "white",
           "zerolinewidth": 2
          },
          "yaxis": {
           "automargin": true,
           "gridcolor": "white",
           "linecolor": "white",
           "ticks": "",
           "title": {
            "standoff": 15
           },
           "zerolinecolor": "white",
           "zerolinewidth": 2
          }
         }
        }
       }
      }
     },
     "metadata": {},
     "output_type": "display_data"
    }
   ],
   "source": [
    "categories = ['dem_par_diff', 'eq_odd_diff', 'eq_opp_diff', 'disparate_impact_rat']\n",
    "dataset_ref = [ 'no resampling, w/o sensitive attribute', 'no resampling, with sensitive attribute', \\\n",
    "                    'target-resample, w/o sensitive attribute', 'target-resample, with sensitive attribute', \\\n",
    "                    'sensitive-resample, w/o sensitive attribute', 'sensitive-resample, with sensitive attribute', \\\n",
    "                    'multivariate-resample, w/o sensitive attribute', 'multivariate-resample, with sensitive attribute']\n",
    "\n",
    "\n",
    "fig = go.Figure()\n",
    "\n",
    "for res_list,ref in zip(fairness_results, dataset_ref):\n",
    "\n",
    "  fig.add_trace(go.Scatterpolar(\n",
    "        r=res_list,\n",
    "        theta=categories,\n",
    "        # fill='toself',\n",
    "        name=ref\n",
    "  ))\n",
    "\n",
    "\n",
    "fig.update_layout(\n",
    "  polar=dict(\n",
    "    radialaxis=dict(\n",
    "      visible=True,\n",
    "      range=[0, 1.27]\n",
    "    )),\n",
    "  showlegend=True\n",
    ")\n",
    "\n",
    "fig.show()"
   ]
  }
 ],
 "metadata": {
  "kernelspec": {
   "display_name": "env",
   "language": "python",
   "name": "python3"
  },
  "language_info": {
   "codemirror_mode": {
    "name": "ipython",
    "version": 3
   },
   "file_extension": ".py",
   "mimetype": "text/x-python",
   "name": "python",
   "nbconvert_exporter": "python",
   "pygments_lexer": "ipython3",
   "version": "3.10.0"
  }
 },
 "nbformat": 4,
 "nbformat_minor": 2
}
