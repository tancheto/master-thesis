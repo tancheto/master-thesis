{
 "cells": [
  {
   "cell_type": "code",
   "execution_count": 186,
   "metadata": {},
   "outputs": [],
   "source": [
    "import numpy as np\n",
    "import pandas as pd\n",
    "from pathlib import Path\n",
    "import os\n",
    "\n",
    "from sklearn.tree import DecisionTreeClassifier\n",
    "from sklearn import metrics\n",
    "from sklearn.model_selection import GridSearchCV\n",
    "from sklearn.base import clone\n",
    "\n",
    "import matplotlib.pyplot as plt\n",
    "\n",
    "from fairlearn.metrics import MetricFrame, false_negative_rate, selection_rate\n",
    "\n",
    "import sys\n",
    "sys.path.append(os.path.abspath('..'))\n",
    "from util import evaluate_model_performance, evaluate_model_fairness"
   ]
  },
  {
   "cell_type": "markdown",
   "metadata": {},
   "source": [
    "Load train/test data from csv files"
   ]
  },
  {
   "cell_type": "code",
   "execution_count": 187,
   "metadata": {},
   "outputs": [],
   "source": [
    "data_path = Path(os.getcwd()).parent.parent / \"data\" / \"dataset_diabetes\" / \"clsf_data\"\n",
    "\n",
    "target_variable = \"readmit_30_days\"\n",
    "sensitive_attribute = \"race\"\n",
    "\n",
    "X_test = pd.read_csv(data_path / \"X_test_split.csv\")\n",
    "X_A_test = pd.read_csv(data_path / \"X_A_test_split.csv\")\n",
    "Y_test = pd.read_csv(data_path / \"Y_test_split.csv\")[target_variable]\n",
    "A_test = pd.read_csv(data_path / \"A_test_split.csv\")[sensitive_attribute]\n",
    "\n",
    "X_train = pd.read_csv(data_path / \"X_train_split.csv\")\n",
    "X_A_train = pd.read_csv(data_path / \"X_A_train_split.csv\")\n",
    "Y_train = pd.read_csv(data_path / \"Y_train_split.csv\")[target_variable]\n",
    "A_train = pd.read_csv(data_path / \"A_train_split.csv\")[sensitive_attribute]\n",
    "\n",
    "X_train_res_target_wos = pd.read_csv(data_path / \"X_train_res_target_wos.csv\")\n",
    "Y_train_res_target_wos = pd.read_csv(data_path / \"Y_train_res_target_wos.csv\")[target_variable]\n",
    "\n",
    "X_A_train_res_target_ws = pd.read_csv(data_path / \"X_A_train_res_target_ws.csv\")\n",
    "Y_train_res_target_ws = pd.read_csv(data_path / \"Y_train_res_target_ws.csv\")[target_variable]\n",
    "\n",
    "X_train_res_sensitive_wos = pd.read_csv(data_path / \"X_train_res_sensitive_wos.csv\")\n",
    "Y_train_res_sensitive_wos = pd.read_csv(data_path / \"Y_train_res_sensitive_wos.csv\")[target_variable]\n",
    "\n",
    "X_A_train_res_sensitive_ws = pd.read_csv(data_path / \"X_A_train_res_sensitive_ws.csv\")\n",
    "Y_train_res_sensitive_ws = pd.read_csv(data_path / \"Y_train_res_sensitive_ws.csv\")[target_variable]\n",
    "\n",
    "X_train_res_multiv_wos = pd.read_csv(data_path / \"X_train_res_multiv_wos.csv\")\n",
    "Y_train_res_multiv_wos = pd.read_csv(data_path / \"Y_train_res_multiv_wos.csv\")[target_variable]\n",
    "\n",
    "X_A_train_res_multiv_ws = pd.read_csv(data_path / \"X_A_train_res_multiv_ws.csv\")\n",
    "Y_train_res_multiv_ws = pd.read_csv(data_path / \"Y_train_res_multiv_ws.csv\")[target_variable]"
   ]
  },
  {
   "cell_type": "code",
   "execution_count": 188,
   "metadata": {},
   "outputs": [],
   "source": [
    "X_train_list = [X_train, X_A_train, X_train_res_target_wos, X_A_train_res_target_ws, X_train_res_sensitive_wos, \\\n",
    "              X_A_train_res_sensitive_ws, X_train_res_multiv_wos, X_A_train_res_multiv_ws]\n",
    "\n",
    "Y_train_list = [Y_train, Y_train, Y_train_res_target_wos, Y_train_res_target_ws, Y_train_res_sensitive_wos, \\\n",
    "                Y_train_res_sensitive_ws, Y_train_res_multiv_wos, Y_train_res_multiv_ws]\n",
    "\n",
    "X_test_list = [X_test, X_A_test, X_test, X_A_test, X_test, X_A_test, X_test, X_A_test]\n",
    "\n",
    "dataset_ref = [ 'no resampling, w/o sensitive attribute', 'no resampling, with sensitive attribute', \\\n",
    "                'target-resample, w/o sensitive attribute', 'target-resample, with sensitive attribute', \\\n",
    "                'sensitive-resample, w/o sensitive attribute', 'sensitive-resample, with sensitive attribute', \\\n",
    "                'multivariate-resample, w/o sensitive attribute', 'multivariate-resample, with sensitive attribute']"
   ]
  },
  {
   "cell_type": "code",
   "execution_count": 191,
   "metadata": {},
   "outputs": [],
   "source": [
    "def train_model_on_datasets(model):\n",
    "    for (X_train_i, Y_train_i, X_test_i, ref_i) in zip(X_train_list, Y_train_list, X_test_list, dataset_ref):\n",
    "        print()\n",
    "        print(ref_i)\n",
    "        model_copy = clone(model)\n",
    "        model_copy.fit(X_train_i, Y_train_i)\n",
    "        # Predicting on the test data\n",
    "        model_pred = model_copy.predict(X_test_i)\n",
    "        evaluate_model_performance(Y_test, model_pred)\n",
    "        evaluate_model_fairness(Y_test, model_pred, A_test)\n",
    "    "
   ]
  },
  {
   "attachments": {},
   "cell_type": "markdown",
   "metadata": {},
   "source": [
    "### Grid search?"
   ]
  },
  {
   "cell_type": "code",
   "execution_count": null,
   "metadata": {},
   "outputs": [],
   "source": [
    "# params =  {\n",
    "#     'criterion': ['gini', 'entropy', 'log_loss'],\n",
    "#     'max_depth': range(10,30)   \n",
    "# }\n",
    "\n",
    "# dtc = DecisionTreeClassifier(random_state=123)\n",
    "\n",
    "# grid_search = GridSearchCV(estimator=dtc,\n",
    "#                     param_grid=params,\n",
    "#                     scoring='recall')\n",
    "\n",
    "# grid_search.fit(X_train, Y_train)"
   ]
  },
  {
   "cell_type": "code",
   "execution_count": 151,
   "metadata": {},
   "outputs": [
    {
     "data": {
      "text/plain": [
       "(nan, {'criterion': 'gini', 'max_depth': 10})"
      ]
     },
     "execution_count": 151,
     "metadata": {},
     "output_type": "execute_result"
    }
   ],
   "source": [
    "# grid_search.best_score_, grid_search.best_params_"
   ]
  },
  {
   "attachments": {},
   "cell_type": "markdown",
   "metadata": {},
   "source": [
    "### Decision tree"
   ]
  },
  {
   "cell_type": "code",
   "execution_count": 192,
   "metadata": {},
   "outputs": [
    {
     "name": "stdout",
     "output_type": "stream",
     "text": [
      "\n",
      "no resampling, w/o sensitive attribute\n",
      "The accuracy score for the testing data: 0.8844887731538348\n",
      "The precision score for the testing data: 0.22602739726027396\n",
      "The recall score for the testing data: 0.01453104359313078\n",
      "The F1 score for the testing data: 0.0273065784029789\n",
      "The F2 score for the testing data: 0.017876489707475626\n",
      "The specificity score for the testing data: 0.9937506912952107\n",
      "The balanced accuracy score for the testing data: 0.5041408674441707\n",
      "The G mean score for the testing data: 0.12016752729383492\n",
      "[[17969   113]\n",
      " [ 2238    33]]\n",
      "The Demographic parity difference score for the testing data: 0.002592427858118065\n",
      "The Equalized odds difference score for the testing data: 0.01522248243559719\n",
      "The Equal opportunity difference score for the testing data: 0.01453104359313078\n",
      "\n",
      "no resampling, with sensitive attribute\n"
     ]
    },
    {
     "name": "stderr",
     "output_type": "stream",
     "text": [
      "c:\\Users\\Tanya\\Desktop\\TANYA\\FMI\\Masters\\thesis\\src\\env\\lib\\site-packages\\sklearn\\metrics\\_classification.py:1344: UndefinedMetricWarning: Recall is ill-defined and being set to 0.0 due to no true samples. Use `zero_division` parameter to control this behavior.\n",
      "  _warn_prf(average, modifier, msg_start, len(result))\n"
     ]
    },
    {
     "name": "stdout",
     "output_type": "stream",
     "text": [
      "The accuracy score for the testing data: 0.8842922419299366\n",
      "The precision score for the testing data: 0.2236842105263158\n",
      "The recall score for the testing data: 0.014971378247468076\n",
      "The F1 score for the testing data: 0.028064382996285595\n",
      "The F2 score for the testing data: 0.018406236466002597\n",
      "The specificity score for the testing data: 0.993474173210928\n",
      "The balanced accuracy score for the testing data: 0.504222775729198\n",
      "The G mean score for the testing data: 0.12195768785210476\n",
      "[[17964   118]\n",
      " [ 2237    34]]\n",
      "The Demographic parity difference score for the testing data: 0.007356843823174626\n",
      "The Equalized odds difference score for the testing data: 0.038461538461538464\n",
      "The Equal opportunity difference score for the testing data: 0.014971378247468076\n",
      "\n",
      "target-resample, w/o sensitive attribute\n"
     ]
    },
    {
     "name": "stderr",
     "output_type": "stream",
     "text": [
      "c:\\Users\\Tanya\\Desktop\\TANYA\\FMI\\Masters\\thesis\\src\\env\\lib\\site-packages\\sklearn\\metrics\\_classification.py:1344: UndefinedMetricWarning: Recall is ill-defined and being set to 0.0 due to no true samples. Use `zero_division` parameter to control this behavior.\n",
      "  _warn_prf(average, modifier, msg_start, len(result))\n"
     ]
    },
    {
     "name": "stdout",
     "output_type": "stream",
     "text": [
      "The accuracy score for the testing data: 0.5981919127401366\n",
      "The precision score for the testing data: 0.1538731981718036\n",
      "The recall score for the testing data: 0.5781594011448701\n",
      "The F1 score for the testing data: 0.24305812661977047\n",
      "The F2 score for the testing data: 0.3726514162456718\n",
      "The specificity score for the testing data: 0.6007078862957638\n",
      "The balanced accuracy score for the testing data: 0.5894336437203169\n",
      "The G mean score for the testing data: 0.5893258112485482\n",
      "[[10862  7220]\n",
      " [  958  1313]]\n",
      "The Demographic parity difference score for the testing data: 0.10331607059287651\n",
      "The Equalized odds difference score for the testing data: 0.18025303247684887\n",
      "The Equal opportunity difference score for the testing data: 0.5781594011448701\n",
      "\n",
      "target-resample, with sensitive attribute\n"
     ]
    },
    {
     "name": "stderr",
     "output_type": "stream",
     "text": [
      "c:\\Users\\Tanya\\Desktop\\TANYA\\FMI\\Masters\\thesis\\src\\env\\lib\\site-packages\\sklearn\\metrics\\_classification.py:1344: UndefinedMetricWarning: Recall is ill-defined and being set to 0.0 due to no true samples. Use `zero_division` parameter to control this behavior.\n",
      "  _warn_prf(average, modifier, msg_start, len(result))\n"
     ]
    },
    {
     "name": "stdout",
     "output_type": "stream",
     "text": [
      "The accuracy score for the testing data: 0.5910185230678524\n",
      "The precision score for the testing data: 0.1516058478185795\n",
      "The recall score for the testing data: 0.5799207397622193\n",
      "The F1 score for the testing data: 0.2403723307172842\n",
      "The F2 score for the testing data: 0.3705475212424737\n",
      "The specificity score for the testing data: 0.5924123437672824\n",
      "The balanced accuracy score for the testing data: 0.5861665417647508\n",
      "The G mean score for the testing data: 0.5861332652578187\n",
      "[[10712  7370]\n",
      " [  954  1317]]\n",
      "The Demographic parity difference score for the testing data: 0.11822736537576434\n",
      "The Equalized odds difference score for the testing data: 0.14664554346328695\n",
      "The Equal opportunity difference score for the testing data: 0.5799207397622193\n",
      "\n",
      "sensitive-resample, w/o sensitive attribute\n"
     ]
    },
    {
     "name": "stderr",
     "output_type": "stream",
     "text": [
      "c:\\Users\\Tanya\\Desktop\\TANYA\\FMI\\Masters\\thesis\\src\\env\\lib\\site-packages\\sklearn\\metrics\\_classification.py:1344: UndefinedMetricWarning: Recall is ill-defined and being set to 0.0 due to no true samples. Use `zero_division` parameter to control this behavior.\n",
      "  _warn_prf(average, modifier, msg_start, len(result))\n"
     ]
    },
    {
     "name": "stdout",
     "output_type": "stream",
     "text": [
      "The accuracy score for the testing data: 0.8674888222866408\n",
      "The precision score for the testing data: 0.1640378548895899\n",
      "The recall score for the testing data: 0.04579480405107882\n",
      "The F1 score for the testing data: 0.07160068846815835\n",
      "The F2 score for the testing data: 0.05350895245935378\n",
      "The specificity score for the testing data: 0.9706890830660325\n",
      "The balanced accuracy score for the testing data: 0.5082419435585557\n",
      "The G mean score for the testing data: 0.2108376540220706\n",
      "[[17552   530]\n",
      " [ 2167   104]]\n",
      "The Demographic parity difference score for the testing data: 0.023375170119461663\n",
      "The Equalized odds difference score for the testing data: 0.05321507760532151\n",
      "The Equal opportunity difference score for the testing data: 0.04579480405107882\n",
      "\n",
      "sensitive-resample, with sensitive attribute\n"
     ]
    },
    {
     "name": "stderr",
     "output_type": "stream",
     "text": [
      "c:\\Users\\Tanya\\Desktop\\TANYA\\FMI\\Masters\\thesis\\src\\env\\lib\\site-packages\\sklearn\\metrics\\_classification.py:1344: UndefinedMetricWarning: Recall is ill-defined and being set to 0.0 due to no true samples. Use `zero_division` parameter to control this behavior.\n",
      "  _warn_prf(average, modifier, msg_start, len(result))\n"
     ]
    },
    {
     "name": "stdout",
     "output_type": "stream",
     "text": [
      "The accuracy score for the testing data: 0.8644917211221933\n",
      "The precision score for the testing data: 0.14964028776978416\n",
      "The recall score for the testing data: 0.04579480405107882\n",
      "The F1 score for the testing data: 0.07012811867835468\n",
      "The F2 score for the testing data: 0.05317517128540751\n",
      "The specificity score for the testing data: 0.9673155624377834\n",
      "The balanced accuracy score for the testing data: 0.506555183244431\n",
      "The G mean score for the testing data: 0.2104709638819507\n",
      "[[17491   591]\n",
      " [ 2167   104]]\n",
      "The Demographic parity difference score for the testing data: 0.024403447754423102\n",
      "The Equalized odds difference score for the testing data: 0.0598669623059867\n",
      "The Equal opportunity difference score for the testing data: 0.04579480405107882\n",
      "\n",
      "multivariate-resample, w/o sensitive attribute\n",
      "The accuracy score for the testing data: 0.623544440623004\n",
      "The precision score for the testing data: 0.1347065998102724\n",
      "The recall score for the testing data: 0.4376926464112726\n"
     ]
    },
    {
     "name": "stderr",
     "output_type": "stream",
     "text": [
      "c:\\Users\\Tanya\\Desktop\\TANYA\\FMI\\Masters\\thesis\\src\\env\\lib\\site-packages\\sklearn\\metrics\\_classification.py:1344: UndefinedMetricWarning: Recall is ill-defined and being set to 0.0 due to no true samples. Use `zero_division` parameter to control this behavior.\n",
      "  _warn_prf(average, modifier, msg_start, len(result))\n",
      "c:\\Users\\Tanya\\Desktop\\TANYA\\FMI\\Masters\\thesis\\src\\env\\lib\\site-packages\\sklearn\\metrics\\_classification.py:1344: UndefinedMetricWarning: Recall is ill-defined and being set to 0.0 due to no true samples. Use `zero_division` parameter to control this behavior.\n",
      "  _warn_prf(average, modifier, msg_start, len(result))\n"
     ]
    },
    {
     "name": "stdout",
     "output_type": "stream",
     "text": [
      "The F1 score for the testing data: 0.20601036269430048\n",
      "The F2 score for the testing data: 0.3018890846139829\n",
      "The specificity score for the testing data: 0.6468864063709766\n",
      "The balanced accuracy score for the testing data: 0.5422895263911246\n",
      "The G mean score for the testing data: 0.5321065900099252\n",
      "[[11697  6385]\n",
      " [ 1277   994]]\n",
      "The Demographic parity difference score for the testing data: 0.06074267171527692\n",
      "The Equalized odds difference score for the testing data: 0.23831070889894418\n",
      "The Equal opportunity difference score for the testing data: 0.4376926464112726\n",
      "\n",
      "multivariate-resample, with sensitive attribute\n",
      "The accuracy score for the testing data: 0.6105242470397484\n",
      "The precision score for the testing data: 0.13453088653398812\n",
      "The recall score for the testing data: 0.4583883751651255\n",
      "The F1 score for the testing data: 0.2080127884903587\n",
      "The F2 score for the testing data: 0.30941624063726075\n",
      "The specificity score for the testing data: 0.6296316779117355\n",
      "The balanced accuracy score for the testing data: 0.5440100265384304\n",
      "The G mean score for the testing data: 0.5372297849062838\n",
      "[[11385  6697]\n",
      " [ 1230  1041]]\n",
      "The Demographic parity difference score for the testing data: 0.05817828485625415\n",
      "The Equalized odds difference score for the testing data: 0.20361990950226244\n",
      "The Equal opportunity difference score for the testing data: 0.4583883751651255\n"
     ]
    },
    {
     "name": "stderr",
     "output_type": "stream",
     "text": [
      "c:\\Users\\Tanya\\Desktop\\TANYA\\FMI\\Masters\\thesis\\src\\env\\lib\\site-packages\\sklearn\\metrics\\_classification.py:1344: UndefinedMetricWarning: Recall is ill-defined and being set to 0.0 due to no true samples. Use `zero_division` parameter to control this behavior.\n",
      "  _warn_prf(average, modifier, msg_start, len(result))\n"
     ]
    }
   ],
   "source": [
    "decision_tree = DecisionTreeClassifier(criterion='entropy', max_depth=10)\n",
    "train_model_on_datasets(decision_tree)\n",
    "\n",
    "# for (X_train_i, Y_train_i, X_test_i, ref_i) in zip(X_train_list, Y_train_list, X_test_list, dataset_ref):\n",
    "#     print(ref_i)\n",
    "#     model_copy = clone(decision_tree)\n",
    "#     model_copy.fit(X_train_i, Y_train_i)\n",
    "#     # Predicting on the test data\n",
    "#     model_pred = model_copy.predict(X_test_i)\n",
    "#     evaluate_model_performance(Y_test, model_pred)\n",
    "#     evaluate_model_fairness(Y_test, model_pred, A_test)\n"
   ]
  },
  {
   "cell_type": "code",
   "execution_count": 161,
   "metadata": {},
   "outputs": [
    {
     "data": {
      "text/plain": [
       "<sklearn.metrics._plot.roc_curve.RocCurveDisplay at 0x29aa71f0880>"
      ]
     },
     "execution_count": 161,
     "metadata": {},
     "output_type": "execute_result"
    },
    {
     "data": {
      "image/png": "[encoded data removed]",
      "text/plain": [
       "<Figure size 640x480 with 1 Axes>"
      ]
     },
     "metadata": {},
     "output_type": "display_data"
    }
   ],
   "source": [
    "metrics.RocCurveDisplay.from_estimator(decision_tree, X_test, Y_test)"
   ]
  },
  {
   "attachments": {},
   "cell_type": "markdown",
   "metadata": {},
   "source": [
    "### Inspect feature importance"
   ]
  },
  {
   "cell_type": "code",
   "execution_count": 163,
   "metadata": {},
   "outputs": [
    {
     "data": {
      "text/plain": [
       "<matplotlib.legend.Legend at 0x29aa73d2f80>"
      ]
     },
     "execution_count": 163,
     "metadata": {},
     "output_type": "execute_result"
    },
    {
     "data": {
      "image/png": "[encoded data removed]",
      "text/plain": [
       "<Figure size 500x300 with 1 Axes>"
      ]
     },
     "metadata": {},
     "output_type": "display_data"
    }
   ],
   "source": [
    "fig, ax = plt.subplots()\n",
    "\n",
    "feat_importances = pd.DataFrame(decision_tree.feature_importances_[:11], index=X_train.columns[:11], columns=[\"Importance\"])\n",
    "feat_importances.sort_values(by='Importance', ascending=False, inplace=True)\n",
    "feat_importances.plot(kind='bar', figsize=(5,3), ax=ax)\n",
    "#ax = df.plot(kind='bar') # \"same\" as above\n",
    "ax.legend([\"Важност на атрибут\"])"
   ]
  },
  {
   "attachments": {},
   "cell_type": "markdown",
   "metadata": {},
   "source": [
    "### Further fairness assessment of the baseline model"
   ]
  },
  {
   "attachments": {},
   "cell_type": "markdown",
   "metadata": {},
   "source": [
    "Disaggregated metrics"
   ]
  },
  {
   "cell_type": "code",
   "execution_count": 164,
   "metadata": {},
   "outputs": [
    {
     "data": {
      "text/html": [
       "<div>\n",
       "<style scoped>\n",
       "    .dataframe tbody tr th:only-of-type {\n",
       "        vertical-align: middle;\n",
       "    }\n",
       "\n",
       "    .dataframe tbody tr th {\n",
       "        vertical-align: top;\n",
       "    }\n",
       "\n",
       "    .dataframe thead th {\n",
       "        text-align: right;\n",
       "    }\n",
       "</style>\n",
       "<table border=\"1\" class=\"dataframe\">\n",
       "  <thead>\n",
       "    <tr style=\"text-align: right;\">\n",
       "      <th></th>\n",
       "      <th>selection_rate</th>\n",
       "      <th>recall</th>\n",
       "      <th>balanced_accuracy</th>\n",
       "    </tr>\n",
       "    <tr>\n",
       "      <th>race</th>\n",
       "      <th></th>\n",
       "      <th></th>\n",
       "      <th></th>\n",
       "    </tr>\n",
       "  </thead>\n",
       "  <tbody>\n",
       "    <tr>\n",
       "      <th>AfricanAmerican</th>\n",
       "      <td>0.346402</td>\n",
       "      <td>0.478299</td>\n",
       "      <td>0.574924</td>\n",
       "    </tr>\n",
       "    <tr>\n",
       "      <th>Caucasian</th>\n",
       "      <td>0.351166</td>\n",
       "      <td>0.473759</td>\n",
       "      <td>0.568927</td>\n",
       "    </tr>\n",
       "    <tr>\n",
       "      <th>Other</th>\n",
       "      <td>0.311406</td>\n",
       "      <td>0.5</td>\n",
       "      <td>0.605368</td>\n",
       "    </tr>\n",
       "    <tr>\n",
       "      <th>Unknown</th>\n",
       "      <td>0.263016</td>\n",
       "      <td>0.319149</td>\n",
       "      <td>0.530653</td>\n",
       "    </tr>\n",
       "  </tbody>\n",
       "</table>\n",
       "</div>"
      ],
      "text/plain": [
       "                selection_rate    recall balanced_accuracy\n",
       "race                                                      \n",
       "AfricanAmerican       0.346402  0.478299          0.574924\n",
       "Caucasian             0.351166  0.473759          0.568927\n",
       "Other                 0.311406       0.5          0.605368\n",
       "Unknown               0.263016  0.319149          0.530653"
      ]
     },
     "execution_count": 164,
     "metadata": {},
     "output_type": "execute_result"
    }
   ],
   "source": [
    "metrics_dict = {\n",
    "    \"selection_rate\": selection_rate,\n",
    "    \"recall\": metrics.recall_score,\n",
    "    \"balanced_accuracy\": metrics.balanced_accuracy_score\n",
    "}\n",
    "\n",
    "metricframe_baseline = MetricFrame(metrics=metrics_dict,\n",
    "                  y_true=Y_test,\n",
    "                  y_pred=decision_tree_pred,\n",
    "                  sensitive_features=A_test)\n",
    "\n",
    "metricframe_baseline.by_group"
   ]
  },
  {
   "attachments": {},
   "cell_type": "markdown",
   "metadata": {},
   "source": [
    "Statistics about the metrics"
   ]
  },
  {
   "cell_type": "code",
   "execution_count": 165,
   "metadata": {},
   "outputs": [
    {
     "data": {
      "text/html": [
       "<div>\n",
       "<style scoped>\n",
       "    .dataframe tbody tr th:only-of-type {\n",
       "        vertical-align: middle;\n",
       "    }\n",
       "\n",
       "    .dataframe tbody tr th {\n",
       "        vertical-align: top;\n",
       "    }\n",
       "\n",
       "    .dataframe thead th {\n",
       "        text-align: right;\n",
       "    }\n",
       "</style>\n",
       "<table border=\"1\" class=\"dataframe\">\n",
       "  <thead>\n",
       "    <tr style=\"text-align: right;\">\n",
       "      <th></th>\n",
       "      <th>selection_rate</th>\n",
       "      <th>recall</th>\n",
       "      <th>balanced_accuracy</th>\n",
       "    </tr>\n",
       "  </thead>\n",
       "  <tbody>\n",
       "    <tr>\n",
       "      <th>difference</th>\n",
       "      <td>0.08815</td>\n",
       "      <td>0.180851</td>\n",
       "      <td>0.074715</td>\n",
       "    </tr>\n",
       "    <tr>\n",
       "      <th>ratio</th>\n",
       "      <td>0.74898</td>\n",
       "      <td>0.638298</td>\n",
       "      <td>0.87658</td>\n",
       "    </tr>\n",
       "    <tr>\n",
       "      <th>group_min</th>\n",
       "      <td>0.263016</td>\n",
       "      <td>0.319149</td>\n",
       "      <td>0.530653</td>\n",
       "    </tr>\n",
       "    <tr>\n",
       "      <th>group_max</th>\n",
       "      <td>0.351166</td>\n",
       "      <td>0.5</td>\n",
       "      <td>0.605368</td>\n",
       "    </tr>\n",
       "  </tbody>\n",
       "</table>\n",
       "</div>"
      ],
      "text/plain": [
       "           selection_rate    recall balanced_accuracy\n",
       "difference        0.08815  0.180851          0.074715\n",
       "ratio             0.74898  0.638298           0.87658\n",
       "group_min        0.263016  0.319149          0.530653\n",
       "group_max        0.351166       0.5          0.605368"
      ]
     },
     "execution_count": 165,
     "metadata": {},
     "output_type": "execute_result"
    }
   ],
   "source": [
    "pd.DataFrame({'difference': metricframe_baseline.difference(),\n",
    "              'ratio': metricframe_baseline.ratio(),\n",
    "              'group_min': metricframe_baseline.group_min(),\n",
    "              'group_max': metricframe_baseline.group_max()}).T"
   ]
  },
  {
   "attachments": {},
   "cell_type": "markdown",
   "metadata": {},
   "source": [
    "Plot"
   ]
  },
  {
   "cell_type": "code",
   "execution_count": 166,
   "metadata": {},
   "outputs": [
    {
     "data": {
      "text/plain": [
       "array([[<Axes: title={'center': 'selection_rate'}, xlabel='race'>,\n",
       "        <Axes: title={'center': 'recall'}, xlabel='race'>,\n",
       "        <Axes: title={'center': 'balanced_accuracy'}, xlabel='race'>]],\n",
       "      dtype=object)"
      ]
     },
     "execution_count": 166,
     "metadata": {},
     "output_type": "execute_result"
    },
    {
     "data": {
      "image/png": "[encoded data removed]",
      "text/plain": [
       "<Figure size 1200x400 with 3 Axes>"
      ]
     },
     "metadata": {},
     "output_type": "display_data"
    }
   ],
   "source": [
    "metricframe_baseline.by_group.plot.bar(subplots=True, layout= [1,3], figsize=(12, 4),\n",
    "                                       legend=False, rot=-45, position=1.5)"
   ]
  }
 ],
 "metadata": {
  "kernelspec": {
   "display_name": "env",
   "language": "python",
   "name": "python3"
  },
  "language_info": {
   "codemirror_mode": {
    "name": "ipython",
    "version": 3
   },
   "file_extension": ".py",
   "mimetype": "text/x-python",
   "name": "python",
   "nbconvert_exporter": "python",
   "pygments_lexer": "ipython3",
   "version": "3.10.0"
  },
  "orig_nbformat": 4
 },
 "nbformat": 4,
 "nbformat_minor": 2
}
